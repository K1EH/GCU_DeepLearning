{
 "cells": [
  {
   "cell_type": "code",
   "execution_count": 1,
   "id": "d0027cba",
   "metadata": {},
   "outputs": [
    {
     "name": "stderr",
     "output_type": "stream",
     "text": [
      "C:\\Users\\takea\\anaconda3\\lib\\site-packages\\scipy\\__init__.py:146: UserWarning: A NumPy version >=1.16.5 and <1.23.0 is required for this version of SciPy (detected version 1.24.3\n",
      "  warnings.warn(f\"A NumPy version >={np_minversion} and <{np_maxversion}\"\n"
     ]
    }
   ],
   "source": [
    "import numpy as np\n",
    "\n",
    "import pandas as pd\n",
    "\n",
    "import seaborn as sns\n",
    "\n",
    "import matplotlib.pyplot as plt\n",
    "\n",
    "import warnings\n",
    "warnings.filterwarnings('ignore')"
   ]
  },
  {
   "cell_type": "code",
   "execution_count": 4,
   "id": "9a440064",
   "metadata": {},
   "outputs": [
    {
     "data": {
      "text/html": [
       "<div>\n",
       "<style scoped>\n",
       "    .dataframe tbody tr th:only-of-type {\n",
       "        vertical-align: middle;\n",
       "    }\n",
       "\n",
       "    .dataframe tbody tr th {\n",
       "        vertical-align: top;\n",
       "    }\n",
       "\n",
       "    .dataframe thead th {\n",
       "        text-align: right;\n",
       "    }\n",
       "</style>\n",
       "<table border=\"1\" class=\"dataframe\">\n",
       "  <thead>\n",
       "    <tr style=\"text-align: right;\">\n",
       "      <th></th>\n",
       "      <th>Area</th>\n",
       "      <th>MajorAxisLength</th>\n",
       "      <th>MinorAxisLength</th>\n",
       "      <th>Eccentricity</th>\n",
       "      <th>ConvexArea</th>\n",
       "      <th>Extent</th>\n",
       "      <th>Perimeter</th>\n",
       "      <th>Class</th>\n",
       "    </tr>\n",
       "  </thead>\n",
       "  <tbody>\n",
       "    <tr>\n",
       "      <th>0</th>\n",
       "      <td>87524</td>\n",
       "      <td>442.246011</td>\n",
       "      <td>253.291155</td>\n",
       "      <td>0.819738</td>\n",
       "      <td>90546</td>\n",
       "      <td>0.758651</td>\n",
       "      <td>1184.040</td>\n",
       "      <td>Kecimen</td>\n",
       "    </tr>\n",
       "    <tr>\n",
       "      <th>1</th>\n",
       "      <td>75166</td>\n",
       "      <td>406.690687</td>\n",
       "      <td>243.032436</td>\n",
       "      <td>0.801805</td>\n",
       "      <td>78789</td>\n",
       "      <td>0.684130</td>\n",
       "      <td>1121.786</td>\n",
       "      <td>Kecimen</td>\n",
       "    </tr>\n",
       "    <tr>\n",
       "      <th>2</th>\n",
       "      <td>90856</td>\n",
       "      <td>442.267048</td>\n",
       "      <td>266.328318</td>\n",
       "      <td>0.798354</td>\n",
       "      <td>93717</td>\n",
       "      <td>0.637613</td>\n",
       "      <td>1208.575</td>\n",
       "      <td>Kecimen</td>\n",
       "    </tr>\n",
       "    <tr>\n",
       "      <th>3</th>\n",
       "      <td>45928</td>\n",
       "      <td>286.540559</td>\n",
       "      <td>208.760042</td>\n",
       "      <td>0.684989</td>\n",
       "      <td>47336</td>\n",
       "      <td>0.699599</td>\n",
       "      <td>844.162</td>\n",
       "      <td>Kecimen</td>\n",
       "    </tr>\n",
       "    <tr>\n",
       "      <th>4</th>\n",
       "      <td>79408</td>\n",
       "      <td>352.190770</td>\n",
       "      <td>290.827533</td>\n",
       "      <td>0.564011</td>\n",
       "      <td>81463</td>\n",
       "      <td>0.792772</td>\n",
       "      <td>1073.251</td>\n",
       "      <td>Kecimen</td>\n",
       "    </tr>\n",
       "    <tr>\n",
       "      <th>...</th>\n",
       "      <td>...</td>\n",
       "      <td>...</td>\n",
       "      <td>...</td>\n",
       "      <td>...</td>\n",
       "      <td>...</td>\n",
       "      <td>...</td>\n",
       "      <td>...</td>\n",
       "      <td>...</td>\n",
       "    </tr>\n",
       "    <tr>\n",
       "      <th>895</th>\n",
       "      <td>83248</td>\n",
       "      <td>430.077308</td>\n",
       "      <td>247.838695</td>\n",
       "      <td>0.817263</td>\n",
       "      <td>85839</td>\n",
       "      <td>0.668793</td>\n",
       "      <td>1129.072</td>\n",
       "      <td>Besni</td>\n",
       "    </tr>\n",
       "    <tr>\n",
       "      <th>896</th>\n",
       "      <td>87350</td>\n",
       "      <td>440.735698</td>\n",
       "      <td>259.293149</td>\n",
       "      <td>0.808629</td>\n",
       "      <td>90899</td>\n",
       "      <td>0.636476</td>\n",
       "      <td>1214.252</td>\n",
       "      <td>Besni</td>\n",
       "    </tr>\n",
       "    <tr>\n",
       "      <th>897</th>\n",
       "      <td>99657</td>\n",
       "      <td>431.706981</td>\n",
       "      <td>298.837323</td>\n",
       "      <td>0.721684</td>\n",
       "      <td>106264</td>\n",
       "      <td>0.741099</td>\n",
       "      <td>1292.828</td>\n",
       "      <td>Besni</td>\n",
       "    </tr>\n",
       "    <tr>\n",
       "      <th>898</th>\n",
       "      <td>93523</td>\n",
       "      <td>476.344094</td>\n",
       "      <td>254.176054</td>\n",
       "      <td>0.845739</td>\n",
       "      <td>97653</td>\n",
       "      <td>0.658798</td>\n",
       "      <td>1258.548</td>\n",
       "      <td>Besni</td>\n",
       "    </tr>\n",
       "    <tr>\n",
       "      <th>899</th>\n",
       "      <td>85609</td>\n",
       "      <td>512.081774</td>\n",
       "      <td>215.271976</td>\n",
       "      <td>0.907345</td>\n",
       "      <td>89197</td>\n",
       "      <td>0.632020</td>\n",
       "      <td>1272.862</td>\n",
       "      <td>Besni</td>\n",
       "    </tr>\n",
       "  </tbody>\n",
       "</table>\n",
       "<p>900 rows × 8 columns</p>\n",
       "</div>"
      ],
      "text/plain": [
       "      Area  MajorAxisLength  MinorAxisLength  Eccentricity  ConvexArea  \\\n",
       "0    87524       442.246011       253.291155      0.819738       90546   \n",
       "1    75166       406.690687       243.032436      0.801805       78789   \n",
       "2    90856       442.267048       266.328318      0.798354       93717   \n",
       "3    45928       286.540559       208.760042      0.684989       47336   \n",
       "4    79408       352.190770       290.827533      0.564011       81463   \n",
       "..     ...              ...              ...           ...         ...   \n",
       "895  83248       430.077308       247.838695      0.817263       85839   \n",
       "896  87350       440.735698       259.293149      0.808629       90899   \n",
       "897  99657       431.706981       298.837323      0.721684      106264   \n",
       "898  93523       476.344094       254.176054      0.845739       97653   \n",
       "899  85609       512.081774       215.271976      0.907345       89197   \n",
       "\n",
       "       Extent  Perimeter    Class  \n",
       "0    0.758651   1184.040  Kecimen  \n",
       "1    0.684130   1121.786  Kecimen  \n",
       "2    0.637613   1208.575  Kecimen  \n",
       "3    0.699599    844.162  Kecimen  \n",
       "4    0.792772   1073.251  Kecimen  \n",
       "..        ...        ...      ...  \n",
       "895  0.668793   1129.072    Besni  \n",
       "896  0.636476   1214.252    Besni  \n",
       "897  0.741099   1292.828    Besni  \n",
       "898  0.658798   1258.548    Besni  \n",
       "899  0.632020   1272.862    Besni  \n",
       "\n",
       "[900 rows x 8 columns]"
      ]
     },
     "execution_count": 4,
     "metadata": {},
     "output_type": "execute_result"
    }
   ],
   "source": [
    "# Excel 파일을 읽어 데이터프레임으로 저장\n",
    "data = pd.read_excel(r'C:\\Users\\takea\\Desktop\\DL\\datasets\\week2\\Raisin_Dataset\\Raisin_Dataset.xlsx', \n",
    "        sheet_name='Raisin_Grains_Dataset')\n",
    "data"
   ]
  },
  {
   "cell_type": "code",
   "execution_count": 48,
   "id": "f4f086a4",
   "metadata": {
    "scrolled": true
   },
   "outputs": [
    {
     "ename": "KeyError",
     "evalue": "\"['perimeter'] not found in axis\"",
     "output_type": "error",
     "traceback": [
      "\u001b[1;31m---------------------------------------------------------------------------\u001b[0m",
      "\u001b[1;31mKeyError\u001b[0m                                  Traceback (most recent call last)",
      "\u001b[1;32m~\\AppData\\Local\\Temp/ipykernel_28960/1378054065.py\u001b[0m in \u001b[0;36m<module>\u001b[1;34m\u001b[0m\n\u001b[1;32m----> 1\u001b[1;33m \u001b[0mdata\u001b[0m\u001b[1;33m.\u001b[0m\u001b[0mdrop\u001b[0m\u001b[1;33m(\u001b[0m\u001b[0mcolumns\u001b[0m\u001b[1;33m=\u001b[0m\u001b[1;33m[\u001b[0m\u001b[1;34m'Area'\u001b[0m\u001b[1;33m,\u001b[0m \u001b[1;34m'MajorAxisLength'\u001b[0m\u001b[1;33m,\u001b[0m \u001b[1;34m'perimeter'\u001b[0m\u001b[1;33m]\u001b[0m\u001b[1;33m,\u001b[0m \u001b[0minplace\u001b[0m\u001b[1;33m=\u001b[0m\u001b[1;32mTrue\u001b[0m\u001b[1;33m)\u001b[0m\u001b[1;33m\u001b[0m\u001b[1;33m\u001b[0m\u001b[0m\n\u001b[0m",
      "\u001b[1;32m~\\anaconda3\\lib\\site-packages\\pandas\\util\\_decorators.py\u001b[0m in \u001b[0;36mwrapper\u001b[1;34m(*args, **kwargs)\u001b[0m\n\u001b[0;32m    309\u001b[0m                     \u001b[0mstacklevel\u001b[0m\u001b[1;33m=\u001b[0m\u001b[0mstacklevel\u001b[0m\u001b[1;33m,\u001b[0m\u001b[1;33m\u001b[0m\u001b[1;33m\u001b[0m\u001b[0m\n\u001b[0;32m    310\u001b[0m                 )\n\u001b[1;32m--> 311\u001b[1;33m             \u001b[1;32mreturn\u001b[0m \u001b[0mfunc\u001b[0m\u001b[1;33m(\u001b[0m\u001b[1;33m*\u001b[0m\u001b[0margs\u001b[0m\u001b[1;33m,\u001b[0m \u001b[1;33m**\u001b[0m\u001b[0mkwargs\u001b[0m\u001b[1;33m)\u001b[0m\u001b[1;33m\u001b[0m\u001b[1;33m\u001b[0m\u001b[0m\n\u001b[0m\u001b[0;32m    312\u001b[0m \u001b[1;33m\u001b[0m\u001b[0m\n\u001b[0;32m    313\u001b[0m         \u001b[1;32mreturn\u001b[0m \u001b[0mwrapper\u001b[0m\u001b[1;33m\u001b[0m\u001b[1;33m\u001b[0m\u001b[0m\n",
      "\u001b[1;32m~\\anaconda3\\lib\\site-packages\\pandas\\core\\frame.py\u001b[0m in \u001b[0;36mdrop\u001b[1;34m(self, labels, axis, index, columns, level, inplace, errors)\u001b[0m\n\u001b[0;32m   4904\u001b[0m                 \u001b[0mweight\u001b[0m  \u001b[1;36m1.0\u001b[0m     \u001b[1;36m0.8\u001b[0m\u001b[1;33m\u001b[0m\u001b[1;33m\u001b[0m\u001b[0m\n\u001b[0;32m   4905\u001b[0m         \"\"\"\n\u001b[1;32m-> 4906\u001b[1;33m         return super().drop(\n\u001b[0m\u001b[0;32m   4907\u001b[0m             \u001b[0mlabels\u001b[0m\u001b[1;33m=\u001b[0m\u001b[0mlabels\u001b[0m\u001b[1;33m,\u001b[0m\u001b[1;33m\u001b[0m\u001b[1;33m\u001b[0m\u001b[0m\n\u001b[0;32m   4908\u001b[0m             \u001b[0maxis\u001b[0m\u001b[1;33m=\u001b[0m\u001b[0maxis\u001b[0m\u001b[1;33m,\u001b[0m\u001b[1;33m\u001b[0m\u001b[1;33m\u001b[0m\u001b[0m\n",
      "\u001b[1;32m~\\anaconda3\\lib\\site-packages\\pandas\\core\\generic.py\u001b[0m in \u001b[0;36mdrop\u001b[1;34m(self, labels, axis, index, columns, level, inplace, errors)\u001b[0m\n\u001b[0;32m   4148\u001b[0m         \u001b[1;32mfor\u001b[0m \u001b[0maxis\u001b[0m\u001b[1;33m,\u001b[0m \u001b[0mlabels\u001b[0m \u001b[1;32min\u001b[0m \u001b[0maxes\u001b[0m\u001b[1;33m.\u001b[0m\u001b[0mitems\u001b[0m\u001b[1;33m(\u001b[0m\u001b[1;33m)\u001b[0m\u001b[1;33m:\u001b[0m\u001b[1;33m\u001b[0m\u001b[1;33m\u001b[0m\u001b[0m\n\u001b[0;32m   4149\u001b[0m             \u001b[1;32mif\u001b[0m \u001b[0mlabels\u001b[0m \u001b[1;32mis\u001b[0m \u001b[1;32mnot\u001b[0m \u001b[1;32mNone\u001b[0m\u001b[1;33m:\u001b[0m\u001b[1;33m\u001b[0m\u001b[1;33m\u001b[0m\u001b[0m\n\u001b[1;32m-> 4150\u001b[1;33m                 \u001b[0mobj\u001b[0m \u001b[1;33m=\u001b[0m \u001b[0mobj\u001b[0m\u001b[1;33m.\u001b[0m\u001b[0m_drop_axis\u001b[0m\u001b[1;33m(\u001b[0m\u001b[0mlabels\u001b[0m\u001b[1;33m,\u001b[0m \u001b[0maxis\u001b[0m\u001b[1;33m,\u001b[0m \u001b[0mlevel\u001b[0m\u001b[1;33m=\u001b[0m\u001b[0mlevel\u001b[0m\u001b[1;33m,\u001b[0m \u001b[0merrors\u001b[0m\u001b[1;33m=\u001b[0m\u001b[0merrors\u001b[0m\u001b[1;33m)\u001b[0m\u001b[1;33m\u001b[0m\u001b[1;33m\u001b[0m\u001b[0m\n\u001b[0m\u001b[0;32m   4151\u001b[0m \u001b[1;33m\u001b[0m\u001b[0m\n\u001b[0;32m   4152\u001b[0m         \u001b[1;32mif\u001b[0m \u001b[0minplace\u001b[0m\u001b[1;33m:\u001b[0m\u001b[1;33m\u001b[0m\u001b[1;33m\u001b[0m\u001b[0m\n",
      "\u001b[1;32m~\\anaconda3\\lib\\site-packages\\pandas\\core\\generic.py\u001b[0m in \u001b[0;36m_drop_axis\u001b[1;34m(self, labels, axis, level, errors)\u001b[0m\n\u001b[0;32m   4183\u001b[0m                 \u001b[0mnew_axis\u001b[0m \u001b[1;33m=\u001b[0m \u001b[0maxis\u001b[0m\u001b[1;33m.\u001b[0m\u001b[0mdrop\u001b[0m\u001b[1;33m(\u001b[0m\u001b[0mlabels\u001b[0m\u001b[1;33m,\u001b[0m \u001b[0mlevel\u001b[0m\u001b[1;33m=\u001b[0m\u001b[0mlevel\u001b[0m\u001b[1;33m,\u001b[0m \u001b[0merrors\u001b[0m\u001b[1;33m=\u001b[0m\u001b[0merrors\u001b[0m\u001b[1;33m)\u001b[0m\u001b[1;33m\u001b[0m\u001b[1;33m\u001b[0m\u001b[0m\n\u001b[0;32m   4184\u001b[0m             \u001b[1;32melse\u001b[0m\u001b[1;33m:\u001b[0m\u001b[1;33m\u001b[0m\u001b[1;33m\u001b[0m\u001b[0m\n\u001b[1;32m-> 4185\u001b[1;33m                 \u001b[0mnew_axis\u001b[0m \u001b[1;33m=\u001b[0m \u001b[0maxis\u001b[0m\u001b[1;33m.\u001b[0m\u001b[0mdrop\u001b[0m\u001b[1;33m(\u001b[0m\u001b[0mlabels\u001b[0m\u001b[1;33m,\u001b[0m \u001b[0merrors\u001b[0m\u001b[1;33m=\u001b[0m\u001b[0merrors\u001b[0m\u001b[1;33m)\u001b[0m\u001b[1;33m\u001b[0m\u001b[1;33m\u001b[0m\u001b[0m\n\u001b[0m\u001b[0;32m   4186\u001b[0m             \u001b[0mresult\u001b[0m \u001b[1;33m=\u001b[0m \u001b[0mself\u001b[0m\u001b[1;33m.\u001b[0m\u001b[0mreindex\u001b[0m\u001b[1;33m(\u001b[0m\u001b[1;33m**\u001b[0m\u001b[1;33m{\u001b[0m\u001b[0maxis_name\u001b[0m\u001b[1;33m:\u001b[0m \u001b[0mnew_axis\u001b[0m\u001b[1;33m}\u001b[0m\u001b[1;33m)\u001b[0m\u001b[1;33m\u001b[0m\u001b[1;33m\u001b[0m\u001b[0m\n\u001b[0;32m   4187\u001b[0m \u001b[1;33m\u001b[0m\u001b[0m\n",
      "\u001b[1;32m~\\anaconda3\\lib\\site-packages\\pandas\\core\\indexes\\base.py\u001b[0m in \u001b[0;36mdrop\u001b[1;34m(self, labels, errors)\u001b[0m\n\u001b[0;32m   6015\u001b[0m         \u001b[1;32mif\u001b[0m \u001b[0mmask\u001b[0m\u001b[1;33m.\u001b[0m\u001b[0many\u001b[0m\u001b[1;33m(\u001b[0m\u001b[1;33m)\u001b[0m\u001b[1;33m:\u001b[0m\u001b[1;33m\u001b[0m\u001b[1;33m\u001b[0m\u001b[0m\n\u001b[0;32m   6016\u001b[0m             \u001b[1;32mif\u001b[0m \u001b[0merrors\u001b[0m \u001b[1;33m!=\u001b[0m \u001b[1;34m\"ignore\"\u001b[0m\u001b[1;33m:\u001b[0m\u001b[1;33m\u001b[0m\u001b[1;33m\u001b[0m\u001b[0m\n\u001b[1;32m-> 6017\u001b[1;33m                 \u001b[1;32mraise\u001b[0m \u001b[0mKeyError\u001b[0m\u001b[1;33m(\u001b[0m\u001b[1;34mf\"{labels[mask]} not found in axis\"\u001b[0m\u001b[1;33m)\u001b[0m\u001b[1;33m\u001b[0m\u001b[1;33m\u001b[0m\u001b[0m\n\u001b[0m\u001b[0;32m   6018\u001b[0m             \u001b[0mindexer\u001b[0m \u001b[1;33m=\u001b[0m \u001b[0mindexer\u001b[0m\u001b[1;33m[\u001b[0m\u001b[1;33m~\u001b[0m\u001b[0mmask\u001b[0m\u001b[1;33m]\u001b[0m\u001b[1;33m\u001b[0m\u001b[1;33m\u001b[0m\u001b[0m\n\u001b[0;32m   6019\u001b[0m         \u001b[1;32mreturn\u001b[0m \u001b[0mself\u001b[0m\u001b[1;33m.\u001b[0m\u001b[0mdelete\u001b[0m\u001b[1;33m(\u001b[0m\u001b[0mindexer\u001b[0m\u001b[1;33m)\u001b[0m\u001b[1;33m\u001b[0m\u001b[1;33m\u001b[0m\u001b[0m\n",
      "\u001b[1;31mKeyError\u001b[0m: \"['perimeter'] not found in axis\""
     ]
    }
   ],
   "source": [
    "data.drop(columns=['Area', 'MajorAxisLength', 'perimeter'], inplace=True)"
   ]
  },
  {
   "cell_type": "code",
   "execution_count": 5,
   "id": "06c6b311",
   "metadata": {},
   "outputs": [
    {
     "data": {
      "text/html": [
       "<div>\n",
       "<style scoped>\n",
       "    .dataframe tbody tr th:only-of-type {\n",
       "        vertical-align: middle;\n",
       "    }\n",
       "\n",
       "    .dataframe tbody tr th {\n",
       "        vertical-align: top;\n",
       "    }\n",
       "\n",
       "    .dataframe thead th {\n",
       "        text-align: right;\n",
       "    }\n",
       "</style>\n",
       "<table border=\"1\" class=\"dataframe\">\n",
       "  <thead>\n",
       "    <tr style=\"text-align: right;\">\n",
       "      <th></th>\n",
       "      <th>Area</th>\n",
       "      <th>MajorAxisLength</th>\n",
       "      <th>MinorAxisLength</th>\n",
       "      <th>Eccentricity</th>\n",
       "      <th>ConvexArea</th>\n",
       "      <th>Extent</th>\n",
       "      <th>Perimeter</th>\n",
       "      <th>Class</th>\n",
       "    </tr>\n",
       "  </thead>\n",
       "  <tbody>\n",
       "    <tr>\n",
       "      <th>0</th>\n",
       "      <td>87524</td>\n",
       "      <td>442.246011</td>\n",
       "      <td>253.291155</td>\n",
       "      <td>0.819738</td>\n",
       "      <td>90546</td>\n",
       "      <td>0.758651</td>\n",
       "      <td>1184.040</td>\n",
       "      <td>1</td>\n",
       "    </tr>\n",
       "    <tr>\n",
       "      <th>1</th>\n",
       "      <td>75166</td>\n",
       "      <td>406.690687</td>\n",
       "      <td>243.032436</td>\n",
       "      <td>0.801805</td>\n",
       "      <td>78789</td>\n",
       "      <td>0.684130</td>\n",
       "      <td>1121.786</td>\n",
       "      <td>1</td>\n",
       "    </tr>\n",
       "    <tr>\n",
       "      <th>2</th>\n",
       "      <td>90856</td>\n",
       "      <td>442.267048</td>\n",
       "      <td>266.328318</td>\n",
       "      <td>0.798354</td>\n",
       "      <td>93717</td>\n",
       "      <td>0.637613</td>\n",
       "      <td>1208.575</td>\n",
       "      <td>1</td>\n",
       "    </tr>\n",
       "    <tr>\n",
       "      <th>3</th>\n",
       "      <td>45928</td>\n",
       "      <td>286.540559</td>\n",
       "      <td>208.760042</td>\n",
       "      <td>0.684989</td>\n",
       "      <td>47336</td>\n",
       "      <td>0.699599</td>\n",
       "      <td>844.162</td>\n",
       "      <td>1</td>\n",
       "    </tr>\n",
       "    <tr>\n",
       "      <th>4</th>\n",
       "      <td>79408</td>\n",
       "      <td>352.190770</td>\n",
       "      <td>290.827533</td>\n",
       "      <td>0.564011</td>\n",
       "      <td>81463</td>\n",
       "      <td>0.792772</td>\n",
       "      <td>1073.251</td>\n",
       "      <td>1</td>\n",
       "    </tr>\n",
       "    <tr>\n",
       "      <th>...</th>\n",
       "      <td>...</td>\n",
       "      <td>...</td>\n",
       "      <td>...</td>\n",
       "      <td>...</td>\n",
       "      <td>...</td>\n",
       "      <td>...</td>\n",
       "      <td>...</td>\n",
       "      <td>...</td>\n",
       "    </tr>\n",
       "    <tr>\n",
       "      <th>895</th>\n",
       "      <td>83248</td>\n",
       "      <td>430.077308</td>\n",
       "      <td>247.838695</td>\n",
       "      <td>0.817263</td>\n",
       "      <td>85839</td>\n",
       "      <td>0.668793</td>\n",
       "      <td>1129.072</td>\n",
       "      <td>0</td>\n",
       "    </tr>\n",
       "    <tr>\n",
       "      <th>896</th>\n",
       "      <td>87350</td>\n",
       "      <td>440.735698</td>\n",
       "      <td>259.293149</td>\n",
       "      <td>0.808629</td>\n",
       "      <td>90899</td>\n",
       "      <td>0.636476</td>\n",
       "      <td>1214.252</td>\n",
       "      <td>0</td>\n",
       "    </tr>\n",
       "    <tr>\n",
       "      <th>897</th>\n",
       "      <td>99657</td>\n",
       "      <td>431.706981</td>\n",
       "      <td>298.837323</td>\n",
       "      <td>0.721684</td>\n",
       "      <td>106264</td>\n",
       "      <td>0.741099</td>\n",
       "      <td>1292.828</td>\n",
       "      <td>0</td>\n",
       "    </tr>\n",
       "    <tr>\n",
       "      <th>898</th>\n",
       "      <td>93523</td>\n",
       "      <td>476.344094</td>\n",
       "      <td>254.176054</td>\n",
       "      <td>0.845739</td>\n",
       "      <td>97653</td>\n",
       "      <td>0.658798</td>\n",
       "      <td>1258.548</td>\n",
       "      <td>0</td>\n",
       "    </tr>\n",
       "    <tr>\n",
       "      <th>899</th>\n",
       "      <td>85609</td>\n",
       "      <td>512.081774</td>\n",
       "      <td>215.271976</td>\n",
       "      <td>0.907345</td>\n",
       "      <td>89197</td>\n",
       "      <td>0.632020</td>\n",
       "      <td>1272.862</td>\n",
       "      <td>0</td>\n",
       "    </tr>\n",
       "  </tbody>\n",
       "</table>\n",
       "<p>900 rows × 8 columns</p>\n",
       "</div>"
      ],
      "text/plain": [
       "      Area  MajorAxisLength  MinorAxisLength  Eccentricity  ConvexArea  \\\n",
       "0    87524       442.246011       253.291155      0.819738       90546   \n",
       "1    75166       406.690687       243.032436      0.801805       78789   \n",
       "2    90856       442.267048       266.328318      0.798354       93717   \n",
       "3    45928       286.540559       208.760042      0.684989       47336   \n",
       "4    79408       352.190770       290.827533      0.564011       81463   \n",
       "..     ...              ...              ...           ...         ...   \n",
       "895  83248       430.077308       247.838695      0.817263       85839   \n",
       "896  87350       440.735698       259.293149      0.808629       90899   \n",
       "897  99657       431.706981       298.837323      0.721684      106264   \n",
       "898  93523       476.344094       254.176054      0.845739       97653   \n",
       "899  85609       512.081774       215.271976      0.907345       89197   \n",
       "\n",
       "       Extent  Perimeter  Class  \n",
       "0    0.758651   1184.040      1  \n",
       "1    0.684130   1121.786      1  \n",
       "2    0.637613   1208.575      1  \n",
       "3    0.699599    844.162      1  \n",
       "4    0.792772   1073.251      1  \n",
       "..        ...        ...    ...  \n",
       "895  0.668793   1129.072      0  \n",
       "896  0.636476   1214.252      0  \n",
       "897  0.741099   1292.828      0  \n",
       "898  0.658798   1258.548      0  \n",
       "899  0.632020   1272.862      0  \n",
       "\n",
       "[900 rows x 8 columns]"
      ]
     },
     "execution_count": 5,
     "metadata": {},
     "output_type": "execute_result"
    }
   ],
   "source": [
    "# 데이터프레임을 숫자로 변경\n",
    "from sklearn.preprocessing import LabelEncoder\n",
    "label = LabelEncoder()\n",
    "data['Class'] = label.fit_transform(data['Class'])\n",
    "data"
   ]
  },
  {
   "cell_type": "markdown",
   "id": "a12476d2",
   "metadata": {},
   "source": [
    "# 데이터 타입, 결측값, 컬럼 확인"
   ]
  },
  {
   "cell_type": "code",
   "execution_count": 6,
   "id": "76d21159",
   "metadata": {},
   "outputs": [
    {
     "data": {
      "text/plain": [
       "pandas.core.frame.DataFrame"
      ]
     },
     "execution_count": 6,
     "metadata": {},
     "output_type": "execute_result"
    }
   ],
   "source": [
    "type(data)"
   ]
  },
  {
   "cell_type": "code",
   "execution_count": 7,
   "id": "0c9f4775",
   "metadata": {},
   "outputs": [
    {
     "data": {
      "text/plain": [
       "Area               0\n",
       "MajorAxisLength    0\n",
       "MinorAxisLength    0\n",
       "Eccentricity       0\n",
       "ConvexArea         0\n",
       "Extent             0\n",
       "Perimeter          0\n",
       "Class              0\n",
       "dtype: int64"
      ]
     },
     "execution_count": 7,
     "metadata": {},
     "output_type": "execute_result"
    }
   ],
   "source": [
    "data.isnull().sum()"
   ]
  },
  {
   "cell_type": "code",
   "execution_count": 13,
   "id": "ecd78060",
   "metadata": {},
   "outputs": [
    {
     "data": {
      "text/plain": [
       "Index(['Area', 'MajorAxisLength', 'MinorAxisLength', 'Eccentricity',\n",
       "       'ConvexArea', 'Extent', 'Perimeter', 'Class'],\n",
       "      dtype='object')"
      ]
     },
     "execution_count": 13,
     "metadata": {},
     "output_type": "execute_result"
    }
   ],
   "source": [
    "data.columns"
   ]
  },
  {
   "cell_type": "code",
   "execution_count": 9,
   "id": "e416be69",
   "metadata": {
    "scrolled": true
   },
   "outputs": [
    {
     "data": {
      "text/html": [
       "<div>\n",
       "<style scoped>\n",
       "    .dataframe tbody tr th:only-of-type {\n",
       "        vertical-align: middle;\n",
       "    }\n",
       "\n",
       "    .dataframe tbody tr th {\n",
       "        vertical-align: top;\n",
       "    }\n",
       "\n",
       "    .dataframe thead th {\n",
       "        text-align: right;\n",
       "    }\n",
       "</style>\n",
       "<table border=\"1\" class=\"dataframe\">\n",
       "  <thead>\n",
       "    <tr style=\"text-align: right;\">\n",
       "      <th></th>\n",
       "      <th>Area</th>\n",
       "      <th>MajorAxisLength</th>\n",
       "      <th>MinorAxisLength</th>\n",
       "      <th>Eccentricity</th>\n",
       "      <th>ConvexArea</th>\n",
       "      <th>Extent</th>\n",
       "      <th>Perimeter</th>\n",
       "      <th>Class</th>\n",
       "    </tr>\n",
       "  </thead>\n",
       "  <tbody>\n",
       "    <tr>\n",
       "      <th>0</th>\n",
       "      <td>87524</td>\n",
       "      <td>442.246011</td>\n",
       "      <td>253.291155</td>\n",
       "      <td>0.819738</td>\n",
       "      <td>90546</td>\n",
       "      <td>0.758651</td>\n",
       "      <td>1184.040</td>\n",
       "      <td>1</td>\n",
       "    </tr>\n",
       "    <tr>\n",
       "      <th>1</th>\n",
       "      <td>75166</td>\n",
       "      <td>406.690687</td>\n",
       "      <td>243.032436</td>\n",
       "      <td>0.801805</td>\n",
       "      <td>78789</td>\n",
       "      <td>0.684130</td>\n",
       "      <td>1121.786</td>\n",
       "      <td>1</td>\n",
       "    </tr>\n",
       "    <tr>\n",
       "      <th>2</th>\n",
       "      <td>90856</td>\n",
       "      <td>442.267048</td>\n",
       "      <td>266.328318</td>\n",
       "      <td>0.798354</td>\n",
       "      <td>93717</td>\n",
       "      <td>0.637613</td>\n",
       "      <td>1208.575</td>\n",
       "      <td>1</td>\n",
       "    </tr>\n",
       "    <tr>\n",
       "      <th>3</th>\n",
       "      <td>45928</td>\n",
       "      <td>286.540559</td>\n",
       "      <td>208.760042</td>\n",
       "      <td>0.684989</td>\n",
       "      <td>47336</td>\n",
       "      <td>0.699599</td>\n",
       "      <td>844.162</td>\n",
       "      <td>1</td>\n",
       "    </tr>\n",
       "    <tr>\n",
       "      <th>4</th>\n",
       "      <td>79408</td>\n",
       "      <td>352.190770</td>\n",
       "      <td>290.827533</td>\n",
       "      <td>0.564011</td>\n",
       "      <td>81463</td>\n",
       "      <td>0.792772</td>\n",
       "      <td>1073.251</td>\n",
       "      <td>1</td>\n",
       "    </tr>\n",
       "  </tbody>\n",
       "</table>\n",
       "</div>"
      ],
      "text/plain": [
       "    Area  MajorAxisLength  MinorAxisLength  Eccentricity  ConvexArea  \\\n",
       "0  87524       442.246011       253.291155      0.819738       90546   \n",
       "1  75166       406.690687       243.032436      0.801805       78789   \n",
       "2  90856       442.267048       266.328318      0.798354       93717   \n",
       "3  45928       286.540559       208.760042      0.684989       47336   \n",
       "4  79408       352.190770       290.827533      0.564011       81463   \n",
       "\n",
       "     Extent  Perimeter  Class  \n",
       "0  0.758651   1184.040      1  \n",
       "1  0.684130   1121.786      1  \n",
       "2  0.637613   1208.575      1  \n",
       "3  0.699599    844.162      1  \n",
       "4  0.792772   1073.251      1  "
      ]
     },
     "execution_count": 9,
     "metadata": {},
     "output_type": "execute_result"
    }
   ],
   "source": [
    "data.head()"
   ]
  },
  {
   "cell_type": "markdown",
   "id": "d9e0ec87",
   "metadata": {},
   "source": [
    "# EDA 수행"
   ]
  },
  {
   "cell_type": "code",
   "execution_count": 15,
   "id": "3f2b9bd8",
   "metadata": {},
   "outputs": [
    {
     "data": {
      "text/plain": [
       "Text(0.5, 1.0, 'Label')"
      ]
     },
     "execution_count": 15,
     "metadata": {},
     "output_type": "execute_result"
    },
    {
     "data": {
      "image/png": "[encoded data removed]",
      "text/plain": [
       "<Figure size 432x288 with 1 Axes>"
      ]
     },
     "metadata": {
      "needs_background": "light"
     },
     "output_type": "display_data"
    }
   ],
   "source": [
    "sns.countplot(data = data, x=\"Class\")\n",
    "plt.xlabel(\"Raisin\")\n",
    "plt.ylabel(\"Count\")\n",
    "plt.title(\"Label\")"
   ]
  },
  {
   "cell_type": "code",
   "execution_count": 16,
   "id": "d04c3ba6",
   "metadata": {},
   "outputs": [
    {
     "data": {
      "image/png": "[encoded data removed]",
      "text/plain": [
       "<Figure size 720x720 with 1 Axes>"
      ]
     },
     "metadata": {
      "needs_background": "light"
     },
     "output_type": "display_data"
    }
   ],
   "source": [
    "df_corr = data.astype(float).corr()\n",
    "colormap = plt.cm.coolwarm\n",
    "plt.figure(figsize=(10, 10))\n",
    "sns.set(font_scale=0.8)\n",
    "sns.heatmap(df_corr, annot=True, cbar=False, cmap=colormap, vmin=-1., vmax=1.)\n",
    "plt.show()"
   ]
  },
  {
   "cell_type": "code",
   "execution_count": 40,
   "id": "c0066658",
   "metadata": {},
   "outputs": [],
   "source": [
    "#Splitting the data into training and test test\n",
    "X = data.iloc[:,0:6].values\n",
    "y = data.iloc[:,7].values\n",
    "\n",
    "from sklearn.preprocessing import LabelEncoder\n",
    "encoder =  LabelEncoder()\n",
    "y1 = encoder.fit_transform(y)\n",
    "\n",
    "Y = pd.get_dummies(y).values\n",
    "\n",
    "\n",
    "from sklearn.model_selection import train_test_split\n",
    "X_train,X_test, y_train,y_test = train_test_split(X,Y,test_size=0.2,random_state=0) "
   ]
  },
  {
   "cell_type": "code",
   "execution_count": 41,
   "id": "549047a6",
   "metadata": {},
   "outputs": [
    {
     "data": {
      "text/plain": [
       "array([[8.75240000e+04, 4.42246011e+02, 2.53291155e+02, 8.19738392e-01,\n",
       "        9.05460000e+04, 7.58650579e-01],\n",
       "       [7.51660000e+04, 4.06690687e+02, 2.43032436e+02, 8.01805234e-01,\n",
       "        7.87890000e+04, 6.84129570e-01],\n",
       "       [9.08560000e+04, 4.42267048e+02, 2.66328318e+02, 7.98353619e-01,\n",
       "        9.37170000e+04, 6.37612812e-01],\n",
       "       ...,\n",
       "       [9.96570000e+04, 4.31706981e+02, 2.98837323e+02, 7.21684066e-01,\n",
       "        1.06264000e+05, 7.41098519e-01],\n",
       "       [9.35230000e+04, 4.76344094e+02, 2.54176054e+02, 8.45738510e-01,\n",
       "        9.76530000e+04, 6.58798253e-01],\n",
       "       [8.56090000e+04, 5.12081774e+02, 2.15271976e+02, 9.07345395e-01,\n",
       "        8.91970000e+04, 6.32019963e-01]])"
      ]
     },
     "execution_count": 41,
     "metadata": {},
     "output_type": "execute_result"
    }
   ],
   "source": [
    "X"
   ]
  },
  {
   "cell_type": "code",
   "execution_count": 42,
   "id": "0f5f6793",
   "metadata": {},
   "outputs": [
    {
     "data": {
      "text/plain": [
       "array([[0, 1],\n",
       "       [0, 1],\n",
       "       [0, 1],\n",
       "       ...,\n",
       "       [1, 0],\n",
       "       [1, 0],\n",
       "       [1, 0]], dtype=uint8)"
      ]
     },
     "execution_count": 42,
     "metadata": {},
     "output_type": "execute_result"
    }
   ],
   "source": [
    "Y"
   ]
  },
  {
   "cell_type": "code",
   "execution_count": 43,
   "id": "175bc393",
   "metadata": {},
   "outputs": [
    {
     "name": "stdout",
     "output_type": "stream",
     "text": [
      "Model: \"sequential_8\"\n",
      "_________________________________________________________________\n",
      " Layer (type)                Output Shape              Param #   \n",
      "=================================================================\n",
      " dense_32 (Dense)            (None, 5)                 35        \n",
      "                                                                 \n",
      " dense_33 (Dense)            (None, 5)                 30        \n",
      "                                                                 \n",
      " dense_34 (Dense)            (None, 5)                 30        \n",
      "                                                                 \n",
      " dense_35 (Dense)            (None, 2)                 12        \n",
      "                                                                 \n",
      "=================================================================\n",
      "Total params: 107 (428.00 Byte)\n",
      "Trainable params: 107 (428.00 Byte)\n",
      "Non-trainable params: 0 (0.00 Byte)\n",
      "_________________________________________________________________\n"
     ]
    }
   ],
   "source": [
    "from keras.models import Sequential\n",
    "from keras.layers import Dense\n",
    "from keras.optimizers import SGD,Adam\n",
    "\n",
    "# 다중분류\n",
    "\n",
    "model = Sequential()\n",
    "\n",
    "model.add(Dense(5,input_shape=(6,),activation='relu'))\n",
    "model.add(Dense(5,activation='relu'))\n",
    "model.add(Dense(5,activation='relu'))\n",
    "model.add(Dense(2,activation='sigmoid'))\n",
    "\n",
    "model.compile(Adam(learning_rate=1e-4),'binary_crossentropy',metrics=['accuracy'])\n",
    "\n",
    "model.summary()"
   ]
  },
  {
   "cell_type": "code",
   "execution_count": 44,
   "id": "8f08652c",
   "metadata": {
    "scrolled": true
   },
   "outputs": [
    {
     "name": "stdout",
     "output_type": "stream",
     "text": [
      "Epoch 1/100\n",
      "20/20 [==============================] - 3s 24ms/step - loss: 6385.5513 - accuracy: 0.5032 - val_loss: 6273.6235 - val_accuracy: 0.4926\n",
      "Epoch 2/100\n",
      "20/20 [==============================] - 0s 8ms/step - loss: 6190.8716 - accuracy: 0.5032 - val_loss: 6087.3242 - val_accuracy: 0.4926\n",
      "Epoch 3/100\n",
      "20/20 [==============================] - 0s 8ms/step - loss: 6007.5479 - accuracy: 0.5032 - val_loss: 5900.4370 - val_accuracy: 0.4926\n",
      "Epoch 4/100\n",
      "20/20 [==============================] - 0s 9ms/step - loss: 5824.1689 - accuracy: 0.5032 - val_loss: 5723.9438 - val_accuracy: 0.4926\n",
      "Epoch 5/100\n",
      "20/20 [==============================] - 0s 8ms/step - loss: 5649.6665 - accuracy: 0.5032 - val_loss: 5549.8735 - val_accuracy: 0.4926\n",
      "Epoch 6/100\n",
      "20/20 [==============================] - 0s 8ms/step - loss: 5477.1143 - accuracy: 0.5032 - val_loss: 5384.6138 - val_accuracy: 0.4926\n",
      "Epoch 7/100\n",
      "20/20 [==============================] - 0s 8ms/step - loss: 5312.1885 - accuracy: 0.5032 - val_loss: 5220.0107 - val_accuracy: 0.4926\n",
      "Epoch 8/100\n",
      "20/20 [==============================] - 0s 8ms/step - loss: 5150.8071 - accuracy: 0.5032 - val_loss: 5059.1992 - val_accuracy: 0.4926\n",
      "Epoch 9/100\n",
      "20/20 [==============================] - 0s 8ms/step - loss: 4993.6934 - accuracy: 0.5032 - val_loss: 4902.6816 - val_accuracy: 0.4926\n",
      "Epoch 10/100\n",
      "20/20 [==============================] - 0s 8ms/step - loss: 4838.5479 - accuracy: 0.5032 - val_loss: 4755.3110 - val_accuracy: 0.4926\n",
      "Epoch 11/100\n",
      "20/20 [==============================] - 0s 8ms/step - loss: 4691.1802 - accuracy: 0.5032 - val_loss: 4607.4995 - val_accuracy: 0.4926\n",
      "Epoch 12/100\n",
      "20/20 [==============================] - 0s 7ms/step - loss: 4547.0537 - accuracy: 0.5032 - val_loss: 4462.7046 - val_accuracy: 0.4926\n",
      "Epoch 13/100\n",
      "20/20 [==============================] - 0s 10ms/step - loss: 4404.0278 - accuracy: 0.5032 - val_loss: 4325.8545 - val_accuracy: 0.4926\n",
      "Epoch 14/100\n",
      "20/20 [==============================] - 0s 11ms/step - loss: 4268.5391 - accuracy: 0.5032 - val_loss: 4190.1519 - val_accuracy: 0.4926\n",
      "Epoch 15/100\n",
      "20/20 [==============================] - 0s 11ms/step - loss: 4132.9692 - accuracy: 0.5032 - val_loss: 4059.5781 - val_accuracy: 0.4926\n",
      "Epoch 16/100\n",
      "20/20 [==============================] - 0s 16ms/step - loss: 4002.9062 - accuracy: 0.5032 - val_loss: 3931.0662 - val_accuracy: 0.4926\n",
      "Epoch 17/100\n",
      "20/20 [==============================] - 0s 16ms/step - loss: 3876.8682 - accuracy: 0.5032 - val_loss: 3802.2109 - val_accuracy: 0.4926\n",
      "Epoch 18/100\n",
      "20/20 [==============================] - 0s 16ms/step - loss: 3749.8662 - accuracy: 0.5032 - val_loss: 3682.1648 - val_accuracy: 0.4926\n",
      "Epoch 19/100\n",
      "20/20 [==============================] - 0s 10ms/step - loss: 3629.8618 - accuracy: 0.5032 - val_loss: 3563.4541 - val_accuracy: 0.4926\n",
      "Epoch 20/100\n",
      "20/20 [==============================] - 0s 15ms/step - loss: 3513.7981 - accuracy: 0.5032 - val_loss: 3448.5903 - val_accuracy: 0.4926\n",
      "Epoch 21/100\n",
      "20/20 [==============================] - 0s 15ms/step - loss: 3402.6670 - accuracy: 0.5032 - val_loss: 3340.8420 - val_accuracy: 0.4926\n",
      "Epoch 22/100\n",
      "20/20 [==============================] - 0s 11ms/step - loss: 3297.5645 - accuracy: 0.5032 - val_loss: 3237.5498 - val_accuracy: 0.4926\n",
      "Epoch 23/100\n",
      "20/20 [==============================] - 0s 9ms/step - loss: 3194.4824 - accuracy: 0.5032 - val_loss: 3139.6853 - val_accuracy: 0.4926\n",
      "Epoch 24/100\n",
      "20/20 [==============================] - 0s 10ms/step - loss: 3098.0627 - accuracy: 0.5032 - val_loss: 3042.2017 - val_accuracy: 0.4926\n",
      "Epoch 25/100\n",
      "20/20 [==============================] - 0s 10ms/step - loss: 3002.4009 - accuracy: 0.5032 - val_loss: 2950.6555 - val_accuracy: 0.4926\n",
      "Epoch 26/100\n",
      "20/20 [==============================] - 0s 10ms/step - loss: 2910.6750 - accuracy: 0.5032 - val_loss: 2862.6284 - val_accuracy: 0.4926\n",
      "Epoch 27/100\n",
      "20/20 [==============================] - 0s 10ms/step - loss: 2822.8120 - accuracy: 0.5032 - val_loss: 2775.5801 - val_accuracy: 0.4926\n",
      "Epoch 28/100\n",
      "20/20 [==============================] - 0s 12ms/step - loss: 2739.3386 - accuracy: 0.5032 - val_loss: 2691.3772 - val_accuracy: 0.4926\n",
      "Epoch 29/100\n",
      "20/20 [==============================] - 0s 10ms/step - loss: 2657.6802 - accuracy: 0.5032 - val_loss: 2612.0952 - val_accuracy: 0.4926\n",
      "Epoch 30/100\n",
      "20/20 [==============================] - 0s 10ms/step - loss: 2579.9697 - accuracy: 0.5032 - val_loss: 2535.7166 - val_accuracy: 0.4926\n",
      "Epoch 31/100\n",
      "20/20 [==============================] - 0s 9ms/step - loss: 2504.6199 - accuracy: 0.5032 - val_loss: 2461.7395 - val_accuracy: 0.4926\n",
      "Epoch 32/100\n",
      "20/20 [==============================] - 0s 9ms/step - loss: 2430.5564 - accuracy: 0.5032 - val_loss: 2390.6497 - val_accuracy: 0.4926\n",
      "Epoch 33/100\n",
      "20/20 [==============================] - 0s 11ms/step - loss: 2359.7366 - accuracy: 0.5032 - val_loss: 2320.8018 - val_accuracy: 0.4926\n",
      "Epoch 34/100\n",
      "20/20 [==============================] - 0s 9ms/step - loss: 2291.4104 - accuracy: 0.5032 - val_loss: 2251.4441 - val_accuracy: 0.4926\n",
      "Epoch 35/100\n",
      "20/20 [==============================] - 0s 8ms/step - loss: 2223.5112 - accuracy: 0.5032 - val_loss: 2185.9404 - val_accuracy: 0.4926\n",
      "Epoch 36/100\n",
      "20/20 [==============================] - 0s 9ms/step - loss: 2158.7144 - accuracy: 0.5032 - val_loss: 2121.5737 - val_accuracy: 0.4926\n",
      "Epoch 37/100\n",
      "20/20 [==============================] - 0s 7ms/step - loss: 2094.6899 - accuracy: 0.5032 - val_loss: 2060.1003 - val_accuracy: 0.4926\n",
      "Epoch 38/100\n",
      "20/20 [==============================] - 0s 14ms/step - loss: 2033.8740 - accuracy: 0.5032 - val_loss: 1998.6782 - val_accuracy: 0.4926\n",
      "Epoch 39/100\n",
      "20/20 [==============================] - 0s 15ms/step - loss: 1973.3931 - accuracy: 0.5032 - val_loss: 1940.7711 - val_accuracy: 0.4926\n",
      "Epoch 40/100\n",
      "20/20 [==============================] - 0s 15ms/step - loss: 1915.9026 - accuracy: 0.5032 - val_loss: 1883.1230 - val_accuracy: 0.4926\n",
      "Epoch 41/100\n",
      "20/20 [==============================] - 0s 12ms/step - loss: 1859.9246 - accuracy: 0.5032 - val_loss: 1825.8219 - val_accuracy: 0.4926\n",
      "Epoch 42/100\n",
      "20/20 [==============================] - 0s 7ms/step - loss: 1802.9921 - accuracy: 0.5032 - val_loss: 1773.7484 - val_accuracy: 0.4926\n",
      "Epoch 43/100\n",
      "20/20 [==============================] - 0s 7ms/step - loss: 1750.4768 - accuracy: 0.5032 - val_loss: 1720.9785 - val_accuracy: 0.4926\n",
      "Epoch 44/100\n",
      "20/20 [==============================] - 0s 10ms/step - loss: 1698.1216 - accuracy: 0.5032 - val_loss: 1669.1240 - val_accuracy: 0.4926\n",
      "Epoch 45/100\n",
      "20/20 [==============================] - 0s 8ms/step - loss: 1647.1200 - accuracy: 0.5032 - val_loss: 1618.9468 - val_accuracy: 0.4926\n",
      "Epoch 46/100\n",
      "20/20 [==============================] - 0s 10ms/step - loss: 1598.1678 - accuracy: 0.5032 - val_loss: 1569.0948 - val_accuracy: 0.4926\n",
      "Epoch 47/100\n",
      "20/20 [==============================] - 0s 8ms/step - loss: 1549.1459 - accuracy: 0.5032 - val_loss: 1522.0022 - val_accuracy: 0.4926\n",
      "Epoch 48/100\n",
      "20/20 [==============================] - 0s 8ms/step - loss: 1501.7594 - accuracy: 0.5032 - val_loss: 1476.3296 - val_accuracy: 0.4926\n",
      "Epoch 49/100\n",
      "20/20 [==============================] - 0s 9ms/step - loss: 1456.8610 - accuracy: 0.5032 - val_loss: 1429.5448 - val_accuracy: 0.4926\n",
      "Epoch 50/100\n",
      "20/20 [==============================] - 0s 9ms/step - loss: 1410.8191 - accuracy: 0.5032 - val_loss: 1386.3462 - val_accuracy: 0.4926\n",
      "Epoch 51/100\n",
      "20/20 [==============================] - 0s 9ms/step - loss: 1367.4946 - accuracy: 0.5032 - val_loss: 1343.6036 - val_accuracy: 0.4926\n",
      "Epoch 52/100\n",
      "20/20 [==============================] - 0s 8ms/step - loss: 1325.3130 - accuracy: 0.5032 - val_loss: 1300.9908 - val_accuracy: 0.4926\n",
      "Epoch 53/100\n",
      "20/20 [==============================] - 0s 9ms/step - loss: 1283.1359 - accuracy: 0.5032 - val_loss: 1260.2761 - val_accuracy: 0.4926\n",
      "Epoch 54/100\n",
      "20/20 [==============================] - 0s 8ms/step - loss: 1243.0707 - accuracy: 0.5032 - val_loss: 1219.7957 - val_accuracy: 0.4926\n",
      "Epoch 55/100\n",
      "20/20 [==============================] - 0s 7ms/step - loss: 1203.1604 - accuracy: 0.5032 - val_loss: 1181.0669 - val_accuracy: 0.4926\n",
      "Epoch 56/100\n"
     ]
    },
    {
     "name": "stdout",
     "output_type": "stream",
     "text": [
      "20/20 [==============================] - 0s 8ms/step - loss: 1164.8154 - accuracy: 0.5032 - val_loss: 1142.7964 - val_accuracy: 0.4926\n",
      "Epoch 57/100\n",
      "20/20 [==============================] - 0s 12ms/step - loss: 1126.7211 - accuracy: 0.5032 - val_loss: 1105.9924 - val_accuracy: 0.4926\n",
      "Epoch 58/100\n",
      "20/20 [==============================] - 0s 9ms/step - loss: 1090.9084 - accuracy: 0.5032 - val_loss: 1068.1152 - val_accuracy: 0.4926\n",
      "Epoch 59/100\n",
      "20/20 [==============================] - 0s 8ms/step - loss: 1053.4747 - accuracy: 0.5032 - val_loss: 1033.8582 - val_accuracy: 0.4926\n",
      "Epoch 60/100\n",
      "20/20 [==============================] - 0s 7ms/step - loss: 1018.7982 - accuracy: 0.5032 - val_loss: 999.4476 - val_accuracy: 0.4926\n",
      "Epoch 61/100\n",
      "20/20 [==============================] - 0s 8ms/step - loss: 984.3704 - accuracy: 0.5032 - val_loss: 965.1309 - val_accuracy: 0.4926\n",
      "Epoch 62/100\n",
      "20/20 [==============================] - 0s 9ms/step - loss: 950.7950 - accuracy: 0.5032 - val_loss: 931.6865 - val_accuracy: 0.4926\n",
      "Epoch 63/100\n",
      "20/20 [==============================] - 0s 14ms/step - loss: 917.3092 - accuracy: 0.5032 - val_loss: 899.0640 - val_accuracy: 0.4926\n",
      "Epoch 64/100\n",
      "20/20 [==============================] - 0s 13ms/step - loss: 885.4596 - accuracy: 0.5032 - val_loss: 866.9174 - val_accuracy: 0.4926\n",
      "Epoch 65/100\n",
      "20/20 [==============================] - 0s 15ms/step - loss: 853.8489 - accuracy: 0.5032 - val_loss: 835.3553 - val_accuracy: 0.4926\n",
      "Epoch 66/100\n",
      "20/20 [==============================] - 0s 15ms/step - loss: 822.4031 - accuracy: 0.5032 - val_loss: 805.4143 - val_accuracy: 0.4926\n",
      "Epoch 67/100\n",
      "20/20 [==============================] - 0s 9ms/step - loss: 792.2756 - accuracy: 0.5032 - val_loss: 775.9860 - val_accuracy: 0.4926\n",
      "Epoch 68/100\n",
      "20/20 [==============================] - 0s 9ms/step - loss: 762.9102 - accuracy: 0.5032 - val_loss: 746.0875 - val_accuracy: 0.4926\n",
      "Epoch 69/100\n",
      "20/20 [==============================] - 0s 8ms/step - loss: 733.6283 - accuracy: 0.5032 - val_loss: 717.2025 - val_accuracy: 0.4926\n",
      "Epoch 70/100\n",
      "20/20 [==============================] - 0s 8ms/step - loss: 704.9223 - accuracy: 0.5032 - val_loss: 689.3444 - val_accuracy: 0.4926\n",
      "Epoch 71/100\n",
      "20/20 [==============================] - 0s 8ms/step - loss: 676.8696 - accuracy: 0.5032 - val_loss: 662.1324 - val_accuracy: 0.4926\n",
      "Epoch 72/100\n",
      "20/20 [==============================] - 0s 8ms/step - loss: 650.0679 - accuracy: 0.5032 - val_loss: 634.5613 - val_accuracy: 0.4926\n",
      "Epoch 73/100\n",
      "20/20 [==============================] - 0s 7ms/step - loss: 622.5522 - accuracy: 0.5032 - val_loss: 608.9595 - val_accuracy: 0.4926\n",
      "Epoch 74/100\n",
      "20/20 [==============================] - 0s 8ms/step - loss: 596.7742 - accuracy: 0.5032 - val_loss: 582.8242 - val_accuracy: 0.4926\n",
      "Epoch 75/100\n",
      "20/20 [==============================] - 0s 8ms/step - loss: 570.8200 - accuracy: 0.5032 - val_loss: 557.2557 - val_accuracy: 0.4926\n",
      "Epoch 76/100\n",
      "20/20 [==============================] - 0s 8ms/step - loss: 545.3031 - accuracy: 0.5032 - val_loss: 532.2083 - val_accuracy: 0.4926\n",
      "Epoch 77/100\n",
      "20/20 [==============================] - 0s 9ms/step - loss: 520.1842 - accuracy: 0.5032 - val_loss: 507.6393 - val_accuracy: 0.4926\n",
      "Epoch 78/100\n",
      "20/20 [==============================] - 0s 8ms/step - loss: 495.5144 - accuracy: 0.5032 - val_loss: 483.6061 - val_accuracy: 0.4926\n",
      "Epoch 79/100\n",
      "20/20 [==============================] - 0s 13ms/step - loss: 471.6296 - accuracy: 0.5032 - val_loss: 459.3099 - val_accuracy: 0.4926\n",
      "Epoch 80/100\n",
      "20/20 [==============================] - 0s 13ms/step - loss: 447.4924 - accuracy: 0.5032 - val_loss: 436.2628 - val_accuracy: 0.4926\n",
      "Epoch 81/100\n",
      "20/20 [==============================] - 0s 8ms/step - loss: 424.8878 - accuracy: 0.5032 - val_loss: 413.0560 - val_accuracy: 0.4926\n",
      "Epoch 82/100\n",
      "20/20 [==============================] - 0s 10ms/step - loss: 402.6094 - accuracy: 0.5032 - val_loss: 391.8576 - val_accuracy: 0.4926\n",
      "Epoch 83/100\n",
      "20/20 [==============================] - 0s 17ms/step - loss: 382.1358 - accuracy: 0.5032 - val_loss: 371.8560 - val_accuracy: 0.4926\n",
      "Epoch 84/100\n",
      "20/20 [==============================] - 0s 15ms/step - loss: 362.5786 - accuracy: 0.5032 - val_loss: 353.2982 - val_accuracy: 0.4926\n",
      "Epoch 85/100\n",
      "20/20 [==============================] - 0s 8ms/step - loss: 344.2172 - accuracy: 0.5032 - val_loss: 334.9984 - val_accuracy: 0.4926\n",
      "Epoch 86/100\n",
      "20/20 [==============================] - 0s 8ms/step - loss: 326.0709 - accuracy: 0.5032 - val_loss: 317.1174 - val_accuracy: 0.4926\n",
      "Epoch 87/100\n",
      "20/20 [==============================] - 0s 9ms/step - loss: 308.3208 - accuracy: 0.5032 - val_loss: 299.1778 - val_accuracy: 0.4926\n",
      "Epoch 88/100\n",
      "20/20 [==============================] - 0s 12ms/step - loss: 290.7583 - accuracy: 0.5032 - val_loss: 281.3928 - val_accuracy: 0.4926\n",
      "Epoch 89/100\n",
      "20/20 [==============================] - 0s 8ms/step - loss: 273.1466 - accuracy: 0.5032 - val_loss: 264.2224 - val_accuracy: 0.4926\n",
      "Epoch 90/100\n",
      "20/20 [==============================] - 0s 8ms/step - loss: 256.1288 - accuracy: 0.5032 - val_loss: 246.9668 - val_accuracy: 0.4926\n",
      "Epoch 91/100\n",
      "20/20 [==============================] - 0s 11ms/step - loss: 238.9945 - accuracy: 0.5032 - val_loss: 230.1649 - val_accuracy: 0.4926\n",
      "Epoch 92/100\n",
      "20/20 [==============================] - 0s 16ms/step - loss: 222.1962 - accuracy: 0.5032 - val_loss: 213.5040 - val_accuracy: 0.4926\n",
      "Epoch 93/100\n",
      "20/20 [==============================] - 0s 17ms/step - loss: 205.4774 - accuracy: 0.5032 - val_loss: 196.9286 - val_accuracy: 0.4926\n",
      "Epoch 94/100\n",
      "20/20 [==============================] - 0s 11ms/step - loss: 189.0622 - accuracy: 0.5032 - val_loss: 180.1479 - val_accuracy: 0.4926\n",
      "Epoch 95/100\n",
      "20/20 [==============================] - 0s 7ms/step - loss: 172.3591 - accuracy: 0.5032 - val_loss: 163.8975 - val_accuracy: 0.4926\n",
      "Epoch 96/100\n",
      "20/20 [==============================] - 0s 8ms/step - loss: 155.9461 - accuracy: 0.5032 - val_loss: 147.7250 - val_accuracy: 0.4926\n",
      "Epoch 97/100\n",
      "20/20 [==============================] - 0s 8ms/step - loss: 139.6516 - accuracy: 0.5032 - val_loss: 131.4633 - val_accuracy: 0.4926\n",
      "Epoch 98/100\n",
      "20/20 [==============================] - 0s 9ms/step - loss: 123.4947 - accuracy: 0.5032 - val_loss: 115.3297 - val_accuracy: 0.4926\n",
      "Epoch 99/100\n",
      "20/20 [==============================] - 0s 8ms/step - loss: 107.4738 - accuracy: 0.5032 - val_loss: 99.3127 - val_accuracy: 0.4926\n",
      "Epoch 100/100\n",
      "20/20 [==============================] - 0s 8ms/step - loss: 91.5039 - accuracy: 0.5032 - val_loss: 83.4010 - val_accuracy: 0.4926\n",
      "9/9 [==============================] - 0s 3ms/step\n"
     ]
    }
   ],
   "source": [
    "model_history=model.fit(x=X_train, y=y_train, epochs=100, batch_size=32,validation_data= (X_test,y_test))\n",
    "y_pred = model.predict(X_test)\n",
    "\n",
    "y_test_class = np.argmax(y_test,axis=1)\n",
    "y_pred_class = np.argmax(y_pred,axis=1)"
   ]
  },
  {
   "cell_type": "code",
   "execution_count": 45,
   "id": "149773e6",
   "metadata": {},
   "outputs": [
    {
     "data": {
      "image/png": "[encoded data removed]",
      "text/plain": [
       "<Figure size 432x288 with 1 Axes>"
      ]
     },
     "metadata": {},
     "output_type": "display_data"
    }
   ],
   "source": [
    "import matplotlib.pyplot as plt\n",
    "import seaborn as sns\n",
    "\n",
    "loss =model_history.history['loss']\n",
    "val_loss =model_history.history['val_loss']\n",
    "epochs = range(1, len(loss) + 1)\n",
    "plt.plot(epochs, loss, 'y', label='Training loss')\n",
    "plt.plot(epochs, val_loss, 'r', label='Validation loss')\n",
    "plt.title('Training and validation loss')\n",
    "plt.xlabel('Epochs')\n",
    "plt.ylabel('Loss')\n",
    "plt.legend()\n",
    "plt.show()"
   ]
  },
  {
   "cell_type": "code",
   "execution_count": 46,
   "id": "8e6204a9",
   "metadata": {},
   "outputs": [
    {
     "data": {
      "image/png": "[encoded data removed]",
      "text/plain": [
       "<Figure size 432x288 with 1 Axes>"
      ]
     },
     "metadata": {},
     "output_type": "display_data"
    }
   ],
   "source": [
    "acc =model_history.history['accuracy']\n",
    "val_acc =model_history.history['val_accuracy']\n",
    "plt.plot(epochs, acc, 'y', label='Training acc')\n",
    "plt.plot(epochs, val_acc, 'r', label='Validation acc')\n",
    "plt.title('Training and validation accuracy')\n",
    "plt.xlabel('Epochs')\n",
    "plt.ylabel('Accuracy')\n",
    "plt.legend()\n",
    "plt.show()"
   ]
  },
  {
   "cell_type": "code",
   "execution_count": 47,
   "id": "6b2dd6f4",
   "metadata": {},
   "outputs": [
    {
     "name": "stdout",
     "output_type": "stream",
     "text": [
      "              precision    recall  f1-score   support\n",
      "\n",
      "           0       0.00      0.00      0.00       137\n",
      "           1       0.49      1.00      0.66       133\n",
      "\n",
      "    accuracy                           0.49       270\n",
      "   macro avg       0.25      0.50      0.33       270\n",
      "weighted avg       0.24      0.49      0.33       270\n",
      "\n",
      "[[  0 137]\n",
      " [  0 133]]\n"
     ]
    }
   ],
   "source": [
    "#Accuracy of the predicted values\n",
    "from sklearn.metrics import classification_report,confusion_matrix\n",
    "print(classification_report(y_test_class,y_pred_class))\n",
    "print(confusion_matrix(y_test_class,y_pred_class))"
   ]
  },
  {
   "cell_type": "code",
   "execution_count": null,
   "id": "41063307",
   "metadata": {},
   "outputs": [],
   "source": []
  }
 ],
 "metadata": {
  "kernelspec": {
   "display_name": "Python 3 (ipykernel)",
   "language": "python",
   "name": "python3"
  },
  "language_info": {
   "codemirror_mode": {
    "name": "ipython",
    "version": 3
   },
   "file_extension": ".py",
   "mimetype": "text/x-python",
   "name": "python",
   "nbconvert_exporter": "python",
   "pygments_lexer": "ipython3",
   "version": "3.9.7"
  }
 },
 "nbformat": 4,
 "nbformat_minor": 5
}
