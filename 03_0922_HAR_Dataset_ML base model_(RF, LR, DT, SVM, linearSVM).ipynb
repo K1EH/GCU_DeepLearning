{
 "cells": [
  {
   "cell_type": "code",
   "execution_count": 28,
   "id": "62b96fac",
   "metadata": {},
   "outputs": [],
   "source": [
    "import pandas as pd\n",
    "from matplotlib import pyplot as plt\n",
    "from tensorflow.keras.models import Model\n",
    "\n",
    "import keras\n",
    "from tensorflow.keras.layers import Activation\n",
    "from tensorflow.keras.models import Sequential\n",
    "from tensorflow.keras.layers import Conv1D, MaxPooling1D, Dense, Input, Dropout, Flatten, BatchNormalization, Conv1D\n",
    "from tensorflow.keras.layers import concatenate, Dropout\n",
    "from keras.utils import to_categorical\n",
    "from tensorflow.keras import optimizers\n",
    "from keras.utils import to_categorical\n",
    "import seaborn as sns\n",
    "\n",
    "import numpy as np"
   ]
  },
  {
   "cell_type": "code",
   "execution_count": 29,
   "id": "26d3ef44",
   "metadata": {},
   "outputs": [],
   "source": [
    "def load_file(filepath):\n",
    "    dataframe = pd.read_csv(filepath, header=None, delim_whitespace=True)\n",
    "    return dataframe.values\n",
    "\n",
    "# load a list of files and return as a 3d numpy array\n",
    "def load_group(filenames, prefix=''):\n",
    "    loaded = list()\n",
    "    for name in filenames:\n",
    "        data = load_file(prefix + name)\n",
    "        loaded.append(data)\n",
    "    # stack group so that features are the 3rd dimension\n",
    "    loaded = np.dstack(loaded)\n",
    "    return loaded\n",
    "\n",
    "# load a dataset group, such as train or test\n",
    "def load_dataset_group(group, prefix=''):\n",
    "    filepath = prefix + group + '/Inertial_Signals/'\n",
    "    # load all 9 files as a single array\n",
    "    filenames = list()\n",
    "    # total acceleration\n",
    "    filenames += ['total_acc_x_'+group+'.txt', 'total_acc_y_'+group+'.txt', 'total_acc_z_'+group+'.txt']\n",
    "    # body acceleration\n",
    "    filenames += ['body_acc_x_'+group+'.txt', 'body_acc_y_'+group+'.txt', 'body_acc_z_'+group+'.txt']\n",
    "    # body gyroscope\n",
    "    filenames += ['body_gyro_x_'+group+'.txt', 'body_gyro_y_'+group+'.txt', 'body_gyro_z_'+group+'.txt']\n",
    "    # load input data\n",
    "    X = load_group(filenames, filepath)\n",
    "    # load class output\n",
    "    y = load_file(prefix + group + '/y_'+group+'.txt')\n",
    "    return X, y\n",
    "\n",
    "\n",
    "# load the dataset, returns train and test X and y elements\n",
    "def load_dataset(prefix=''):\n",
    "    # load all train\n",
    "    trainX, trainy = load_dataset_group('train', prefix + 'C:/Users/takea/Desktop/DeepLearning/datasets/week3/HAR_Dataset/UCI_HAR_Dataset/')\n",
    "    # load all test\n",
    "    testX, testy = load_dataset_group('test', prefix + 'C:/Users/takea/Desktop/DeepLearning/datasets/week3/HAR_Dataset/UCI_HAR_Dataset/')\n",
    "\n",
    "    #zero-offset class values\n",
    "    trainy = trainy - 1\n",
    "    testy = testy - 1\n",
    "    #one hot encode y\n",
    "    trainy_one_hot = to_categorical(trainy)\n",
    "    testy_one_hot = to_categorical(testy)\n",
    "    print(trainX.shape, trainy.shape, trainy_one_hot.shape, testX.shape, testy.shape, testy_one_hot.shape)\n",
    "    return trainX, trainy, trainy_one_hot, testX, testy, testy_one_hot"
   ]
  },
  {
   "cell_type": "code",
   "execution_count": 30,
   "id": "4241eee8",
   "metadata": {},
   "outputs": [
    {
     "name": "stdout",
     "output_type": "stream",
     "text": [
      "(7352, 128, 9) (7352, 1) (7352, 6) (2947, 128, 9) (2947, 1) (2947, 6)\n"
     ]
    }
   ],
   "source": [
    "trainX, trainy, trainy_one_hot, testX, testy, testy_one_hot = load_dataset()"
   ]
  },
  {
   "cell_type": "code",
   "execution_count": 31,
   "id": "833fa512",
   "metadata": {},
   "outputs": [],
   "source": [
    "from sklearn.model_selection import train_test_split\n",
    "X_train,X_val,y_train_one_hot,y_val_one_hot,y_train,y_val=train_test_split(trainX, trainy_one_hot, trainy,test_size=0.2,random_state=100)"
   ]
  },
  {
   "cell_type": "code",
   "execution_count": 32,
   "id": "d8a3f37a",
   "metadata": {},
   "outputs": [
    {
     "data": {
      "text/plain": [
       "((5881, 128, 9), (1471, 128, 9), (5881, 6), (1471, 6), (5881, 1), (1471, 1))"
      ]
     },
     "execution_count": 32,
     "metadata": {},
     "output_type": "execute_result"
    }
   ],
   "source": [
    "X_train.shape,X_val.shape,y_train_one_hot.shape,y_val_one_hot.shape,y_train.shape,y_val.shape"
   ]
  },
  {
   "cell_type": "code",
   "execution_count": 33,
   "id": "8a049745",
   "metadata": {},
   "outputs": [],
   "source": [
    "n_timesteps, n_features, n_outputs = X_train.shape[1], X_train.shape[2], y_train_one_hot.shape[1]"
   ]
  },
  {
   "cell_type": "code",
   "execution_count": 34,
   "id": "7851c278",
   "metadata": {},
   "outputs": [
    {
     "data": {
      "text/plain": [
       "(128, 9, 6)"
      ]
     },
     "execution_count": 34,
     "metadata": {},
     "output_type": "execute_result"
    }
   ],
   "source": [
    "n_timesteps, n_features, n_outputs"
   ]
  },
  {
   "cell_type": "code",
   "execution_count": 37,
   "id": "99bc29ee",
   "metadata": {},
   "outputs": [],
   "source": [
    "from tensorflow.keras.models import Model, Sequential\n",
    "from tensorflow.keras.layers import LSTM, Input, Dense, Flatten, Dropout, Conv1D, MaxPooling1D\n",
    "from tensorflow.keras.layers import concatenate\n",
    "from tensorflow.keras.utils import to_categorical"
   ]
  },
  {
   "cell_type": "code",
   "execution_count": 38,
   "id": "c9f570d8",
   "metadata": {},
   "outputs": [
    {
     "name": "stdout",
     "output_type": "stream",
     "text": [
      "Model: \"model\"\n",
      "__________________________________________________________________________________________________\n",
      " Layer (type)                Output Shape                 Param #   Connected to                  \n",
      "==================================================================================================\n",
      " input_1 (InputLayer)        [(None, 128, 9)]             0         []                            \n",
      "                                                                                                  \n",
      " input_2 (InputLayer)        [(None, 128, 9)]             0         []                            \n",
      "                                                                                                  \n",
      " input_3 (InputLayer)        [(None, 128, 9)]             0         []                            \n",
      "                                                                                                  \n",
      " input_4 (InputLayer)        [(None, 128, 9)]             0         []                            \n",
      "                                                                                                  \n",
      " conv1d (Conv1D)             (None, 126, 128)             3584      ['input_1[0][0]']             \n",
      "                                                                                                  \n",
      " conv1d_1 (Conv1D)           (None, 124, 128)             5888      ['input_2[0][0]']             \n",
      "                                                                                                  \n",
      " conv1d_2 (Conv1D)           (None, 122, 128)             8192      ['input_3[0][0]']             \n",
      "                                                                                                  \n",
      " conv1d_3 (Conv1D)           (None, 120, 128)             10496     ['input_4[0][0]']             \n",
      "                                                                                                  \n",
      " concatenate (Concatenate)   (None, 492, 128)             0         ['conv1d[0][0]',              \n",
      "                                                                     'conv1d_1[0][0]',            \n",
      "                                                                     'conv1d_2[0][0]',            \n",
      "                                                                     'conv1d_3[0][0]']            \n",
      "                                                                                                  \n",
      " max_pooling1d (MaxPooling1  (None, 98, 128)              0         ['concatenate[0][0]']         \n",
      " D)                                                                                               \n",
      "                                                                                                  \n",
      " conv1d_4 (Conv1D)           (None, 96, 64)               24640     ['max_pooling1d[0][0]']       \n",
      "                                                                                                  \n",
      " conv1d_5 (Conv1D)           (None, 94, 64)               41024     ['max_pooling1d[0][0]']       \n",
      "                                                                                                  \n",
      " conv1d_6 (Conv1D)           (None, 92, 64)               57408     ['max_pooling1d[0][0]']       \n",
      "                                                                                                  \n",
      " conv1d_7 (Conv1D)           (None, 90, 64)               73792     ['max_pooling1d[0][0]']       \n",
      "                                                                                                  \n",
      " concatenate_1 (Concatenate  (None, 372, 64)              0         ['conv1d_4[0][0]',            \n",
      " )                                                                   'conv1d_5[0][0]',            \n",
      "                                                                     'conv1d_6[0][0]',            \n",
      "                                                                     'conv1d_7[0][0]']            \n",
      "                                                                                                  \n",
      " max_pooling1d_1 (MaxPoolin  (None, 74, 64)               0         ['concatenate_1[0][0]']       \n",
      " g1D)                                                                                             \n",
      "                                                                                                  \n",
      " conv1d_8 (Conv1D)           (None, 72, 32)               6176      ['max_pooling1d_1[0][0]']     \n",
      "                                                                                                  \n",
      " conv1d_9 (Conv1D)           (None, 70, 32)               10272     ['max_pooling1d_1[0][0]']     \n",
      "                                                                                                  \n",
      " conv1d_10 (Conv1D)          (None, 68, 32)               14368     ['max_pooling1d_1[0][0]']     \n",
      "                                                                                                  \n",
      " conv1d_11 (Conv1D)          (None, 66, 32)               18464     ['max_pooling1d_1[0][0]']     \n",
      "                                                                                                  \n",
      " concatenate_2 (Concatenate  (None, 276, 32)              0         ['conv1d_8[0][0]',            \n",
      " )                                                                   'conv1d_9[0][0]',            \n",
      "                                                                     'conv1d_10[0][0]',           \n",
      "                                                                     'conv1d_11[0][0]']           \n",
      "                                                                                                  \n",
      " max_pooling1d_2 (MaxPoolin  (None, 55, 32)               0         ['concatenate_2[0][0]']       \n",
      " g1D)                                                                                             \n",
      "                                                                                                  \n",
      " flatten (Flatten)           (None, 1760)                 0         ['max_pooling1d_2[0][0]']     \n",
      "                                                                                                  \n",
      " dense (Dense)               (None, 512)                  901632    ['flatten[0][0]']             \n",
      "                                                                                                  \n",
      " dense_1 (Dense)             (None, 6)                    3078      ['dense[0][0]']               \n",
      "                                                                                                  \n",
      "==================================================================================================\n",
      "Total params: 1179014 (4.50 MB)\n",
      "Trainable params: 1179014 (4.50 MB)\n",
      "Non-trainable params: 0 (0.00 Byte)\n",
      "__________________________________________________________________________________________________\n"
     ]
    }
   ],
   "source": [
    "##Level_1\n",
    "# layer 1\n",
    "inputs1_1= Input(shape=(n_timesteps,n_features))##128,9\n",
    "conv1_1 = Conv1D(filters=128, kernel_size=3, activation='relu')(inputs1_1) ##none,126,128\n",
    "# layer 2\n",
    "inputs1_2= Input(shape=(n_timesteps,n_features))\n",
    "conv1_2 = Conv1D(filters=128, kernel_size=5, activation='relu')(inputs1_2)##124,128\n",
    "# layer 3\n",
    "inputs1_3= Input(shape=(n_timesteps,n_features))\n",
    "conv1_3 = Conv1D(filters=128, kernel_size=7, activation='relu')(inputs1_3)##122,128\n",
    "# layer 4\n",
    "inputs1_4= Input(shape=(n_timesteps,n_features))\n",
    "conv1_4 = Conv1D(filters=128, kernel_size=9, activation='relu')(inputs1_4)##120,128\n",
    "\n",
    "# merge1\n",
    "merged_1 = concatenate([conv1_1,conv1_2,conv1_3,conv1_4],axis=1)\n",
    "\n",
    "#maxpool1\n",
    "pool_1=MaxPooling1D(pool_size=5)(merged_1)\n",
    "\n",
    "##Level_2\n",
    "# layer 1\n",
    "conv2_1 = Conv1D(filters=64, kernel_size=3, activation='relu')(pool_1)\n",
    "# layer 2\n",
    "conv2_2 = Conv1D(filters=64, kernel_size=5, activation='relu')(pool_1)\n",
    "# layer 3\n",
    "conv2_3 = Conv1D(filters=64, kernel_size=7, activation='relu')(pool_1)\n",
    "# layer 4\n",
    "\n",
    "conv2_4 = Conv1D(filters=64, kernel_size=9, activation='relu')(pool_1) \n",
    "# merge2\n",
    "merged_2 = concatenate([conv2_1,conv2_2,conv2_3,conv2_4],axis=1)\n",
    "\n",
    "#maxpool2\n",
    "pool_2=MaxPooling1D(pool_size=5)(merged_2)\n",
    "\n",
    "\n",
    "##Level_3\n",
    "# layer 1\n",
    "conv3_1 = Conv1D(filters=32, kernel_size=3, activation='relu')(pool_2)\n",
    "# layer 2\n",
    "conv3_2 = Conv1D(filters=32, kernel_size=5, activation='relu')(pool_2)\n",
    "# layer 3\n",
    "conv3_3 = Conv1D(filters=32, kernel_size=7, activation='relu')(pool_2)\n",
    "# layer 4\n",
    "\n",
    "conv3_4 = Conv1D(filters=32, kernel_size=9, activation='relu')(pool_2) \n",
    "# merge2\n",
    "merged_3 = concatenate([conv3_1,conv3_2,conv3_3,conv3_4],axis=1)\n",
    "\n",
    "#maxpool2\n",
    "pool_3=MaxPooling1D(pool_size=5)(merged_3)\n",
    "\n",
    "\n",
    "#flatten\n",
    "flat_cnn=Flatten()(pool_3)\n",
    "\n",
    "##dense layer\n",
    "dense = Dense(512, activation='relu')(flat_cnn)\n",
    "outputs = Dense(n_outputs, activation='softmax')(dense)\n",
    "\n",
    "##MODEL\n",
    "cnn3_model = Model([inputs1_1, inputs1_2, inputs1_3,inputs1_4], outputs)\n",
    "\n",
    "cnn3_model.compile(loss='categorical_crossentropy', optimizer='adam', metrics=['accuracy'])\n",
    "cnn3_model.summary()"
   ]
  },
  {
   "cell_type": "code",
   "execution_count": 40,
   "id": "9bf815b0",
   "metadata": {},
   "outputs": [
    {
     "name": "stdout",
     "output_type": "stream",
     "text": [
      "Epoch 1/30\n",
      "184/184 [==============================] - 36s 162ms/step - loss: 0.2898 - accuracy: 0.8874 - val_loss: 0.2834 - val_accuracy: 0.8965\n",
      "Epoch 2/30\n",
      "184/184 [==============================] - 31s 168ms/step - loss: 0.1131 - accuracy: 0.9517 - val_loss: 0.2545 - val_accuracy: 0.9267\n",
      "Epoch 3/30\n",
      "184/184 [==============================] - 29s 159ms/step - loss: 0.1041 - accuracy: 0.9548 - val_loss: 0.2835 - val_accuracy: 0.9026\n",
      "Epoch 4/30\n",
      "184/184 [==============================] - 28s 150ms/step - loss: 0.0966 - accuracy: 0.9602 - val_loss: 0.2604 - val_accuracy: 0.9063\n",
      "Epoch 5/30\n",
      "184/184 [==============================] - 31s 171ms/step - loss: 0.1320 - accuracy: 0.9524 - val_loss: 0.4023 - val_accuracy: 0.8680\n",
      "Epoch 6/30\n",
      "184/184 [==============================] - 28s 152ms/step - loss: 0.1082 - accuracy: 0.9546 - val_loss: 0.2599 - val_accuracy: 0.9152\n",
      "Epoch 7/30\n",
      "184/184 [==============================] - 29s 158ms/step - loss: 0.0953 - accuracy: 0.9580 - val_loss: 0.2944 - val_accuracy: 0.9104\n",
      "Epoch 8/30\n",
      "184/184 [==============================] - 31s 168ms/step - loss: 0.0900 - accuracy: 0.9619 - val_loss: 0.1976 - val_accuracy: 0.9199\n",
      "Epoch 9/30\n",
      "184/184 [==============================] - 34s 183ms/step - loss: 0.0739 - accuracy: 0.9680 - val_loss: 0.2450 - val_accuracy: 0.9196\n",
      "Epoch 10/30\n",
      "184/184 [==============================] - 31s 166ms/step - loss: 0.1165 - accuracy: 0.9594 - val_loss: 0.3461 - val_accuracy: 0.8924\n",
      "Epoch 11/30\n",
      "184/184 [==============================] - 29s 155ms/step - loss: 0.0773 - accuracy: 0.9657 - val_loss: 0.2815 - val_accuracy: 0.9172\n",
      "Epoch 12/30\n",
      "184/184 [==============================] - 29s 156ms/step - loss: 0.0641 - accuracy: 0.9719 - val_loss: 0.2814 - val_accuracy: 0.9250\n",
      "Epoch 13/30\n",
      "184/184 [==============================] - 28s 153ms/step - loss: 0.0568 - accuracy: 0.9738 - val_loss: 0.5128 - val_accuracy: 0.9097\n",
      "Epoch 14/30\n",
      "184/184 [==============================] - 28s 154ms/step - loss: 0.0590 - accuracy: 0.9740 - val_loss: 0.3341 - val_accuracy: 0.9203\n",
      "Epoch 15/30\n",
      "184/184 [==============================] - 28s 150ms/step - loss: 0.0808 - accuracy: 0.9716 - val_loss: 0.2684 - val_accuracy: 0.9270\n",
      "Epoch 16/30\n",
      "184/184 [==============================] - 28s 152ms/step - loss: 0.0563 - accuracy: 0.9765 - val_loss: 0.3391 - val_accuracy: 0.9233\n",
      "Epoch 17/30\n",
      "184/184 [==============================] - 27s 148ms/step - loss: 0.0414 - accuracy: 0.9821 - val_loss: 0.3702 - val_accuracy: 0.9328\n",
      "Epoch 18/30\n",
      "184/184 [==============================] - 26s 141ms/step - loss: 0.0431 - accuracy: 0.9827 - val_loss: 0.3175 - val_accuracy: 0.9277\n",
      "Epoch 19/30\n",
      "184/184 [==============================] - 28s 152ms/step - loss: 0.0362 - accuracy: 0.9837 - val_loss: 0.3647 - val_accuracy: 0.9338\n",
      "Epoch 20/30\n",
      "184/184 [==============================] - 26s 141ms/step - loss: 0.0389 - accuracy: 0.9833 - val_loss: 0.3526 - val_accuracy: 0.9338\n",
      "Epoch 21/30\n",
      "184/184 [==============================] - 26s 141ms/step - loss: 0.0322 - accuracy: 0.9864 - val_loss: 0.3747 - val_accuracy: 0.9369\n",
      "Epoch 22/30\n",
      "184/184 [==============================] - 27s 146ms/step - loss: 0.0358 - accuracy: 0.9845 - val_loss: 0.3444 - val_accuracy: 0.9365\n",
      "Epoch 23/30\n",
      "184/184 [==============================] - 25s 138ms/step - loss: 0.0320 - accuracy: 0.9866 - val_loss: 0.4456 - val_accuracy: 0.9372\n",
      "Epoch 24/30\n",
      "184/184 [==============================] - 25s 138ms/step - loss: 0.0240 - accuracy: 0.9905 - val_loss: 0.4681 - val_accuracy: 0.9216\n",
      "Epoch 25/30\n",
      "184/184 [==============================] - 25s 136ms/step - loss: 0.0325 - accuracy: 0.9869 - val_loss: 0.5602 - val_accuracy: 0.9332\n",
      "Epoch 26/30\n",
      "184/184 [==============================] - 26s 143ms/step - loss: 0.0379 - accuracy: 0.9876 - val_loss: 0.3934 - val_accuracy: 0.9355\n",
      "Epoch 27/30\n",
      "184/184 [==============================] - 26s 143ms/step - loss: 0.0338 - accuracy: 0.9906 - val_loss: 0.7663 - val_accuracy: 0.9080\n",
      "Epoch 28/30\n",
      "184/184 [==============================] - 26s 141ms/step - loss: 0.0498 - accuracy: 0.9835 - val_loss: 0.7043 - val_accuracy: 0.9321\n",
      "Epoch 29/30\n",
      "184/184 [==============================] - 26s 141ms/step - loss: 0.0203 - accuracy: 0.9922 - val_loss: 0.7315 - val_accuracy: 0.9243\n",
      "Epoch 30/30\n",
      "184/184 [==============================] - 27s 147ms/step - loss: 0.0220 - accuracy: 0.9925 - val_loss: 0.7945 - val_accuracy: 0.9369\n"
     ]
    }
   ],
   "source": [
    "# fit network\n",
    "model_history=cnn3_model.fit(x=[X_train,X_train,X_train,X_train], y=y_train_one_hot, epochs=30, batch_size=32,validation_data= ([testX,testX,testX,testX],testy_one_hot))"
   ]
  },
  {
   "cell_type": "code",
   "execution_count": 41,
   "id": "4b2dc9b4",
   "metadata": {},
   "outputs": [
    {
     "data": {
      "image/png": "[encoded data removed]",
      "text/plain": [
       "<Figure size 432x288 with 1 Axes>"
      ]
     },
     "metadata": {
      "needs_background": "light"
     },
     "output_type": "display_data"
    }
   ],
   "source": [
    "import matplotlib.pyplot as plt\n",
    "import seaborn as sns\n",
    "\n",
    "loss =model_history.history['loss']\n",
    "val_loss =model_history.history['val_loss']\n",
    "epochs = range(1, len(loss) + 1)\n",
    "plt.plot(epochs, loss, 'y', label='Training loss')\n",
    "plt.plot(epochs, val_loss, 'r', label='Validation loss')\n",
    "plt.title('Training and validation loss')\n",
    "plt.xlabel('Epochs')\n",
    "plt.ylabel('Loss')\n",
    "plt.legend()\n",
    "plt.show()"
   ]
  },
  {
   "cell_type": "code",
   "execution_count": 42,
   "id": "ac70223c",
   "metadata": {},
   "outputs": [
    {
     "data": {
      "image/png": "[encoded data removed]",
      "text/plain": [
       "<Figure size 432x288 with 1 Axes>"
      ]
     },
     "metadata": {
      "needs_background": "light"
     },
     "output_type": "display_data"
    }
   ],
   "source": [
    "acc =model_history.history['accuracy']\n",
    "val_acc =model_history.history['val_accuracy']\n",
    "plt.plot(epochs, acc, 'y', label='Training acc')\n",
    "plt.plot(epochs, val_acc, 'r', label='Validation acc')\n",
    "plt.title('Training and validation accuracy')\n",
    "plt.xlabel('Epochs')\n",
    "plt.ylabel('Accuracy')\n",
    "plt.legend()\n",
    "plt.show()"
   ]
  },
  {
   "cell_type": "code",
   "execution_count": 43,
   "id": "302d5eac",
   "metadata": {},
   "outputs": [
    {
     "name": "stdout",
     "output_type": "stream",
     "text": [
      "93/93 [==============================] - 4s 35ms/step\n",
      "[[468   1  26   0   1   0]\n",
      " [  4 446  19   2   0   0]\n",
      " [  0   0 420   0   0   0]\n",
      " [  0   2   0 418  71   0]\n",
      " [  0   0   0  33 499   0]\n",
      " [  0   0   0   0  27 510]]\n",
      "0.9368849677638276\n",
      "              precision    recall  f1-score   support\n",
      "\n",
      "           0       0.99      0.94      0.97       496\n",
      "           1       0.99      0.95      0.97       471\n",
      "           2       0.90      1.00      0.95       420\n",
      "           3       0.92      0.85      0.89       491\n",
      "           4       0.83      0.94      0.88       532\n",
      "           5       1.00      0.95      0.97       537\n",
      "\n",
      "    accuracy                           0.94      2947\n",
      "   macro avg       0.94      0.94      0.94      2947\n",
      "weighted avg       0.94      0.94      0.94      2947\n",
      "\n"
     ]
    },
    {
     "data": {
      "text/plain": [
       "<AxesSubplot:>"
      ]
     },
     "execution_count": 43,
     "metadata": {},
     "output_type": "execute_result"
    },
    {
     "data": {
      "image/png": "[encoded data removed]",
      "text/plain": [
       "<Figure size 432x288 with 2 Axes>"
      ]
     },
     "metadata": {
      "needs_background": "light"
     },
     "output_type": "display_data"
    }
   ],
   "source": [
    "from sklearn.metrics import confusion_matrix,classification_report,accuracy_score\n",
    "pred=cnn3_model.predict([testX,testX,testX,testX])\n",
    "pred=np.argmax(pred, axis=-1)\n",
    "cm=confusion_matrix(testy,pred)\n",
    "print(cm)\n",
    "print(accuracy_score(testy,pred))\n",
    "print(classification_report(testy,pred))\n",
    "sns.heatmap(cm, annot=True, fmt = '.2f')"
   ]
  },
  {
   "cell_type": "code",
   "execution_count": null,
   "id": "4cb4ee3b",
   "metadata": {},
   "outputs": [],
   "source": []
  }
 ],
 "metadata": {
  "kernelspec": {
   "display_name": "Python 3 (ipykernel)",
   "language": "python",
   "name": "python3"
  },
  "language_info": {
   "codemirror_mode": {
    "name": "ipython",
    "version": 3
   },
   "file_extension": ".py",
   "mimetype": "text/x-python",
   "name": "python",
   "nbconvert_exporter": "python",
   "pygments_lexer": "ipython3",
   "version": "3.9.7"
  }
 },
 "nbformat": 4,
 "nbformat_minor": 5
}
