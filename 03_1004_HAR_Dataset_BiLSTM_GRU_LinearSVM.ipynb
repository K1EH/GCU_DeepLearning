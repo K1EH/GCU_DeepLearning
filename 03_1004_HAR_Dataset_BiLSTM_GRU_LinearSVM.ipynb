{
 "cells": [
  {
   "cell_type": "code",
   "execution_count": 1,
   "id": "f67c9ae0",
   "metadata": {},
   "outputs": [],
   "source": [
    "import pandas as pd\n",
    "\n",
    "def get_new_feature_name_df(old_feature_name_df):\n",
    "    feature_dup_df = pd.DataFrame(data=old_feature_name_df.groupby('column_name').cumcount(),\n",
    "                                  columns=['dup_cnt'])\n",
    "    feature_dup_df = feature_dup_df.reset_index()\n",
    "    new_feature_name_df = pd.merge(old_feature_name_df.reset_index(), feature_dup_df, how='outer')\n",
    "    new_feature_name_df['column_name'] = new_feature_name_df[['column_name', 'dup_cnt']].apply(lambda x : x[0]+'_'+str(x[1]) \n",
    "                                                                                         if x[1] >0 else x[0] ,  axis=1)\n",
    "    new_feature_name_df = new_feature_name_df.drop(['index'], axis=1)\n",
    "    return new_feature_name_df\n",
    "\n",
    "def get_human_dataset( ):\n",
    "    \n",
    "    # 각 데이터 파일들은 공백으로 분리되어 있으므로 read_csv에서 공백 문자를 sep으로 할당.\n",
    "    feature_name_df = pd.read_csv(r'C:\\Users\\takea\\Desktop\\DeepLearning\\datasets\\week3\\HAR_Dataset\\UCI_HAR_Dataset\\features.txt',sep='\\s+',\n",
    "                        header=None,names=['column_index','column_name'])\n",
    "    \n",
    "    # 중복된 피처명을 수정하는 get_new_feature_name_df()를 이용, 신규 피처명 DataFrame생성. \n",
    "    new_feature_name_df = get_new_feature_name_df(feature_name_df)\n",
    "    \n",
    "    # DataFrame에 피처명을 컬럼으로 부여하기 위해 리스트 객체로 다시 변환\n",
    "    feature_name = new_feature_name_df.iloc[:, 1].values.tolist()\n",
    "    \n",
    "    # 학습 피처 데이터 셋과 테스트 피처 데이터을 DataFrame으로 로딩. 컬럼명은 feature_name 적용\n",
    "    X_train = pd.read_csv(r'C:\\Users\\takea\\Desktop\\DeepLearning\\datasets\\week3\\HAR_Dataset\\UCI_HAR_Dataset\\train\\X_train.txt',sep='\\s+', names=feature_name )\n",
    "    X_test = pd.read_csv(r'C:\\Users\\takea\\Desktop\\DeepLearning\\datasets\\week3\\HAR_Dataset\\UCI_HAR_Dataset\\test\\X_test.txt',sep='\\s+', names=feature_name)\n",
    "    \n",
    "    # 학습 레이블과 테스트 레이블 데이터을 DataFrame으로 로딩하고 컬럼명은 action으로 부여\n",
    "    y_train = pd.read_csv(r'C:\\Users\\takea\\Desktop\\DeepLearning\\datasets\\week3\\HAR_Dataset\\UCI_HAR_Dataset\\train\\y_train.txt',sep='\\s+',header=None,names=['action'])\n",
    "    y_test = pd.read_csv(r'C:\\Users\\takea\\Desktop\\DeepLearning\\datasets\\week3\\HAR_Dataset\\UCI_HAR_Dataset\\test\\y_test.txt',sep='\\s+',header=None,names=['action'])\n",
    "    \n",
    "    # 로드된 학습/테스트용 DataFrame을 모두 반환 \n",
    "    return X_train, X_test, y_train, y_test"
   ]
  },
  {
   "cell_type": "code",
   "execution_count": 2,
   "id": "5f9d43ee",
   "metadata": {},
   "outputs": [
    {
     "name": "stderr",
     "output_type": "stream",
     "text": [
      "C:\\Users\\takea\\anaconda3\\lib\\site-packages\\scipy\\__init__.py:146: UserWarning: A NumPy version >=1.16.5 and <1.23.0 is required for this version of SciPy (detected version 1.24.3\n",
      "  warnings.warn(f\"A NumPy version >={np_minversion} and <{np_maxversion}\"\n"
     ]
    },
    {
     "name": "stdout",
     "output_type": "stream",
     "text": [
      "## 학습 피처 데이터 정보 ##\n",
      "<class 'pandas.core.frame.DataFrame'>\n",
      "RangeIndex: 7352 entries, 0 to 7351\n",
      "Columns: 561 entries, tBodyAcc-mean()-X to angle(Z,gravityMean)\n",
      "dtypes: float64(561)\n",
      "memory usage: 31.5 MB\n",
      "None\n"
     ]
    }
   ],
   "source": [
    "from sklearn.ensemble import RandomForestClassifier\n",
    "from sklearn.metrics import accuracy_score\n",
    "import pandas as pd\n",
    "import warnings\n",
    "warnings.filterwarnings('ignore')\n",
    "\n",
    "# 결정 트리에서 사용한 get_human_dataset( )을 이용해 학습/테스트용 DataFrame 반환\n",
    "X_train, X_test, y_train, y_test = get_human_dataset()\n",
    "\n",
    "print(\"## 학습 피처 데이터 정보 ##\")\n",
    "print(X_train.info())"
   ]
  },
  {
   "cell_type": "code",
   "execution_count": 3,
   "id": "d6b4da4d",
   "metadata": {},
   "outputs": [
    {
     "name": "stdout",
     "output_type": "stream",
     "text": [
      "      tBodyAcc-mean()-X  tBodyAcc-mean()-Y  tBodyAcc-mean()-Z  \\\n",
      "0              0.288585          -0.020294          -0.132905   \n",
      "1              0.278419          -0.016411          -0.123520   \n",
      "2              0.279653          -0.019467          -0.113462   \n",
      "3              0.279174          -0.026201          -0.123283   \n",
      "4              0.276629          -0.016570          -0.115362   \n",
      "...                 ...                ...                ...   \n",
      "7347           0.299665          -0.057193          -0.181233   \n",
      "7348           0.273853          -0.007749          -0.147468   \n",
      "7349           0.273387          -0.017011          -0.045022   \n",
      "7350           0.289654          -0.018843          -0.158281   \n",
      "7351           0.351503          -0.012423          -0.203867   \n",
      "\n",
      "      tBodyAcc-std()-X  tBodyAcc-std()-Y  tBodyAcc-std()-Z  tBodyAcc-mad()-X  \\\n",
      "0            -0.995279         -0.983111         -0.913526         -0.995112   \n",
      "1            -0.998245         -0.975300         -0.960322         -0.998807   \n",
      "2            -0.995380         -0.967187         -0.978944         -0.996520   \n",
      "3            -0.996091         -0.983403         -0.990675         -0.997099   \n",
      "4            -0.998139         -0.980817         -0.990482         -0.998321   \n",
      "...                ...               ...               ...               ...   \n",
      "7347         -0.195387          0.039905          0.077078         -0.282301   \n",
      "7348         -0.235309          0.004816          0.059280         -0.322552   \n",
      "7349         -0.218218         -0.103822          0.274533         -0.304515   \n",
      "7350         -0.219139         -0.111412          0.268893         -0.310487   \n",
      "7351         -0.269270         -0.087212          0.177404         -0.377404   \n",
      "\n",
      "      tBodyAcc-mad()-Y  tBodyAcc-mad()-Z  tBodyAcc-max()-X  ...  \\\n",
      "0            -0.983185         -0.923527         -0.934724  ...   \n",
      "1            -0.974914         -0.957686         -0.943068  ...   \n",
      "2            -0.963668         -0.977469         -0.938692  ...   \n",
      "3            -0.982750         -0.989302         -0.938692  ...   \n",
      "4            -0.979672         -0.990441         -0.942469  ...   \n",
      "...                ...               ...               ...  ...   \n",
      "7347          0.043616          0.060410          0.210795  ...   \n",
      "7348         -0.029456          0.080585          0.117440  ...   \n",
      "7349         -0.098913          0.332584          0.043999  ...   \n",
      "7350         -0.068200          0.319473          0.101702  ...   \n",
      "7351         -0.038678          0.229430          0.269013  ...   \n",
      "\n",
      "      fBodyBodyGyroJerkMag-meanFreq()  fBodyBodyGyroJerkMag-skewness()  \\\n",
      "0                           -0.074323                        -0.298676   \n",
      "1                            0.158075                        -0.595051   \n",
      "2                            0.414503                        -0.390748   \n",
      "3                            0.404573                        -0.117290   \n",
      "4                            0.087753                        -0.351471   \n",
      "...                               ...                              ...   \n",
      "7347                        -0.070157                        -0.588433   \n",
      "7348                         0.165259                        -0.390738   \n",
      "7349                         0.195034                         0.025145   \n",
      "7350                         0.013865                         0.063907   \n",
      "7351                        -0.058402                        -0.387052   \n",
      "\n",
      "      fBodyBodyGyroJerkMag-kurtosis()  angle(tBodyAccMean,gravity)  \\\n",
      "0                           -0.710304                    -0.112754   \n",
      "1                           -0.861499                     0.053477   \n",
      "2                           -0.760104                    -0.118559   \n",
      "3                           -0.482845                    -0.036788   \n",
      "4                           -0.699205                     0.123320   \n",
      "...                               ...                          ...   \n",
      "7347                        -0.880324                    -0.190437   \n",
      "7348                        -0.680744                     0.064907   \n",
      "7349                        -0.304029                     0.052806   \n",
      "7350                        -0.344314                    -0.101360   \n",
      "7351                        -0.740738                    -0.280088   \n",
      "\n",
      "      angle(tBodyAccJerkMean),gravityMean)  angle(tBodyGyroMean,gravityMean)  \\\n",
      "0                                 0.030400                         -0.464761   \n",
      "1                                -0.007435                         -0.732626   \n",
      "2                                 0.177899                          0.100699   \n",
      "3                                -0.012892                          0.640011   \n",
      "4                                 0.122542                          0.693578   \n",
      "...                                    ...                               ...   \n",
      "7347                              0.829718                          0.206972   \n",
      "7348                              0.875679                         -0.879033   \n",
      "7349                             -0.266724                          0.864404   \n",
      "7350                              0.700740                          0.936674   \n",
      "7351                             -0.007739                         -0.056088   \n",
      "\n",
      "      angle(tBodyGyroJerkMean,gravityMean)  angle(X,gravityMean)  \\\n",
      "0                                -0.018446             -0.841247   \n",
      "1                                 0.703511             -0.844788   \n",
      "2                                 0.808529             -0.848933   \n",
      "3                                -0.485366             -0.848649   \n",
      "4                                -0.615971             -0.847865   \n",
      "...                                    ...                   ...   \n",
      "7347                             -0.425619             -0.791883   \n",
      "7348                              0.400219             -0.771840   \n",
      "7349                              0.701169             -0.779133   \n",
      "7350                             -0.589479             -0.785181   \n",
      "7351                             -0.616956             -0.783267   \n",
      "\n",
      "      angle(Y,gravityMean)  angle(Z,gravityMean)  \n",
      "0                 0.179941             -0.058627  \n",
      "1                 0.180289             -0.054317  \n",
      "2                 0.180637             -0.049118  \n",
      "3                 0.181935             -0.047663  \n",
      "4                 0.185151             -0.043892  \n",
      "...                    ...                   ...  \n",
      "7347              0.238604              0.049819  \n",
      "7348              0.252676              0.050053  \n",
      "7349              0.249145              0.040811  \n",
      "7350              0.246432              0.025339  \n",
      "7351              0.246809              0.036695  \n",
      "\n",
      "[7352 rows x 561 columns]\n"
     ]
    }
   ],
   "source": [
    "print(X_train)"
   ]
  },
  {
   "cell_type": "code",
   "execution_count": 4,
   "id": "e5ac1260",
   "metadata": {},
   "outputs": [
    {
     "name": "stdout",
     "output_type": "stream",
     "text": [
      "      action\n",
      "0          5\n",
      "1          5\n",
      "2          5\n",
      "3          5\n",
      "4          5\n",
      "...      ...\n",
      "7347       2\n",
      "7348       2\n",
      "7349       2\n",
      "7350       2\n",
      "7351       2\n",
      "\n",
      "[7352 rows x 1 columns]\n"
     ]
    }
   ],
   "source": [
    "print(y_train)"
   ]
  },
  {
   "cell_type": "code",
   "execution_count": 5,
   "id": "768c70ae",
   "metadata": {
    "scrolled": true
   },
   "outputs": [
    {
     "name": "stdout",
     "output_type": "stream",
     "text": [
      "0      5\n",
      "27     4\n",
      "51     6\n",
      "78     1\n",
      "125    3\n",
      "150    2\n",
      "Name: action, dtype: int64\n"
     ]
    }
   ],
   "source": [
    "unique_labels = y_train.action.drop_duplicates()\n",
    "print(unique_labels)"
   ]
  },
  {
   "cell_type": "markdown",
   "id": "5c0bbed6",
   "metadata": {},
   "source": [
    "# BiLSTM"
   ]
  },
  {
   "cell_type": "code",
   "execution_count": 6,
   "id": "8a5c6017",
   "metadata": {},
   "outputs": [],
   "source": [
    "import numpy as np\n",
    "import pandas as pd\n",
    "import matplotlib.pyplot as plt\n",
    "from sklearn.preprocessing import StandardScaler\n",
    "from sklearn.model_selection import train_test_split\n",
    "from tensorflow import keras\n",
    "from tensorflow.keras.models import Sequential\n",
    "from tensorflow.keras.layers import Bidirectional, LSTM, Dense, Dropout\n",
    "from tensorflow.keras.utils import to_categorical"
   ]
  },
  {
   "cell_type": "code",
   "execution_count": 7,
   "id": "5e8b5347",
   "metadata": {},
   "outputs": [],
   "source": [
    "# 데이터 스케일링\n",
    "scaler = StandardScaler()\n",
    "X_train = scaler.fit_transform(X_train)\n",
    "X_test = scaler.transform(X_test)\n",
    "\n",
    "# 레이블을 원-핫 인코딩\n",
    "y_train = to_categorical(y_train - 1, num_classes=6)\n",
    "y_test = to_categorical(y_test - 1, num_classes=6)"
   ]
  },
  {
   "cell_type": "code",
   "execution_count": null,
   "id": "f57cbadc",
   "metadata": {},
   "outputs": [
    {
     "name": "stdout",
     "output_type": "stream",
     "text": [
      "Epoch 1/20\n",
      "92/92 [==============================] - 227s 2s/step - loss: 1.0466 - accuracy: 0.5113 - val_loss: 0.7842 - val_accuracy: 0.6893\n",
      "Epoch 2/20\n",
      "92/92 [==============================] - 235s 3s/step - loss: 0.6624 - accuracy: 0.7169 - val_loss: 0.7251 - val_accuracy: 0.7417\n",
      "Epoch 3/20\n",
      "92/92 [==============================] - 257s 3s/step - loss: 0.5742 - accuracy: 0.7577 - val_loss: 0.5926 - val_accuracy: 0.8097\n",
      "Epoch 4/20\n",
      "92/92 [==============================] - 469s 5s/step - loss: 0.5021 - accuracy: 0.7903 - val_loss: 0.5538 - val_accuracy: 0.8389\n",
      "Epoch 5/20\n",
      "92/92 [==============================] - 556s 6s/step - loss: 0.4492 - accuracy: 0.8119 - val_loss: 0.5392 - val_accuracy: 0.8253\n",
      "Epoch 6/20\n",
      "92/92 [==============================] - 602s 7s/step - loss: 0.4265 - accuracy: 0.8181 - val_loss: 0.5483 - val_accuracy: 0.8457\n",
      "Epoch 7/20\n",
      "92/92 [==============================] - 629s 7s/step - loss: 0.3916 - accuracy: 0.8374 - val_loss: 0.4689 - val_accuracy: 0.8511\n",
      "Epoch 8/20\n",
      "92/92 [==============================] - 706s 8s/step - loss: 0.3616 - accuracy: 0.8499 - val_loss: 0.4933 - val_accuracy: 0.8504\n",
      "Epoch 9/20\n",
      "92/92 [==============================] - 629s 7s/step - loss: 0.3461 - accuracy: 0.8572 - val_loss: 0.4530 - val_accuracy: 0.8729\n",
      "Epoch 10/20\n",
      "92/92 [==============================] - 667s 7s/step - loss: 0.3177 - accuracy: 0.8716 - val_loss: 0.4317 - val_accuracy: 0.8770\n",
      "Epoch 11/20\n",
      "92/92 [==============================] - 598s 7s/step - loss: 0.3084 - accuracy: 0.8708 - val_loss: 0.4762 - val_accuracy: 0.8491\n",
      "Epoch 12/20\n",
      "92/92 [==============================] - 624s 7s/step - loss: 0.2759 - accuracy: 0.8840 - val_loss: 0.5035 - val_accuracy: 0.8368\n",
      "Epoch 13/20\n",
      "92/92 [==============================] - 793s 9s/step - loss: 0.2624 - accuracy: 0.8956 - val_loss: 0.4560 - val_accuracy: 0.8593\n",
      "Epoch 14/20\n",
      "92/92 [==============================] - 609s 7s/step - loss: 0.2434 - accuracy: 0.9026 - val_loss: 0.4410 - val_accuracy: 0.8715\n",
      "Epoch 15/20\n",
      "92/92 [==============================] - 486s 5s/step - loss: 0.2317 - accuracy: 0.9085 - val_loss: 0.4864 - val_accuracy: 0.8586\n",
      "Epoch 16/20\n",
      "92/92 [==============================] - 354s 4s/step - loss: 0.2254 - accuracy: 0.9112 - val_loss: 0.4227 - val_accuracy: 0.8865\n",
      "Epoch 17/20\n",
      "27/92 [=======>......................] - ETA: 3:54 - loss: 0.1813 - accuracy: 0.9329"
     ]
    }
   ],
   "source": [
    "# BiLSTM 모델 정의\n",
    "model = Sequential()\n",
    "model.add(Bidirectional(LSTM(64, return_sequences=True), input_shape=(X_train.shape[1], 1)))\n",
    "model.add(Bidirectional(LSTM(64)))\n",
    "model.add(Dropout(0.5))\n",
    "model.add(Dense(6, activation='softmax'))\n",
    "\n",
    "# 모델 컴파일\n",
    "model.compile(loss='categorical_crossentropy', optimizer='adam', metrics=['accuracy'])\n",
    "\n",
    "# 모델 훈련\n",
    "history = model.fit(X_train.reshape(-1, X_train.shape[1], 1), y_train, epochs=20, batch_size=64, validation_split=0.2)"
   ]
  },
  {
   "cell_type": "code",
   "execution_count": null,
   "id": "31e6d921",
   "metadata": {},
   "outputs": [],
   "source": [
    "# 정확도 그래프\n",
    "plt.plot(history.history['accuracy'], label='Train Accuracy')\n",
    "plt.plot(history.history['val_accuracy'], label='Validation Accuracy')\n",
    "plt.xlabel('Epochs')\n",
    "plt.ylabel('Accuracy')\n",
    "plt.legend()\n",
    "plt.show()\n",
    "\n",
    "# 손실 그래프\n",
    "plt.plot(history.history['loss'], label='Train Loss')\n",
    "plt.plot(history.history['val_loss'], label='Validation Loss')\n",
    "plt.xlabel('Epochs')\n",
    "plt.ylabel('Loss')\n",
    "plt.legend()\n",
    "plt.show()\n",
    "\n",
    "# 테스트 데이터로 평가\n",
    "test_loss, test_acc = model.evaluate(X_test.reshape(-1, X_test.shape[1], 1), y_test)\n",
    "print(f'Test accuracy: {test_acc}')\n"
   ]
  },
  {
   "cell_type": "markdown",
   "id": "af8cb5ea",
   "metadata": {},
   "source": [
    "# GRU"
   ]
  },
  {
   "cell_type": "code",
   "execution_count": null,
   "id": "3aeec829",
   "metadata": {},
   "outputs": [],
   "source": [
    "import numpy as np\n",
    "import pandas as pd\n",
    "import matplotlib.pyplot as plt\n",
    "from sklearn.preprocessing import StandardScaler\n",
    "from sklearn.model_selection import train_test_split\n",
    "from tensorflow import keras\n",
    "from tensorflow.keras.models import Sequential\n",
    "from tensorflow.keras.layers import GRU, Dense, Dropout\n",
    "from tensorflow.keras.utils import to_categorical"
   ]
  },
  {
   "cell_type": "code",
   "execution_count": null,
   "id": "273c09bd",
   "metadata": {},
   "outputs": [],
   "source": [
    "# 데이터 스케일링\n",
    "scaler = StandardScaler()\n",
    "X_train = scaler.fit_transform(X_train)\n",
    "X_test = scaler.transform(X_test)\n",
    "\n",
    "# 레이블을 원-핫 인코딩\n",
    "y_train = to_categorical(y_train - 1, num_classes=6)\n",
    "y_test = to_categorical(y_test - 1, num_classes=6)"
   ]
  },
  {
   "cell_type": "code",
   "execution_count": null,
   "id": "37b515f0",
   "metadata": {},
   "outputs": [],
   "source": [
    "# GRU 모델 정의\n",
    "model = Sequential()\n",
    "model.add(GRU(64, return_sequences=True, input_shape=(X_train.shape[1], 1)))\n",
    "model.add(GRU(64))\n",
    "model.add(Dropout(0.5))\n",
    "model.add(Dense(6, activation='softmax'))\n",
    "\n",
    "# 모델 컴파일\n",
    "model.compile(loss='categorical_crossentropy', optimizer='adam', metrics=['accuracy'])\n",
    "\n",
    "# 모델 훈련\n",
    "history = model.fit(X_train.reshape(-1, X_train.shape[1], 1), y_train, epochs=20, batch_size=64, validation_split=0.2)"
   ]
  },
  {
   "cell_type": "code",
   "execution_count": null,
   "id": "fa3825c2",
   "metadata": {},
   "outputs": [],
   "source": [
    "# 정확도 그래프\n",
    "plt.plot(history.history['accuracy'], label='Train Accuracy')\n",
    "plt.plot(history.history['val_accuracy'], label='Validation Accuracy')\n",
    "plt.xlabel('Epochs')\n",
    "plt.ylabel('Accuracy')\n",
    "plt.legend()\n",
    "plt.show()\n",
    "\n",
    "# 손실 그래프\n",
    "plt.plot(history.history['loss'], label='Train Loss')\n",
    "plt.plot(history.history['val_loss'], label='Validation Loss')\n",
    "plt.xlabel('Epochs')\n",
    "plt.ylabel('Loss')\n",
    "plt.legend()\n",
    "plt.show()\n",
    "\n",
    "# 테스트 데이터로 평가\n",
    "test_loss, test_acc = model.evaluate(X_test.reshape(-1, X_test.shape[1], 1), y_test)\n",
    "print(f'Test accuracy: {test_acc}')"
   ]
  },
  {
   "cell_type": "markdown",
   "id": "e55c236f",
   "metadata": {},
   "source": [
    "# LinearSVM"
   ]
  },
  {
   "cell_type": "code",
   "execution_count": null,
   "id": "56c0a4a3",
   "metadata": {},
   "outputs": [],
   "source": [
    "import numpy as np\n",
    "import pandas as pd\n",
    "import matplotlib.pyplot as plt\n",
    "from sklearn.preprocessing import StandardScaler\n",
    "from sklearn.model_selection import train_test_split\n",
    "from sklearn.svm import LinearSVC\n",
    "from sklearn.metrics import classification_report, confusion_matrix"
   ]
  },
  {
   "cell_type": "code",
   "execution_count": null,
   "id": "4ed35540",
   "metadata": {},
   "outputs": [],
   "source": [
    "# 데이터 스케일링\n",
    "scaler = StandardScaler()\n",
    "X_train = scaler.fit_transform(X_train)\n",
    "X_test = scaler.transform(X_test)"
   ]
  },
  {
   "cell_type": "code",
   "execution_count": null,
   "id": "b4d43a74",
   "metadata": {},
   "outputs": [],
   "source": [
    "# Linear SVM 모델 정의\n",
    "svm = LinearSVC()\n",
    "\n",
    "# 모델 훈련\n",
    "svm.fit(X_train, y_train)"
   ]
  },
  {
   "cell_type": "code",
   "execution_count": null,
   "id": "6b656630",
   "metadata": {},
   "outputs": [],
   "source": [
    "# 예측\n",
    "y_pred = svm.predict(X_test)\n",
    "\n",
    "# 분류 보고서 출력\n",
    "print(classification_report(y_test, y_pred))\n",
    "\n",
    "# 혼동 행렬 시각화\n",
    "cm = confusion_matrix(y_test, y_pred)\n",
    "plt.imshow(cm, interpolation='nearest', cmap=plt.cm.Blues)\n",
    "plt.title('Confusion Matrix')\n",
    "plt.colorbar()\n",
    "plt.xlabel('Predicted')\n",
    "plt.ylabel('True')\n",
    "plt.show()"
   ]
  }
 ],
 "metadata": {
  "kernelspec": {
   "display_name": "Python 3 (ipykernel)",
   "language": "python",
   "name": "python3"
  },
  "language_info": {
   "codemirror_mode": {
    "name": "ipython",
    "version": 3
   },
   "file_extension": ".py",
   "mimetype": "text/x-python",
   "name": "python",
   "nbconvert_exporter": "python",
   "pygments_lexer": "ipython3",
   "version": "3.9.7"
  }
 },
 "nbformat": 4,
 "nbformat_minor": 5
}
