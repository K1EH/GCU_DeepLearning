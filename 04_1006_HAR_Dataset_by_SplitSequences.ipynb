{
 "cells": [
  {
   "cell_type": "code",
   "execution_count": 1,
   "id": "fe3a18a9",
   "metadata": {},
   "outputs": [
    {
     "name": "stderr",
     "output_type": "stream",
     "text": [
      "C:\\Users\\takea\\anaconda3\\lib\\site-packages\\scipy\\__init__.py:146: UserWarning: A NumPy version >=1.16.5 and <1.23.0 is required for this version of SciPy (detected version 1.24.3\n",
      "  warnings.warn(f\"A NumPy version >={np_minversion} and <{np_maxversion}\"\n"
     ]
    }
   ],
   "source": [
    "# Imports\n",
    "import pandas as pd\n",
    "import numpy as np\n",
    "import matplotlib.pyplot as plt\n",
    "import seaborn as sns\n",
    "from sklearn.model_selection import train_test_split, cross_val_score\n",
    "from sklearn.metrics import classification_report, accuracy_score, recall_score, precision_score, f1_score, confusion_matrix\n",
    "from sklearn.preprocessing import StandardScaler\n",
    "from numpy import array\n",
    "from keras.models import Sequential\n",
    "from keras.layers import Dense, Flatten, Dropout\n",
    "from tensorflow.keras.layers import Conv1D, MaxPooling1D\n",
    "from tensorflow.keras.utils import to_categorical\n",
    "from sklearn.model_selection import KFold"
   ]
  },
  {
   "cell_type": "code",
   "execution_count": 2,
   "id": "6a012ca9",
   "metadata": {},
   "outputs": [],
   "source": [
    "def get_new_feature_name_df(old_feature_name_df):\n",
    "    feature_dup_df = pd.DataFrame(data=old_feature_name_df.groupby('column_name').cumcount(),\n",
    "                                  columns=['dup_cnt'])\n",
    "    feature_dup_df = feature_dup_df.reset_index()\n",
    "    new_feature_name_df = pd.merge(old_feature_name_df.reset_index(), feature_dup_df, how='outer')\n",
    "    new_feature_name_df['column_name'] = new_feature_name_df[['column_name', 'dup_cnt']].apply(lambda x : x[0]+'_'+str(x[1]) \n",
    "                                                                                         if x[1] >0 else x[0] ,  axis=1)\n",
    "    new_feature_name_df = new_feature_name_df.drop(['index'], axis=1)\n",
    "    return new_feature_name_df\n",
    "\n",
    "def get_human_dataset( ):\n",
    "    \n",
    "    # 각 데이터 파일들은 공백으로 분리되어 있으므로 read_csv에서 공백 문자를 sep으로 할당.\n",
    "    feature_name_df = pd.read_csv(r'C:\\Users\\takea\\Desktop\\DeepLearning\\datasets\\week3\\HAR_Dataset\\UCI_HAR_Dataset\\features.txt',sep='\\s+',\n",
    "                        header=None,names=['column_index','column_name'])\n",
    "    \n",
    "    # 중복된 피처명을 수정하는 get_new_feature_name_df()를 이용, 신규 피처명 DataFrame생성. \n",
    "    new_feature_name_df = get_new_feature_name_df(feature_name_df)\n",
    "    \n",
    "    # DataFrame에 피처명을 컬럼으로 부여하기 위해 리스트 객체로 다시 변환\n",
    "    feature_name = new_feature_name_df.iloc[:, 1].values.tolist()\n",
    "    \n",
    "    # 학습 피처 데이터 셋과 테스트 피처 데이터을 DataFrame으로 로딩. 컬럼명은 feature_name 적용\n",
    "    X_train = pd.read_csv(r'C:\\Users\\takea\\Desktop\\DeepLearning\\datasets\\week3\\HAR_Dataset\\UCI_HAR_Dataset\\train\\X_train.txt',sep='\\s+', names=feature_name )\n",
    "    X_test = pd.read_csv(r'C:\\Users\\takea\\Desktop\\DeepLearning\\datasets\\week3\\HAR_Dataset\\UCI_HAR_Dataset\\test\\X_test.txt',sep='\\s+', names=feature_name)\n",
    "    \n",
    "    # 학습 레이블과 테스트 레이블 데이터을 DataFrame으로 로딩하고 컬럼명은 action으로 부여\n",
    "    y_train = pd.read_csv(r'C:\\Users\\takea\\Desktop\\DeepLearning\\datasets\\week3\\HAR_Dataset\\UCI_HAR_Dataset\\train\\y_train.txt',sep='\\s+',header=None,names=['action'])\n",
    "    y_test = pd.read_csv(r'C:\\Users\\takea\\Desktop\\DeepLearning\\datasets\\week3\\HAR_Dataset\\UCI_HAR_Dataset\\test\\y_test.txt',sep='\\s+',header=None,names=['action'])\n",
    "    \n",
    "    # 로드된 학습/테스트용 DataFrame을 모두 반환 \n",
    "    return X_train, X_test, y_train, y_test, feature_name"
   ]
  },
  {
   "cell_type": "code",
   "execution_count": 3,
   "id": "b8151393",
   "metadata": {},
   "outputs": [
    {
     "name": "stdout",
     "output_type": "stream",
     "text": [
      "## 학습 피처 데이터 정보 ##\n",
      "<class 'pandas.core.frame.DataFrame'>\n",
      "RangeIndex: 7352 entries, 0 to 7351\n",
      "Columns: 561 entries, tBodyAcc-mean()-X to angle(Z,gravityMean)\n",
      "dtypes: float64(561)\n",
      "memory usage: 31.5 MB\n",
      "None\n"
     ]
    }
   ],
   "source": [
    "from sklearn.ensemble import RandomForestClassifier\n",
    "from sklearn.metrics import accuracy_score\n",
    "import pandas as pd\n",
    "import warnings\n",
    "warnings.filterwarnings('ignore')\n",
    "\n",
    "# 결정 트리에서 사용한 get_human_dataset( )을 이용해 학습/테스트용 DataFrame 반환\n",
    "X_train, X_test, y_train, y_test, feature_name = get_human_dataset()\n",
    "\n",
    "print(\"## 학습 피처 데이터 정보 ##\")\n",
    "print(X_train.info())"
   ]
  },
  {
   "cell_type": "code",
   "execution_count": 4,
   "id": "66e99917",
   "metadata": {},
   "outputs": [
    {
     "name": "stdout",
     "output_type": "stream",
     "text": [
      "      tBodyAcc-mean()-X  tBodyAcc-mean()-Y  tBodyAcc-mean()-Z  \\\n",
      "0              0.288585          -0.020294          -0.132905   \n",
      "1              0.278419          -0.016411          -0.123520   \n",
      "2              0.279653          -0.019467          -0.113462   \n",
      "3              0.279174          -0.026201          -0.123283   \n",
      "4              0.276629          -0.016570          -0.115362   \n",
      "...                 ...                ...                ...   \n",
      "7347           0.299665          -0.057193          -0.181233   \n",
      "7348           0.273853          -0.007749          -0.147468   \n",
      "7349           0.273387          -0.017011          -0.045022   \n",
      "7350           0.289654          -0.018843          -0.158281   \n",
      "7351           0.351503          -0.012423          -0.203867   \n",
      "\n",
      "      tBodyAcc-std()-X  tBodyAcc-std()-Y  tBodyAcc-std()-Z  tBodyAcc-mad()-X  \\\n",
      "0            -0.995279         -0.983111         -0.913526         -0.995112   \n",
      "1            -0.998245         -0.975300         -0.960322         -0.998807   \n",
      "2            -0.995380         -0.967187         -0.978944         -0.996520   \n",
      "3            -0.996091         -0.983403         -0.990675         -0.997099   \n",
      "4            -0.998139         -0.980817         -0.990482         -0.998321   \n",
      "...                ...               ...               ...               ...   \n",
      "7347         -0.195387          0.039905          0.077078         -0.282301   \n",
      "7348         -0.235309          0.004816          0.059280         -0.322552   \n",
      "7349         -0.218218         -0.103822          0.274533         -0.304515   \n",
      "7350         -0.219139         -0.111412          0.268893         -0.310487   \n",
      "7351         -0.269270         -0.087212          0.177404         -0.377404   \n",
      "\n",
      "      tBodyAcc-mad()-Y  tBodyAcc-mad()-Z  tBodyAcc-max()-X  ...  \\\n",
      "0            -0.983185         -0.923527         -0.934724  ...   \n",
      "1            -0.974914         -0.957686         -0.943068  ...   \n",
      "2            -0.963668         -0.977469         -0.938692  ...   \n",
      "3            -0.982750         -0.989302         -0.938692  ...   \n",
      "4            -0.979672         -0.990441         -0.942469  ...   \n",
      "...                ...               ...               ...  ...   \n",
      "7347          0.043616          0.060410          0.210795  ...   \n",
      "7348         -0.029456          0.080585          0.117440  ...   \n",
      "7349         -0.098913          0.332584          0.043999  ...   \n",
      "7350         -0.068200          0.319473          0.101702  ...   \n",
      "7351         -0.038678          0.229430          0.269013  ...   \n",
      "\n",
      "      fBodyBodyGyroJerkMag-meanFreq()  fBodyBodyGyroJerkMag-skewness()  \\\n",
      "0                           -0.074323                        -0.298676   \n",
      "1                            0.158075                        -0.595051   \n",
      "2                            0.414503                        -0.390748   \n",
      "3                            0.404573                        -0.117290   \n",
      "4                            0.087753                        -0.351471   \n",
      "...                               ...                              ...   \n",
      "7347                        -0.070157                        -0.588433   \n",
      "7348                         0.165259                        -0.390738   \n",
      "7349                         0.195034                         0.025145   \n",
      "7350                         0.013865                         0.063907   \n",
      "7351                        -0.058402                        -0.387052   \n",
      "\n",
      "      fBodyBodyGyroJerkMag-kurtosis()  angle(tBodyAccMean,gravity)  \\\n",
      "0                           -0.710304                    -0.112754   \n",
      "1                           -0.861499                     0.053477   \n",
      "2                           -0.760104                    -0.118559   \n",
      "3                           -0.482845                    -0.036788   \n",
      "4                           -0.699205                     0.123320   \n",
      "...                               ...                          ...   \n",
      "7347                        -0.880324                    -0.190437   \n",
      "7348                        -0.680744                     0.064907   \n",
      "7349                        -0.304029                     0.052806   \n",
      "7350                        -0.344314                    -0.101360   \n",
      "7351                        -0.740738                    -0.280088   \n",
      "\n",
      "      angle(tBodyAccJerkMean),gravityMean)  angle(tBodyGyroMean,gravityMean)  \\\n",
      "0                                 0.030400                         -0.464761   \n",
      "1                                -0.007435                         -0.732626   \n",
      "2                                 0.177899                          0.100699   \n",
      "3                                -0.012892                          0.640011   \n",
      "4                                 0.122542                          0.693578   \n",
      "...                                    ...                               ...   \n",
      "7347                              0.829718                          0.206972   \n",
      "7348                              0.875679                         -0.879033   \n",
      "7349                             -0.266724                          0.864404   \n",
      "7350                              0.700740                          0.936674   \n",
      "7351                             -0.007739                         -0.056088   \n",
      "\n",
      "      angle(tBodyGyroJerkMean,gravityMean)  angle(X,gravityMean)  \\\n",
      "0                                -0.018446             -0.841247   \n",
      "1                                 0.703511             -0.844788   \n",
      "2                                 0.808529             -0.848933   \n",
      "3                                -0.485366             -0.848649   \n",
      "4                                -0.615971             -0.847865   \n",
      "...                                    ...                   ...   \n",
      "7347                             -0.425619             -0.791883   \n",
      "7348                              0.400219             -0.771840   \n",
      "7349                              0.701169             -0.779133   \n",
      "7350                             -0.589479             -0.785181   \n",
      "7351                             -0.616956             -0.783267   \n",
      "\n",
      "      angle(Y,gravityMean)  angle(Z,gravityMean)  \n",
      "0                 0.179941             -0.058627  \n",
      "1                 0.180289             -0.054317  \n",
      "2                 0.180637             -0.049118  \n",
      "3                 0.181935             -0.047663  \n",
      "4                 0.185151             -0.043892  \n",
      "...                    ...                   ...  \n",
      "7347              0.238604              0.049819  \n",
      "7348              0.252676              0.050053  \n",
      "7349              0.249145              0.040811  \n",
      "7350              0.246432              0.025339  \n",
      "7351              0.246809              0.036695  \n",
      "\n",
      "[7352 rows x 561 columns]\n"
     ]
    }
   ],
   "source": [
    "print(X_train)"
   ]
  },
  {
   "cell_type": "code",
   "execution_count": 5,
   "id": "53ade6e4",
   "metadata": {},
   "outputs": [
    {
     "name": "stdout",
     "output_type": "stream",
     "text": [
      "      action\n",
      "0          5\n",
      "1          5\n",
      "2          5\n",
      "3          5\n",
      "4          5\n",
      "...      ...\n",
      "7347       2\n",
      "7348       2\n",
      "7349       2\n",
      "7350       2\n",
      "7351       2\n",
      "\n",
      "[7352 rows x 1 columns]\n"
     ]
    }
   ],
   "source": [
    "print(y_train)"
   ]
  },
  {
   "cell_type": "code",
   "execution_count": 6,
   "id": "560b8f85",
   "metadata": {},
   "outputs": [],
   "source": [
    "# Scale train/ test predictors based on training data\n",
    "scaler = StandardScaler().fit(X_train)\n",
    "X_train = scaler.transform(X_train)\n",
    "X_test = scaler.transform(X_test)"
   ]
  },
  {
   "cell_type": "markdown",
   "id": "3774c34d",
   "metadata": {},
   "source": [
    "## 2차원 데이터 -> 3차원 데이터"
   ]
  },
  {
   "cell_type": "code",
   "execution_count": 7,
   "id": "6766030e",
   "metadata": {},
   "outputs": [],
   "source": [
    "# Reformat the training data into sequence samples\n",
    "# Source: https://machinelearningmastery.com/how-to-develop-convolutional-neural-network-models-for-time-series-forecasting/\n",
    "\n",
    "def split_sequences(sequences, n_steps):\n",
    "\tX, y = list(), list()\n",
    "\tfor i in range(len(sequences)):\n",
    "\t\t# find the end of this pattern\n",
    "\t\tend_ix = i + n_steps\n",
    "\t\t# check if we are beyond the dataset\n",
    "\t\tif end_ix > len(sequences):\n",
    "\t\t\tbreak\n",
    "\t\t# gather input and output parts of the pattern\n",
    "\t\tseq_x, seq_y = sequences[i:end_ix, :-1], sequences[end_ix-1, -1]\n",
    "\t\tX.append(seq_x)\n",
    "\t\ty.append(seq_y)\n",
    "\treturn np.array(X), np.array(y)"
   ]
  },
  {
   "cell_type": "code",
   "execution_count": 8,
   "id": "b2071287",
   "metadata": {},
   "outputs": [
    {
     "name": "stdout",
     "output_type": "stream",
     "text": [
      "(7328, 25, 561) (7328,)\n",
      "(2923, 25, 561) (2923,)\n"
     ]
    }
   ],
   "source": [
    "# Merge train and test X/y data to apply sequence transformation function\n",
    "y_train_array = np.array(y_train)\n",
    "train_set = np.c_[X_train, y_train_array]\n",
    "\n",
    "y_test_array = np.array(y_test)\n",
    "test_set = np.c_[X_test, y_test_array]\n",
    "\n",
    "# Apply sequence transformation using time step of 25 for both train and test data\n",
    "# All sensing modalities are recorded at a sampling rate of 50 Hz, which is considered sufficient for capturing human activity.\n",
    "\n",
    "X_train, y_train = split_sequences(train_set, 25)\n",
    "print(X_train.shape, y_train.shape)\n",
    "\n",
    "X_test, y_test = split_sequences(test_set, 25)\n",
    "print(X_test.shape, y_test.shape)"
   ]
  },
  {
   "cell_type": "code",
   "execution_count": 9,
   "id": "29fd5608",
   "metadata": {},
   "outputs": [
    {
     "name": "stdout",
     "output_type": "stream",
     "text": [
      "(7328, 25, 561) (7328,)\n"
     ]
    }
   ],
   "source": [
    "print(X_train.shape, y_train.shape)"
   ]
  },
  {
   "cell_type": "code",
   "execution_count": 10,
   "id": "a80f1791",
   "metadata": {},
   "outputs": [
    {
     "name": "stdout",
     "output_type": "stream",
     "text": [
      "(7328, 7)\n",
      "(2923, 7)\n"
     ]
    }
   ],
   "source": [
    "# Convert output variables to categorical for CNN\n",
    "y_train = to_categorical(y_train)\n",
    "print(y_train.shape)\n",
    "\n",
    "y_test = to_categorical(y_test)\n",
    "print(y_test.shape)"
   ]
  },
  {
   "cell_type": "code",
   "execution_count": 11,
   "id": "bb9f7962",
   "metadata": {},
   "outputs": [
    {
     "name": "stdout",
     "output_type": "stream",
     "text": [
      "25 561 7\n"
     ]
    }
   ],
   "source": [
    "# Produce variables for CNN input/output shape\n",
    "n_timesteps, n_features, n_outputs = X_train.shape[1], X_train.shape[2], y_train.shape[1]\n",
    "print(n_timesteps, n_features, n_outputs)"
   ]
  },
  {
   "cell_type": "markdown",
   "id": "0e3048f8",
   "metadata": {},
   "source": [
    "# Training CNN"
   ]
  },
  {
   "cell_type": "code",
   "execution_count": 12,
   "id": "110571a0",
   "metadata": {},
   "outputs": [
    {
     "name": "stdout",
     "output_type": "stream",
     "text": [
      "Model: \"sequential\"\n",
      "_________________________________________________________________\n",
      " Layer (type)                Output Shape              Param #   \n",
      "=================================================================\n",
      " conv1d (Conv1D)             (None, 23, 64)            107776    \n",
      "                                                                 \n",
      " flatten (Flatten)           (None, 1472)              0         \n",
      "                                                                 \n",
      " dense (Dense)               (None, 128)               188544    \n",
      "                                                                 \n",
      " dense_1 (Dense)             (None, 7)                 903       \n",
      "                                                                 \n",
      "=================================================================\n",
      "Total params: 297223 (1.13 MB)\n",
      "Trainable params: 297223 (1.13 MB)\n",
      "Non-trainable params: 0 (0.00 Byte)\n",
      "_________________________________________________________________\n"
     ]
    }
   ],
   "source": [
    "# Model 1\n",
    "model = Sequential()\n",
    "model.add(Conv1D(filters=64, kernel_size=3, activation='relu', input_shape=(n_timesteps,n_features)))\n",
    "#model.add(MaxPooling1D(pool_size=2))\n",
    "\n",
    "model.add(Flatten())\n",
    "\n",
    "model.add(Dense(128, activation='relu'))\n",
    "model.add(Dense(n_outputs, activation='softmax'))\n",
    "model.compile(loss='categorical_crossentropy', optimizer='adam', metrics=['accuracy'])\n",
    "model.summary()"
   ]
  },
  {
   "cell_type": "code",
   "execution_count": 13,
   "id": "43849cd2",
   "metadata": {},
   "outputs": [
    {
     "name": "stdout",
     "output_type": "stream",
     "text": [
      "Epoch 1/10\n",
      "229/229 [==============================] - 5s 14ms/step - loss: 0.3011 - accuracy: 0.8952\n",
      "Epoch 2/10\n",
      "229/229 [==============================] - 4s 16ms/step - loss: 0.0538 - accuracy: 0.9814\n",
      "Epoch 3/10\n",
      "229/229 [==============================] - 3s 14ms/step - loss: 0.0375 - accuracy: 0.9889\n",
      "Epoch 4/10\n",
      "229/229 [==============================] - 3s 14ms/step - loss: 0.0433 - accuracy: 0.9906\n",
      "Epoch 5/10\n",
      "229/229 [==============================] - 3s 14ms/step - loss: 0.1067 - accuracy: 0.9782\n",
      "Epoch 6/10\n",
      "229/229 [==============================] - 3s 13ms/step - loss: 0.0270 - accuracy: 0.9934\n",
      "Epoch 7/10\n",
      "229/229 [==============================] - 3s 14ms/step - loss: 0.0054 - accuracy: 0.9992\n",
      "Epoch 8/10\n",
      "229/229 [==============================] - 3s 13ms/step - loss: 7.2921e-04 - accuracy: 0.9996\n",
      "Epoch 9/10\n",
      "229/229 [==============================] - 3s 14ms/step - loss: 7.0205e-04 - accuracy: 0.9997\n",
      "Epoch 10/10\n",
      "229/229 [==============================] - 3s 14ms/step - loss: 9.3942e-05 - accuracy: 1.0000\n"
     ]
    }
   ],
   "source": [
    "# validation_split = 0.1\n",
    "train_epochs = 10\n",
    "history = model.fit(X_train, y_train, epochs=train_epochs, verbose=True)"
   ]
  },
  {
   "cell_type": "code",
   "execution_count": 15,
   "id": "91085cb7",
   "metadata": {},
   "outputs": [
    {
     "name": "stdout",
     "output_type": "stream",
     "text": [
      "92/92 [==============================] - 1s 7ms/step\n"
     ]
    },
    {
     "data": {
      "text/plain": [
       "(2923, 1)"
      ]
     },
     "execution_count": 15,
     "metadata": {},
     "output_type": "execute_result"
    }
   ],
   "source": [
    "# Make predictions on the test data\n",
    "y_pred = model.predict(X_test)\n",
    "y_pred = np.argmax(y_pred, axis = 1)\n",
    "y_pred = y_pred.reshape(-1,1)\n",
    "y_pred.shape"
   ]
  },
  {
   "cell_type": "code",
   "execution_count": 16,
   "id": "7564b487",
   "metadata": {},
   "outputs": [
    {
     "name": "stdout",
     "output_type": "stream",
     "text": [
      "92/92 [==============================] - 1s 7ms/step\n",
      "[[491   0   5   0   0   0]\n",
      " [  1 464   6   0   0   0]\n",
      " [  7   6 407   0   0   0]\n",
      " [  0   0   0 476  15   0]\n",
      " [  0   0   0   5 503   0]\n",
      " [  0   0   0   3   0 534]]\n",
      "0.9835785152240848\n",
      "              precision    recall  f1-score   support\n",
      "\n",
      "           1       0.98      0.99      0.99       496\n",
      "           2       0.99      0.99      0.99       471\n",
      "           3       0.97      0.97      0.97       420\n",
      "           4       0.98      0.97      0.98       491\n",
      "           5       0.97      0.99      0.98       508\n",
      "           6       1.00      0.99      1.00       537\n",
      "\n",
      "    accuracy                           0.98      2923\n",
      "   macro avg       0.98      0.98      0.98      2923\n",
      "weighted avg       0.98      0.98      0.98      2923\n",
      "\n"
     ]
    },
    {
     "data": {
      "text/plain": [
       "<AxesSubplot:>"
      ]
     },
     "execution_count": 16,
     "metadata": {},
     "output_type": "execute_result"
    },
    {
     "data": {
      "image/png": "[encoded data removed]",
      "text/plain": [
       "<Figure size 432x288 with 2 Axes>"
      ]
     },
     "metadata": {
      "needs_background": "light"
     },
     "output_type": "display_data"
    }
   ],
   "source": [
    "from sklearn.metrics import confusion_matrix,classification_report,accuracy_score\n",
    "pred=model.predict([X_test])\n",
    "pred=np.argmax(pred, axis=-1)\n",
    "y_test2=np.argmax(y_test, axis=-1)\n",
    "cm=confusion_matrix(y_test2,pred)\n",
    "print(cm)\n",
    "print(accuracy_score(y_test2,pred))\n",
    "print(classification_report(y_test2,pred))\n",
    "sns.heatmap(cm, annot=True, fmt = '.2f')"
   ]
  }
 ],
 "metadata": {
  "kernelspec": {
   "display_name": "Python 3 (ipykernel)",
   "language": "python",
   "name": "python3"
  },
  "language_info": {
   "codemirror_mode": {
    "name": "ipython",
    "version": 3
   },
   "file_extension": ".py",
   "mimetype": "text/x-python",
   "name": "python",
   "nbconvert_exporter": "python",
   "pygments_lexer": "ipython3",
   "version": "3.9.7"
  }
 },
 "nbformat": 4,
 "nbformat_minor": 5
}
