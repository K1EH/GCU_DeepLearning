{
 "cells": [
  {
   "cell_type": "code",
   "execution_count": 1,
   "id": "402fd6ae",
   "metadata": {},
   "outputs": [],
   "source": [
    "# 1) 필수 라이브러리 import"
   ]
  },
  {
   "cell_type": "code",
   "execution_count": 22,
   "id": "048ceaa3",
   "metadata": {},
   "outputs": [
    {
     "data": {
      "text/html": [
       "<div>\n",
       "<style scoped>\n",
       "    .dataframe tbody tr th:only-of-type {\n",
       "        vertical-align: middle;\n",
       "    }\n",
       "\n",
       "    .dataframe tbody tr th {\n",
       "        vertical-align: top;\n",
       "    }\n",
       "\n",
       "    .dataframe thead th {\n",
       "        text-align: right;\n",
       "    }\n",
       "</style>\n",
       "<table border=\"1\" class=\"dataframe\">\n",
       "  <thead>\n",
       "    <tr style=\"text-align: right;\">\n",
       "      <th></th>\n",
       "      <th>vhigh</th>\n",
       "      <th>vhigh.1</th>\n",
       "      <th>2</th>\n",
       "      <th>2.1</th>\n",
       "      <th>small</th>\n",
       "      <th>low</th>\n",
       "      <th>unacc</th>\n",
       "    </tr>\n",
       "  </thead>\n",
       "  <tbody>\n",
       "    <tr>\n",
       "      <th>0</th>\n",
       "      <td>vhigh</td>\n",
       "      <td>vhigh</td>\n",
       "      <td>2</td>\n",
       "      <td>2</td>\n",
       "      <td>small</td>\n",
       "      <td>med</td>\n",
       "      <td>unacc</td>\n",
       "    </tr>\n",
       "    <tr>\n",
       "      <th>1</th>\n",
       "      <td>vhigh</td>\n",
       "      <td>vhigh</td>\n",
       "      <td>2</td>\n",
       "      <td>2</td>\n",
       "      <td>small</td>\n",
       "      <td>high</td>\n",
       "      <td>unacc</td>\n",
       "    </tr>\n",
       "    <tr>\n",
       "      <th>2</th>\n",
       "      <td>vhigh</td>\n",
       "      <td>vhigh</td>\n",
       "      <td>2</td>\n",
       "      <td>2</td>\n",
       "      <td>med</td>\n",
       "      <td>low</td>\n",
       "      <td>unacc</td>\n",
       "    </tr>\n",
       "    <tr>\n",
       "      <th>3</th>\n",
       "      <td>vhigh</td>\n",
       "      <td>vhigh</td>\n",
       "      <td>2</td>\n",
       "      <td>2</td>\n",
       "      <td>med</td>\n",
       "      <td>med</td>\n",
       "      <td>unacc</td>\n",
       "    </tr>\n",
       "    <tr>\n",
       "      <th>4</th>\n",
       "      <td>vhigh</td>\n",
       "      <td>vhigh</td>\n",
       "      <td>2</td>\n",
       "      <td>2</td>\n",
       "      <td>med</td>\n",
       "      <td>high</td>\n",
       "      <td>unacc</td>\n",
       "    </tr>\n",
       "    <tr>\n",
       "      <th>...</th>\n",
       "      <td>...</td>\n",
       "      <td>...</td>\n",
       "      <td>...</td>\n",
       "      <td>...</td>\n",
       "      <td>...</td>\n",
       "      <td>...</td>\n",
       "      <td>...</td>\n",
       "    </tr>\n",
       "    <tr>\n",
       "      <th>1722</th>\n",
       "      <td>low</td>\n",
       "      <td>low</td>\n",
       "      <td>5more</td>\n",
       "      <td>more</td>\n",
       "      <td>med</td>\n",
       "      <td>med</td>\n",
       "      <td>good</td>\n",
       "    </tr>\n",
       "    <tr>\n",
       "      <th>1723</th>\n",
       "      <td>low</td>\n",
       "      <td>low</td>\n",
       "      <td>5more</td>\n",
       "      <td>more</td>\n",
       "      <td>med</td>\n",
       "      <td>high</td>\n",
       "      <td>vgood</td>\n",
       "    </tr>\n",
       "    <tr>\n",
       "      <th>1724</th>\n",
       "      <td>low</td>\n",
       "      <td>low</td>\n",
       "      <td>5more</td>\n",
       "      <td>more</td>\n",
       "      <td>big</td>\n",
       "      <td>low</td>\n",
       "      <td>unacc</td>\n",
       "    </tr>\n",
       "    <tr>\n",
       "      <th>1725</th>\n",
       "      <td>low</td>\n",
       "      <td>low</td>\n",
       "      <td>5more</td>\n",
       "      <td>more</td>\n",
       "      <td>big</td>\n",
       "      <td>med</td>\n",
       "      <td>good</td>\n",
       "    </tr>\n",
       "    <tr>\n",
       "      <th>1726</th>\n",
       "      <td>low</td>\n",
       "      <td>low</td>\n",
       "      <td>5more</td>\n",
       "      <td>more</td>\n",
       "      <td>big</td>\n",
       "      <td>high</td>\n",
       "      <td>vgood</td>\n",
       "    </tr>\n",
       "  </tbody>\n",
       "</table>\n",
       "<p>1727 rows × 7 columns</p>\n",
       "</div>"
      ],
      "text/plain": [
       "      vhigh vhigh.1      2   2.1  small   low  unacc\n",
       "0     vhigh   vhigh      2     2  small   med  unacc\n",
       "1     vhigh   vhigh      2     2  small  high  unacc\n",
       "2     vhigh   vhigh      2     2    med   low  unacc\n",
       "3     vhigh   vhigh      2     2    med   med  unacc\n",
       "4     vhigh   vhigh      2     2    med  high  unacc\n",
       "...     ...     ...    ...   ...    ...   ...    ...\n",
       "1722    low     low  5more  more    med   med   good\n",
       "1723    low     low  5more  more    med  high  vgood\n",
       "1724    low     low  5more  more    big   low  unacc\n",
       "1725    low     low  5more  more    big   med   good\n",
       "1726    low     low  5more  more    big  high  vgood\n",
       "\n",
       "[1727 rows x 7 columns]"
      ]
     },
     "execution_count": 22,
     "metadata": {},
     "output_type": "execute_result"
    }
   ],
   "source": [
    "import pandas as pd\n",
    "import matplotlib.pyplot as plt\n",
    "import numpy as np\n",
    "import pandas as pd\n",
    "import seaborn as sns\n",
    "from sklearn.model_selection import train_test_split\n",
    "from sklearn import metrics\n",
    "import tensorflow as tf\n",
    "from tensorflow import keras\n",
    "\n",
    "import warnings\n",
    "warnings.filterwarnings('ignore')\n",
    "\n",
    "data = pd.read_csv(r'C:\\Users\\takea\\Desktop\\DL\\datasets\\week1\\car+evaluation\\car.data',)\n",
    "data"
   ]
  },
  {
   "cell_type": "code",
   "execution_count": 23,
   "id": "1d1dda19",
   "metadata": {
    "scrolled": false
   },
   "outputs": [
    {
     "name": "stdout",
     "output_type": "stream",
     "text": [
      "  buying  maint doors persons lug_boot safety  class\n",
      "0  vhigh  vhigh     2       2    small    med  unacc\n",
      "1  vhigh  vhigh     2       2    small   high  unacc\n",
      "2  vhigh  vhigh     2       2      med    low  unacc\n",
      "3  vhigh  vhigh     2       2      med    med  unacc\n",
      "4  vhigh  vhigh     2       2      med   high  unacc\n"
     ]
    },
    {
     "data": {
      "text/html": [
       "<div>\n",
       "<style scoped>\n",
       "    .dataframe tbody tr th:only-of-type {\n",
       "        vertical-align: middle;\n",
       "    }\n",
       "\n",
       "    .dataframe tbody tr th {\n",
       "        vertical-align: top;\n",
       "    }\n",
       "\n",
       "    .dataframe thead th {\n",
       "        text-align: right;\n",
       "    }\n",
       "</style>\n",
       "<table border=\"1\" class=\"dataframe\">\n",
       "  <thead>\n",
       "    <tr style=\"text-align: right;\">\n",
       "      <th></th>\n",
       "      <th>buying</th>\n",
       "      <th>maint</th>\n",
       "      <th>doors</th>\n",
       "      <th>persons</th>\n",
       "      <th>lug_boot</th>\n",
       "      <th>safety</th>\n",
       "      <th>class</th>\n",
       "    </tr>\n",
       "  </thead>\n",
       "  <tbody>\n",
       "    <tr>\n",
       "      <th>0</th>\n",
       "      <td>vhigh</td>\n",
       "      <td>vhigh</td>\n",
       "      <td>2</td>\n",
       "      <td>2</td>\n",
       "      <td>small</td>\n",
       "      <td>med</td>\n",
       "      <td>unacc</td>\n",
       "    </tr>\n",
       "    <tr>\n",
       "      <th>1</th>\n",
       "      <td>vhigh</td>\n",
       "      <td>vhigh</td>\n",
       "      <td>2</td>\n",
       "      <td>2</td>\n",
       "      <td>small</td>\n",
       "      <td>high</td>\n",
       "      <td>unacc</td>\n",
       "    </tr>\n",
       "    <tr>\n",
       "      <th>2</th>\n",
       "      <td>vhigh</td>\n",
       "      <td>vhigh</td>\n",
       "      <td>2</td>\n",
       "      <td>2</td>\n",
       "      <td>med</td>\n",
       "      <td>low</td>\n",
       "      <td>unacc</td>\n",
       "    </tr>\n",
       "    <tr>\n",
       "      <th>3</th>\n",
       "      <td>vhigh</td>\n",
       "      <td>vhigh</td>\n",
       "      <td>2</td>\n",
       "      <td>2</td>\n",
       "      <td>med</td>\n",
       "      <td>med</td>\n",
       "      <td>unacc</td>\n",
       "    </tr>\n",
       "    <tr>\n",
       "      <th>4</th>\n",
       "      <td>vhigh</td>\n",
       "      <td>vhigh</td>\n",
       "      <td>2</td>\n",
       "      <td>2</td>\n",
       "      <td>med</td>\n",
       "      <td>high</td>\n",
       "      <td>unacc</td>\n",
       "    </tr>\n",
       "    <tr>\n",
       "      <th>...</th>\n",
       "      <td>...</td>\n",
       "      <td>...</td>\n",
       "      <td>...</td>\n",
       "      <td>...</td>\n",
       "      <td>...</td>\n",
       "      <td>...</td>\n",
       "      <td>...</td>\n",
       "    </tr>\n",
       "    <tr>\n",
       "      <th>1722</th>\n",
       "      <td>low</td>\n",
       "      <td>low</td>\n",
       "      <td>5more</td>\n",
       "      <td>more</td>\n",
       "      <td>med</td>\n",
       "      <td>med</td>\n",
       "      <td>good</td>\n",
       "    </tr>\n",
       "    <tr>\n",
       "      <th>1723</th>\n",
       "      <td>low</td>\n",
       "      <td>low</td>\n",
       "      <td>5more</td>\n",
       "      <td>more</td>\n",
       "      <td>med</td>\n",
       "      <td>high</td>\n",
       "      <td>vgood</td>\n",
       "    </tr>\n",
       "    <tr>\n",
       "      <th>1724</th>\n",
       "      <td>low</td>\n",
       "      <td>low</td>\n",
       "      <td>5more</td>\n",
       "      <td>more</td>\n",
       "      <td>big</td>\n",
       "      <td>low</td>\n",
       "      <td>unacc</td>\n",
       "    </tr>\n",
       "    <tr>\n",
       "      <th>1725</th>\n",
       "      <td>low</td>\n",
       "      <td>low</td>\n",
       "      <td>5more</td>\n",
       "      <td>more</td>\n",
       "      <td>big</td>\n",
       "      <td>med</td>\n",
       "      <td>good</td>\n",
       "    </tr>\n",
       "    <tr>\n",
       "      <th>1726</th>\n",
       "      <td>low</td>\n",
       "      <td>low</td>\n",
       "      <td>5more</td>\n",
       "      <td>more</td>\n",
       "      <td>big</td>\n",
       "      <td>high</td>\n",
       "      <td>vgood</td>\n",
       "    </tr>\n",
       "  </tbody>\n",
       "</table>\n",
       "<p>1727 rows × 7 columns</p>\n",
       "</div>"
      ],
      "text/plain": [
       "     buying  maint  doors persons lug_boot safety  class\n",
       "0     vhigh  vhigh      2       2    small    med  unacc\n",
       "1     vhigh  vhigh      2       2    small   high  unacc\n",
       "2     vhigh  vhigh      2       2      med    low  unacc\n",
       "3     vhigh  vhigh      2       2      med    med  unacc\n",
       "4     vhigh  vhigh      2       2      med   high  unacc\n",
       "...     ...    ...    ...     ...      ...    ...    ...\n",
       "1722    low    low  5more    more      med    med   good\n",
       "1723    low    low  5more    more      med   high  vgood\n",
       "1724    low    low  5more    more      big    low  unacc\n",
       "1725    low    low  5more    more      big    med   good\n",
       "1726    low    low  5more    more      big   high  vgood\n",
       "\n",
       "[1727 rows x 7 columns]"
      ]
     },
     "execution_count": 23,
     "metadata": {},
     "output_type": "execute_result"
    }
   ],
   "source": [
    "import pandas as pd\n",
    "\n",
    "# car.data 파일을 불러옵니다.\n",
    "\n",
    "\n",
    "# car.names 파일에서 컬럼 이름을 가져옵니다.\n",
    "column_names = [\n",
    "    'buying',\n",
    "    'maint',\n",
    "    'doors',\n",
    "    'persons',\n",
    "    'lug_boot',\n",
    "    'safety',\n",
    "    'class']\n",
    "\n",
    "# 데이터프레임에 컬럼 이름을 설정합니다.\n",
    "data.columns = column_names\n",
    "\n",
    "# 데이터셋 확인\n",
    "print(data.head())\n",
    "data"
   ]
  },
  {
   "cell_type": "code",
   "execution_count": 24,
   "id": "23fbf89c",
   "metadata": {},
   "outputs": [
    {
     "data": {
      "text/html": [
       "<div>\n",
       "<style scoped>\n",
       "    .dataframe tbody tr th:only-of-type {\n",
       "        vertical-align: middle;\n",
       "    }\n",
       "\n",
       "    .dataframe tbody tr th {\n",
       "        vertical-align: top;\n",
       "    }\n",
       "\n",
       "    .dataframe thead th {\n",
       "        text-align: right;\n",
       "    }\n",
       "</style>\n",
       "<table border=\"1\" class=\"dataframe\">\n",
       "  <thead>\n",
       "    <tr style=\"text-align: right;\">\n",
       "      <th></th>\n",
       "      <th>buying</th>\n",
       "      <th>maint</th>\n",
       "      <th>doors</th>\n",
       "      <th>persons</th>\n",
       "      <th>lug_boot</th>\n",
       "      <th>safety</th>\n",
       "      <th>class</th>\n",
       "    </tr>\n",
       "  </thead>\n",
       "  <tbody>\n",
       "    <tr>\n",
       "      <th>0</th>\n",
       "      <td>0.0</td>\n",
       "      <td>0.0</td>\n",
       "      <td>2</td>\n",
       "      <td>2</td>\n",
       "      <td>0.0</td>\n",
       "      <td>1.0</td>\n",
       "      <td>0.0</td>\n",
       "    </tr>\n",
       "    <tr>\n",
       "      <th>1</th>\n",
       "      <td>0.0</td>\n",
       "      <td>0.0</td>\n",
       "      <td>2</td>\n",
       "      <td>2</td>\n",
       "      <td>0.0</td>\n",
       "      <td>2.0</td>\n",
       "      <td>0.0</td>\n",
       "    </tr>\n",
       "    <tr>\n",
       "      <th>2</th>\n",
       "      <td>0.0</td>\n",
       "      <td>0.0</td>\n",
       "      <td>2</td>\n",
       "      <td>2</td>\n",
       "      <td>1.0</td>\n",
       "      <td>0.0</td>\n",
       "      <td>0.0</td>\n",
       "    </tr>\n",
       "    <tr>\n",
       "      <th>3</th>\n",
       "      <td>0.0</td>\n",
       "      <td>0.0</td>\n",
       "      <td>2</td>\n",
       "      <td>2</td>\n",
       "      <td>1.0</td>\n",
       "      <td>1.0</td>\n",
       "      <td>0.0</td>\n",
       "    </tr>\n",
       "    <tr>\n",
       "      <th>4</th>\n",
       "      <td>0.0</td>\n",
       "      <td>0.0</td>\n",
       "      <td>2</td>\n",
       "      <td>2</td>\n",
       "      <td>1.0</td>\n",
       "      <td>2.0</td>\n",
       "      <td>0.0</td>\n",
       "    </tr>\n",
       "    <tr>\n",
       "      <th>...</th>\n",
       "      <td>...</td>\n",
       "      <td>...</td>\n",
       "      <td>...</td>\n",
       "      <td>...</td>\n",
       "      <td>...</td>\n",
       "      <td>...</td>\n",
       "      <td>...</td>\n",
       "    </tr>\n",
       "    <tr>\n",
       "      <th>1722</th>\n",
       "      <td>3.0</td>\n",
       "      <td>3.0</td>\n",
       "      <td>6</td>\n",
       "      <td>6</td>\n",
       "      <td>1.0</td>\n",
       "      <td>1.0</td>\n",
       "      <td>2.0</td>\n",
       "    </tr>\n",
       "    <tr>\n",
       "      <th>1723</th>\n",
       "      <td>3.0</td>\n",
       "      <td>3.0</td>\n",
       "      <td>6</td>\n",
       "      <td>6</td>\n",
       "      <td>1.0</td>\n",
       "      <td>2.0</td>\n",
       "      <td>3.0</td>\n",
       "    </tr>\n",
       "    <tr>\n",
       "      <th>1724</th>\n",
       "      <td>3.0</td>\n",
       "      <td>3.0</td>\n",
       "      <td>6</td>\n",
       "      <td>6</td>\n",
       "      <td>2.0</td>\n",
       "      <td>0.0</td>\n",
       "      <td>0.0</td>\n",
       "    </tr>\n",
       "    <tr>\n",
       "      <th>1725</th>\n",
       "      <td>3.0</td>\n",
       "      <td>3.0</td>\n",
       "      <td>6</td>\n",
       "      <td>6</td>\n",
       "      <td>2.0</td>\n",
       "      <td>1.0</td>\n",
       "      <td>2.0</td>\n",
       "    </tr>\n",
       "    <tr>\n",
       "      <th>1726</th>\n",
       "      <td>3.0</td>\n",
       "      <td>3.0</td>\n",
       "      <td>6</td>\n",
       "      <td>6</td>\n",
       "      <td>2.0</td>\n",
       "      <td>2.0</td>\n",
       "      <td>3.0</td>\n",
       "    </tr>\n",
       "  </tbody>\n",
       "</table>\n",
       "<p>1727 rows × 7 columns</p>\n",
       "</div>"
      ],
      "text/plain": [
       "      buying  maint  doors  persons  lug_boot  safety  class\n",
       "0        0.0    0.0      2        2       0.0     1.0    0.0\n",
       "1        0.0    0.0      2        2       0.0     2.0    0.0\n",
       "2        0.0    0.0      2        2       1.0     0.0    0.0\n",
       "3        0.0    0.0      2        2       1.0     1.0    0.0\n",
       "4        0.0    0.0      2        2       1.0     2.0    0.0\n",
       "...      ...    ...    ...      ...       ...     ...    ...\n",
       "1722     3.0    3.0      6        6       1.0     1.0    2.0\n",
       "1723     3.0    3.0      6        6       1.0     2.0    3.0\n",
       "1724     3.0    3.0      6        6       2.0     0.0    0.0\n",
       "1725     3.0    3.0      6        6       2.0     1.0    2.0\n",
       "1726     3.0    3.0      6        6       2.0     2.0    3.0\n",
       "\n",
       "[1727 rows x 7 columns]"
      ]
     },
     "execution_count": 24,
     "metadata": {},
     "output_type": "execute_result"
    }
   ],
   "source": [
    "# 데이터프레임을 숫자로 변경\n",
    "# 범주형 데이터(카테고리)를 숫자로 인코딩 하기 위해 사용함\n",
    "from sklearn.preprocessing import OrdinalEncoder\n",
    "\n",
    "encoder_buying = OrdinalEncoder(categories=[['vhigh', 'high', 'med', 'low']])\n",
    "data['buying'] = encoder_buying.fit_transform(data[['buying']])\n",
    "\n",
    "encoder_maint = OrdinalEncoder(categories=[['vhigh', 'high', 'med', 'low']])\n",
    "data['maint'] = encoder_maint.fit_transform(data[['maint']])\n",
    "\n",
    "# 'doors' 열에서 '5more' 값을 6으로 변경\n",
    "data['doors'] = data['doors'].replace('2', 2)\n",
    "data['doors'] = data['doors'].replace('3', 3)\n",
    "data['doors'] = data['doors'].replace('4', 4)\n",
    "data['doors'] = data['doors'].replace('5more', 6)\n",
    "\n",
    "# 'persons' 열에서 'more' 값을 5로 변경\n",
    "data['persons'] = data['persons'].replace('2', 2)\n",
    "data['persons'] = data['persons'].replace('4', 4)\n",
    "data['persons'] = data['persons'].replace('more', 6)\n",
    "\n",
    "encoder_lug_boot = OrdinalEncoder(categories=[['small', 'med', 'big']])\n",
    "data['lug_boot'] = encoder_lug_boot.fit_transform(data[['lug_boot']])\n",
    "\n",
    "encoder_safety = OrdinalEncoder(categories=[['low', 'med', 'high']])\n",
    "data['safety'] = encoder_safety.fit_transform(data[['safety']])\n",
    "\n",
    "encoder_class = OrdinalEncoder(categories=[['unacc', 'acc', 'good', 'vgood']])\n",
    "data['class'] = encoder_class.fit_transform(data[['class']])\n",
    "\n",
    "data"
   ]
  },
  {
   "cell_type": "markdown",
   "id": "ad7e76d1",
   "metadata": {},
   "source": [
    "# 데이터 타입, 결측값, 컬럼 확인"
   ]
  },
  {
   "cell_type": "code",
   "execution_count": 25,
   "id": "9a0aead7",
   "metadata": {},
   "outputs": [
    {
     "data": {
      "text/plain": [
       "pandas.core.frame.DataFrame"
      ]
     },
     "execution_count": 25,
     "metadata": {},
     "output_type": "execute_result"
    }
   ],
   "source": [
    "type(data)"
   ]
  },
  {
   "cell_type": "code",
   "execution_count": 26,
   "id": "3a91240a",
   "metadata": {},
   "outputs": [
    {
     "data": {
      "text/plain": [
       "buying      0\n",
       "maint       0\n",
       "doors       0\n",
       "persons     0\n",
       "lug_boot    0\n",
       "safety      0\n",
       "class       0\n",
       "dtype: int64"
      ]
     },
     "execution_count": 26,
     "metadata": {},
     "output_type": "execute_result"
    }
   ],
   "source": [
    "data.isnull().sum()"
   ]
  },
  {
   "cell_type": "code",
   "execution_count": 27,
   "id": "af291f1a",
   "metadata": {
    "scrolled": true
   },
   "outputs": [
    {
     "data": {
      "text/plain": [
       "Index(['buying', 'maint', 'doors', 'persons', 'lug_boot', 'safety', 'class'], dtype='object')"
      ]
     },
     "execution_count": 27,
     "metadata": {},
     "output_type": "execute_result"
    }
   ],
   "source": [
    "data.columns"
   ]
  },
  {
   "cell_type": "code",
   "execution_count": 28,
   "id": "81997eac",
   "metadata": {},
   "outputs": [
    {
     "data": {
      "text/html": [
       "<div>\n",
       "<style scoped>\n",
       "    .dataframe tbody tr th:only-of-type {\n",
       "        vertical-align: middle;\n",
       "    }\n",
       "\n",
       "    .dataframe tbody tr th {\n",
       "        vertical-align: top;\n",
       "    }\n",
       "\n",
       "    .dataframe thead th {\n",
       "        text-align: right;\n",
       "    }\n",
       "</style>\n",
       "<table border=\"1\" class=\"dataframe\">\n",
       "  <thead>\n",
       "    <tr style=\"text-align: right;\">\n",
       "      <th></th>\n",
       "      <th>buying</th>\n",
       "      <th>maint</th>\n",
       "      <th>doors</th>\n",
       "      <th>persons</th>\n",
       "      <th>lug_boot</th>\n",
       "      <th>safety</th>\n",
       "      <th>class</th>\n",
       "    </tr>\n",
       "  </thead>\n",
       "  <tbody>\n",
       "    <tr>\n",
       "      <th>0</th>\n",
       "      <td>0.0</td>\n",
       "      <td>0.0</td>\n",
       "      <td>2</td>\n",
       "      <td>2</td>\n",
       "      <td>0.0</td>\n",
       "      <td>1.0</td>\n",
       "      <td>0.0</td>\n",
       "    </tr>\n",
       "    <tr>\n",
       "      <th>1</th>\n",
       "      <td>0.0</td>\n",
       "      <td>0.0</td>\n",
       "      <td>2</td>\n",
       "      <td>2</td>\n",
       "      <td>0.0</td>\n",
       "      <td>2.0</td>\n",
       "      <td>0.0</td>\n",
       "    </tr>\n",
       "    <tr>\n",
       "      <th>2</th>\n",
       "      <td>0.0</td>\n",
       "      <td>0.0</td>\n",
       "      <td>2</td>\n",
       "      <td>2</td>\n",
       "      <td>1.0</td>\n",
       "      <td>0.0</td>\n",
       "      <td>0.0</td>\n",
       "    </tr>\n",
       "    <tr>\n",
       "      <th>3</th>\n",
       "      <td>0.0</td>\n",
       "      <td>0.0</td>\n",
       "      <td>2</td>\n",
       "      <td>2</td>\n",
       "      <td>1.0</td>\n",
       "      <td>1.0</td>\n",
       "      <td>0.0</td>\n",
       "    </tr>\n",
       "    <tr>\n",
       "      <th>4</th>\n",
       "      <td>0.0</td>\n",
       "      <td>0.0</td>\n",
       "      <td>2</td>\n",
       "      <td>2</td>\n",
       "      <td>1.0</td>\n",
       "      <td>2.0</td>\n",
       "      <td>0.0</td>\n",
       "    </tr>\n",
       "  </tbody>\n",
       "</table>\n",
       "</div>"
      ],
      "text/plain": [
       "   buying  maint  doors  persons  lug_boot  safety  class\n",
       "0     0.0    0.0      2        2       0.0     1.0    0.0\n",
       "1     0.0    0.0      2        2       0.0     2.0    0.0\n",
       "2     0.0    0.0      2        2       1.0     0.0    0.0\n",
       "3     0.0    0.0      2        2       1.0     1.0    0.0\n",
       "4     0.0    0.0      2        2       1.0     2.0    0.0"
      ]
     },
     "execution_count": 28,
     "metadata": {},
     "output_type": "execute_result"
    }
   ],
   "source": [
    "data.head()"
   ]
  },
  {
   "cell_type": "markdown",
   "id": "90242241",
   "metadata": {},
   "source": [
    "# EDA 수행"
   ]
  },
  {
   "cell_type": "code",
   "execution_count": 29,
   "id": "f28b29f6",
   "metadata": {},
   "outputs": [
    {
     "data": {
      "text/plain": [
       "Text(0.5, 1.0, 'Label')"
      ]
     },
     "execution_count": 29,
     "metadata": {},
     "output_type": "execute_result"
    },
    {
     "data": {
      "image/png": "[encoded data removed]",
      "text/plain": [
       "<Figure size 432x288 with 1 Axes>"
      ]
     },
     "metadata": {},
     "output_type": "display_data"
    }
   ],
   "source": [
    "sns.countplot(data = data, x=\"class\")\n",
    "plt.xlabel(\"Car Evaluation\")\n",
    "plt.ylabel(\"Count\")\n",
    "plt.title(\"Label\")"
   ]
  },
  {
   "cell_type": "code",
   "execution_count": 30,
   "id": "e7baed06",
   "metadata": {
    "scrolled": true
   },
   "outputs": [
    {
     "data": {
      "image/png": "[encoded data removed]",
      "text/plain": [
       "<Figure size 720x720 with 1 Axes>"
      ]
     },
     "metadata": {},
     "output_type": "display_data"
    }
   ],
   "source": [
    "df_corr = data.astype(float).corr()\n",
    "colormap = plt.cm.coolwarm\n",
    "plt.figure(figsize=(10, 10))\n",
    "sns.set(font_scale=0.8)\n",
    "sns.heatmap(df_corr, annot=True, cbar=False, cmap=colormap, vmin=-1., vmax=1.)\n",
    "plt.show()"
   ]
  },
  {
   "cell_type": "code",
   "execution_count": 31,
   "id": "c2159f57",
   "metadata": {},
   "outputs": [],
   "source": [
    "#Splitting the data into training and test test\n",
    "X = data.iloc[:,0:5].values\n",
    "y = data.iloc[:,6].values\n",
    "\n",
    "from sklearn.preprocessing import LabelEncoder\n",
    "encoder =  LabelEncoder()\n",
    "y1 = encoder.fit_transform(y)\n",
    "\n",
    "Y = pd.get_dummies(y).values\n",
    "\n",
    "\n",
    "from sklearn.model_selection import train_test_split\n",
    "X_train,X_test, y_train,y_test = train_test_split(X,Y,test_size=0.2,random_state=0) "
   ]
  },
  {
   "cell_type": "code",
   "execution_count": 32,
   "id": "fdcbecf9",
   "metadata": {},
   "outputs": [
    {
     "data": {
      "text/plain": [
       "array([[0., 0., 2., 2., 0.],\n",
       "       [0., 0., 2., 2., 0.],\n",
       "       [0., 0., 2., 2., 1.],\n",
       "       ...,\n",
       "       [3., 3., 6., 6., 2.],\n",
       "       [3., 3., 6., 6., 2.],\n",
       "       [3., 3., 6., 6., 2.]])"
      ]
     },
     "execution_count": 32,
     "metadata": {},
     "output_type": "execute_result"
    }
   ],
   "source": [
    "X"
   ]
  },
  {
   "cell_type": "code",
   "execution_count": 33,
   "id": "5c208c56",
   "metadata": {},
   "outputs": [
    {
     "data": {
      "text/plain": [
       "array([[1, 0, 0, 0],\n",
       "       [1, 0, 0, 0],\n",
       "       [1, 0, 0, 0],\n",
       "       ...,\n",
       "       [1, 0, 0, 0],\n",
       "       [0, 0, 1, 0],\n",
       "       [0, 0, 0, 1]], dtype=uint8)"
      ]
     },
     "execution_count": 33,
     "metadata": {},
     "output_type": "execute_result"
    }
   ],
   "source": [
    "Y"
   ]
  },
  {
   "cell_type": "code",
   "execution_count": 44,
   "id": "767d614c",
   "metadata": {
    "scrolled": true
   },
   "outputs": [
    {
     "name": "stdout",
     "output_type": "stream",
     "text": [
      "Model: \"sequential_7\"\n",
      "_________________________________________________________________\n",
      " Layer (type)                Output Shape              Param #   \n",
      "=================================================================\n",
      " dense_28 (Dense)            (None, 5)                 30        \n",
      "                                                                 \n",
      " dense_29 (Dense)            (None, 5)                 30        \n",
      "                                                                 \n",
      " dense_30 (Dense)            (None, 5)                 30        \n",
      "                                                                 \n",
      " dense_31 (Dense)            (None, 4)                 24        \n",
      "                                                                 \n",
      "=================================================================\n",
      "Total params: 114 (456.00 Byte)\n",
      "Trainable params: 114 (456.00 Byte)\n",
      "Non-trainable params: 0 (0.00 Byte)\n",
      "_________________________________________________________________\n"
     ]
    }
   ],
   "source": [
    "from keras.models import Sequential\n",
    "from keras.layers import Dense\n",
    "from keras.optimizers import SGD,Adam\n",
    "\n",
    "# 다중분류\n",
    "\n",
    "model = Sequential()\n",
    "\n",
    "model.add(Dense(5,input_shape=(5,),activation='relu'))\n",
    "model.add(Dense(5,activation='relu'))\n",
    "model.add(Dense(5,activation='relu'))\n",
    "model.add(Dense(4,activation='softmax'))\n",
    "\n",
    "model.compile(Adam(learning_rate=0.02),'categorical_crossentropy',metrics=['accuracy'])\n",
    "\n",
    "model.summary()"
   ]
  },
  {
   "cell_type": "code",
   "execution_count": 45,
   "id": "30599597",
   "metadata": {
    "scrolled": true
   },
   "outputs": [
    {
     "name": "stdout",
     "output_type": "stream",
     "text": [
      "Epoch 1/100\n",
      "44/44 [==============================] - 2s 13ms/step - loss: 1.0016 - accuracy: 0.6720 - val_loss: 0.8388 - val_accuracy: 0.6908\n",
      "Epoch 2/100\n",
      "44/44 [==============================] - 0s 4ms/step - loss: 0.8027 - accuracy: 0.7024 - val_loss: 0.7864 - val_accuracy: 0.6908\n",
      "Epoch 3/100\n",
      "44/44 [==============================] - 0s 4ms/step - loss: 0.7543 - accuracy: 0.7002 - val_loss: 0.7491 - val_accuracy: 0.6994\n",
      "Epoch 4/100\n",
      "44/44 [==============================] - 0s 5ms/step - loss: 0.7230 - accuracy: 0.7104 - val_loss: 0.7265 - val_accuracy: 0.6908\n",
      "Epoch 5/100\n",
      "44/44 [==============================] - 0s 5ms/step - loss: 0.6939 - accuracy: 0.7075 - val_loss: 0.7198 - val_accuracy: 0.6821\n",
      "Epoch 6/100\n",
      "44/44 [==============================] - 0s 5ms/step - loss: 0.6996 - accuracy: 0.7024 - val_loss: 0.6761 - val_accuracy: 0.7081\n",
      "Epoch 7/100\n",
      "44/44 [==============================] - 0s 5ms/step - loss: 0.6560 - accuracy: 0.7140 - val_loss: 0.6942 - val_accuracy: 0.6908\n",
      "Epoch 8/100\n",
      "44/44 [==============================] - 0s 4ms/step - loss: 0.6281 - accuracy: 0.7089 - val_loss: 0.5991 - val_accuracy: 0.6936\n",
      "Epoch 9/100\n",
      "44/44 [==============================] - 0s 4ms/step - loss: 0.5972 - accuracy: 0.7089 - val_loss: 0.6696 - val_accuracy: 0.6445\n",
      "Epoch 10/100\n",
      "44/44 [==============================] - 0s 5ms/step - loss: 0.5997 - accuracy: 0.7038 - val_loss: 0.5589 - val_accuracy: 0.7023\n",
      "Epoch 11/100\n",
      "44/44 [==============================] - 0s 5ms/step - loss: 0.5716 - accuracy: 0.6944 - val_loss: 0.6757 - val_accuracy: 0.6156\n",
      "Epoch 12/100\n",
      "44/44 [==============================] - 0s 5ms/step - loss: 0.5936 - accuracy: 0.6988 - val_loss: 0.6038 - val_accuracy: 0.6387\n",
      "Epoch 13/100\n",
      "44/44 [==============================] - 0s 5ms/step - loss: 0.5551 - accuracy: 0.7009 - val_loss: 0.5370 - val_accuracy: 0.6908\n",
      "Epoch 14/100\n",
      "44/44 [==============================] - 0s 5ms/step - loss: 0.5206 - accuracy: 0.7053 - val_loss: 0.5380 - val_accuracy: 0.6908\n",
      "Epoch 15/100\n",
      "44/44 [==============================] - 0s 5ms/step - loss: 0.5234 - accuracy: 0.6923 - val_loss: 0.5522 - val_accuracy: 0.6879\n",
      "Epoch 16/100\n",
      "44/44 [==============================] - 0s 5ms/step - loss: 0.5174 - accuracy: 0.7147 - val_loss: 0.5237 - val_accuracy: 0.6908\n",
      "Epoch 17/100\n",
      "44/44 [==============================] - 0s 4ms/step - loss: 0.5028 - accuracy: 0.6908 - val_loss: 0.5606 - val_accuracy: 0.6821\n",
      "Epoch 18/100\n",
      "44/44 [==============================] - 0s 4ms/step - loss: 0.5091 - accuracy: 0.6937 - val_loss: 0.5139 - val_accuracy: 0.6879\n",
      "Epoch 19/100\n",
      "44/44 [==============================] - 0s 5ms/step - loss: 0.5061 - accuracy: 0.6951 - val_loss: 0.5278 - val_accuracy: 0.6908\n",
      "Epoch 20/100\n",
      "44/44 [==============================] - 0s 5ms/step - loss: 0.5060 - accuracy: 0.6937 - val_loss: 0.5193 - val_accuracy: 0.6647\n",
      "Epoch 21/100\n",
      "44/44 [==============================] - 0s 5ms/step - loss: 0.5084 - accuracy: 0.6901 - val_loss: 0.5195 - val_accuracy: 0.6994\n",
      "Epoch 22/100\n",
      "44/44 [==============================] - 0s 6ms/step - loss: 0.4970 - accuracy: 0.6857 - val_loss: 0.5543 - val_accuracy: 0.6763\n",
      "Epoch 23/100\n",
      "44/44 [==============================] - 0s 5ms/step - loss: 0.5203 - accuracy: 0.7002 - val_loss: 0.5363 - val_accuracy: 0.6618\n",
      "Epoch 24/100\n",
      "44/44 [==============================] - 0s 5ms/step - loss: 0.5081 - accuracy: 0.6865 - val_loss: 0.5315 - val_accuracy: 0.6908\n",
      "Epoch 25/100\n",
      "44/44 [==============================] - 0s 6ms/step - loss: 0.5021 - accuracy: 0.6865 - val_loss: 0.5133 - val_accuracy: 0.6705\n",
      "Epoch 26/100\n",
      "44/44 [==============================] - 0s 5ms/step - loss: 0.4992 - accuracy: 0.7089 - val_loss: 0.5160 - val_accuracy: 0.6705\n",
      "Epoch 27/100\n",
      "44/44 [==============================] - 0s 5ms/step - loss: 0.5042 - accuracy: 0.7009 - val_loss: 0.5209 - val_accuracy: 0.6647\n",
      "Epoch 28/100\n",
      "44/44 [==============================] - 0s 5ms/step - loss: 0.5107 - accuracy: 0.6879 - val_loss: 0.5201 - val_accuracy: 0.6705\n",
      "Epoch 29/100\n",
      "44/44 [==============================] - 0s 5ms/step - loss: 0.5251 - accuracy: 0.6937 - val_loss: 0.5161 - val_accuracy: 0.6850\n",
      "Epoch 30/100\n",
      "44/44 [==============================] - 0s 5ms/step - loss: 0.5119 - accuracy: 0.6966 - val_loss: 0.5252 - val_accuracy: 0.6908\n",
      "Epoch 31/100\n",
      "44/44 [==============================] - 0s 6ms/step - loss: 0.5017 - accuracy: 0.6937 - val_loss: 0.5564 - val_accuracy: 0.6647\n",
      "Epoch 32/100\n",
      "44/44 [==============================] - 0s 5ms/step - loss: 0.5025 - accuracy: 0.6944 - val_loss: 0.6052 - val_accuracy: 0.5809\n",
      "Epoch 33/100\n",
      "44/44 [==============================] - 0s 4ms/step - loss: 0.5627 - accuracy: 0.6828 - val_loss: 0.5622 - val_accuracy: 0.6879\n",
      "Epoch 34/100\n",
      "44/44 [==============================] - 0s 5ms/step - loss: 0.5384 - accuracy: 0.6669 - val_loss: 0.5525 - val_accuracy: 0.6965\n",
      "Epoch 35/100\n",
      "44/44 [==============================] - 0s 6ms/step - loss: 0.5010 - accuracy: 0.7024 - val_loss: 0.5249 - val_accuracy: 0.6965\n",
      "Epoch 36/100\n",
      "44/44 [==============================] - 0s 5ms/step - loss: 0.5049 - accuracy: 0.6915 - val_loss: 0.5310 - val_accuracy: 0.6647\n",
      "Epoch 37/100\n",
      "44/44 [==============================] - 0s 5ms/step - loss: 0.4958 - accuracy: 0.6915 - val_loss: 0.5296 - val_accuracy: 0.6908\n",
      "Epoch 38/100\n",
      "44/44 [==============================] - 0s 5ms/step - loss: 0.4933 - accuracy: 0.6951 - val_loss: 0.5115 - val_accuracy: 0.6763\n",
      "Epoch 39/100\n",
      "44/44 [==============================] - 0s 5ms/step - loss: 0.4991 - accuracy: 0.6792 - val_loss: 0.5300 - val_accuracy: 0.6965\n",
      "Epoch 40/100\n",
      "44/44 [==============================] - 0s 5ms/step - loss: 0.5370 - accuracy: 0.6828 - val_loss: 0.5616 - val_accuracy: 0.6879\n",
      "Epoch 41/100\n",
      "44/44 [==============================] - 0s 5ms/step - loss: 0.5480 - accuracy: 0.6865 - val_loss: 0.5761 - val_accuracy: 0.6908\n",
      "Epoch 42/100\n",
      "44/44 [==============================] - 0s 5ms/step - loss: 0.6278 - accuracy: 0.6589 - val_loss: 0.5744 - val_accuracy: 0.6908\n",
      "Epoch 43/100\n",
      "44/44 [==============================] - 0s 5ms/step - loss: 0.5484 - accuracy: 0.6908 - val_loss: 0.5553 - val_accuracy: 0.6850\n",
      "Epoch 44/100\n",
      "44/44 [==============================] - 0s 4ms/step - loss: 0.5308 - accuracy: 0.6756 - val_loss: 0.5662 - val_accuracy: 0.6821\n",
      "Epoch 45/100\n",
      "44/44 [==============================] - 0s 5ms/step - loss: 0.5374 - accuracy: 0.6770 - val_loss: 0.5736 - val_accuracy: 0.6994\n",
      "Epoch 46/100\n",
      "44/44 [==============================] - 0s 4ms/step - loss: 0.5374 - accuracy: 0.6937 - val_loss: 0.5495 - val_accuracy: 0.6936\n",
      "Epoch 47/100\n",
      "44/44 [==============================] - 0s 4ms/step - loss: 0.5168 - accuracy: 0.6901 - val_loss: 0.5180 - val_accuracy: 0.7081\n",
      "Epoch 48/100\n",
      "44/44 [==============================] - 0s 3ms/step - loss: 0.5073 - accuracy: 0.6850 - val_loss: 0.5207 - val_accuracy: 0.6792\n",
      "Epoch 49/100\n",
      "44/44 [==============================] - 0s 3ms/step - loss: 0.4943 - accuracy: 0.6792 - val_loss: 0.5156 - val_accuracy: 0.6936\n",
      "Epoch 50/100\n",
      "44/44 [==============================] - 0s 5ms/step - loss: 0.5013 - accuracy: 0.6836 - val_loss: 0.5152 - val_accuracy: 0.6936\n",
      "Epoch 51/100\n",
      "44/44 [==============================] - 0s 6ms/step - loss: 0.4968 - accuracy: 0.6959 - val_loss: 0.5215 - val_accuracy: 0.6618\n",
      "Epoch 52/100\n",
      "44/44 [==============================] - 0s 3ms/step - loss: 0.5053 - accuracy: 0.6951 - val_loss: 0.5163 - val_accuracy: 0.6734\n",
      "Epoch 53/100\n",
      "44/44 [==============================] - 0s 3ms/step - loss: 0.4979 - accuracy: 0.6807 - val_loss: 0.5150 - val_accuracy: 0.6879\n",
      "Epoch 54/100\n",
      "44/44 [==============================] - 0s 5ms/step - loss: 0.4923 - accuracy: 0.6944 - val_loss: 0.5141 - val_accuracy: 0.6879\n",
      "Epoch 55/100\n",
      "44/44 [==============================] - 0s 7ms/step - loss: 0.4989 - accuracy: 0.6901 - val_loss: 0.5318 - val_accuracy: 0.6908\n",
      "Epoch 56/100\n",
      "44/44 [==============================] - 0s 5ms/step - loss: 0.5063 - accuracy: 0.7060 - val_loss: 0.5161 - val_accuracy: 0.6908\n",
      "Epoch 57/100\n",
      "44/44 [==============================] - 0s 5ms/step - loss: 0.5135 - accuracy: 0.6944 - val_loss: 0.5116 - val_accuracy: 0.6763\n",
      "Epoch 58/100\n",
      "44/44 [==============================] - 0s 5ms/step - loss: 0.5044 - accuracy: 0.6886 - val_loss: 0.5085 - val_accuracy: 0.6763\n"
     ]
    },
    {
     "name": "stdout",
     "output_type": "stream",
     "text": [
      "Epoch 59/100\n",
      "44/44 [==============================] - 0s 5ms/step - loss: 0.5522 - accuracy: 0.6865 - val_loss: 0.5236 - val_accuracy: 0.6908\n",
      "Epoch 60/100\n",
      "44/44 [==============================] - 0s 4ms/step - loss: 0.5508 - accuracy: 0.6901 - val_loss: 0.5905 - val_accuracy: 0.6908\n",
      "Epoch 61/100\n",
      "44/44 [==============================] - 0s 5ms/step - loss: 0.5532 - accuracy: 0.6944 - val_loss: 0.5537 - val_accuracy: 0.6994\n",
      "Epoch 62/100\n",
      "44/44 [==============================] - 0s 5ms/step - loss: 0.5328 - accuracy: 0.6937 - val_loss: 0.5420 - val_accuracy: 0.7023\n",
      "Epoch 63/100\n",
      "44/44 [==============================] - 0s 4ms/step - loss: 0.5273 - accuracy: 0.7038 - val_loss: 0.5355 - val_accuracy: 0.7110\n",
      "Epoch 64/100\n",
      "44/44 [==============================] - 0s 4ms/step - loss: 0.5308 - accuracy: 0.7031 - val_loss: 0.5249 - val_accuracy: 0.7052\n",
      "Epoch 65/100\n",
      "44/44 [==============================] - 0s 5ms/step - loss: 0.5295 - accuracy: 0.7024 - val_loss: 0.5375 - val_accuracy: 0.6908\n",
      "Epoch 66/100\n",
      "44/44 [==============================] - 0s 3ms/step - loss: 0.5285 - accuracy: 0.6865 - val_loss: 0.5271 - val_accuracy: 0.7081\n",
      "Epoch 67/100\n",
      "44/44 [==============================] - 0s 4ms/step - loss: 0.5154 - accuracy: 0.6951 - val_loss: 0.5495 - val_accuracy: 0.7110\n",
      "Epoch 68/100\n",
      "44/44 [==============================] - 0s 6ms/step - loss: 0.5497 - accuracy: 0.6821 - val_loss: 0.5861 - val_accuracy: 0.7052\n",
      "Epoch 69/100\n",
      "44/44 [==============================] - 0s 7ms/step - loss: 0.5163 - accuracy: 0.6821 - val_loss: 0.5279 - val_accuracy: 0.6850\n",
      "Epoch 70/100\n",
      "44/44 [==============================] - 0s 6ms/step - loss: 0.5161 - accuracy: 0.6821 - val_loss: 0.5195 - val_accuracy: 0.7023\n",
      "Epoch 71/100\n",
      "44/44 [==============================] - 0s 5ms/step - loss: 0.4991 - accuracy: 0.6915 - val_loss: 0.5158 - val_accuracy: 0.6908\n",
      "Epoch 72/100\n",
      "44/44 [==============================] - 0s 5ms/step - loss: 0.5050 - accuracy: 0.6988 - val_loss: 0.5198 - val_accuracy: 0.6763\n",
      "Epoch 73/100\n",
      "44/44 [==============================] - 0s 5ms/step - loss: 0.5033 - accuracy: 0.6966 - val_loss: 0.5187 - val_accuracy: 0.6705\n",
      "Epoch 74/100\n",
      "44/44 [==============================] - 0s 5ms/step - loss: 0.4954 - accuracy: 0.6807 - val_loss: 0.5112 - val_accuracy: 0.6792\n",
      "Epoch 75/100\n",
      "44/44 [==============================] - 0s 5ms/step - loss: 0.4965 - accuracy: 0.6879 - val_loss: 0.5115 - val_accuracy: 0.6879\n",
      "Epoch 76/100\n",
      "44/44 [==============================] - 0s 4ms/step - loss: 0.4985 - accuracy: 0.6843 - val_loss: 0.5141 - val_accuracy: 0.6879\n",
      "Epoch 77/100\n",
      "44/44 [==============================] - 0s 5ms/step - loss: 0.4990 - accuracy: 0.6951 - val_loss: 0.5097 - val_accuracy: 0.6965\n",
      "Epoch 78/100\n",
      "44/44 [==============================] - 0s 6ms/step - loss: 0.4981 - accuracy: 0.6980 - val_loss: 0.5093 - val_accuracy: 0.6734\n",
      "Epoch 79/100\n",
      "44/44 [==============================] - 0s 5ms/step - loss: 0.4974 - accuracy: 0.6995 - val_loss: 0.5125 - val_accuracy: 0.6879\n",
      "Epoch 80/100\n",
      "44/44 [==============================] - 0s 3ms/step - loss: 0.4991 - accuracy: 0.6915 - val_loss: 0.5116 - val_accuracy: 0.6705\n",
      "Epoch 81/100\n",
      "44/44 [==============================] - 0s 6ms/step - loss: 0.5054 - accuracy: 0.6836 - val_loss: 0.5177 - val_accuracy: 0.6676\n",
      "Epoch 82/100\n",
      "44/44 [==============================] - 0s 7ms/step - loss: 0.4972 - accuracy: 0.6995 - val_loss: 0.5267 - val_accuracy: 0.6792\n",
      "Epoch 83/100\n",
      "44/44 [==============================] - 0s 5ms/step - loss: 0.4949 - accuracy: 0.6901 - val_loss: 0.5173 - val_accuracy: 0.6676\n",
      "Epoch 84/100\n",
      "44/44 [==============================] - 0s 6ms/step - loss: 0.4973 - accuracy: 0.6973 - val_loss: 0.5157 - val_accuracy: 0.6936\n",
      "Epoch 85/100\n",
      "44/44 [==============================] - 0s 5ms/step - loss: 0.4969 - accuracy: 0.6930 - val_loss: 0.5192 - val_accuracy: 0.6618\n",
      "Epoch 86/100\n",
      "44/44 [==============================] - 0s 6ms/step - loss: 0.4963 - accuracy: 0.6799 - val_loss: 0.5249 - val_accuracy: 0.6561\n",
      "Epoch 87/100\n",
      "44/44 [==============================] - 0s 5ms/step - loss: 0.4912 - accuracy: 0.6872 - val_loss: 0.5232 - val_accuracy: 0.6879\n",
      "Epoch 88/100\n",
      "44/44 [==============================] - 0s 5ms/step - loss: 0.4983 - accuracy: 0.6843 - val_loss: 0.5158 - val_accuracy: 0.6965\n",
      "Epoch 89/100\n",
      "44/44 [==============================] - 0s 5ms/step - loss: 0.4955 - accuracy: 0.6843 - val_loss: 0.5218 - val_accuracy: 0.6705\n",
      "Epoch 90/100\n",
      "44/44 [==============================] - 0s 6ms/step - loss: 0.5338 - accuracy: 0.6669 - val_loss: 0.5165 - val_accuracy: 0.6936\n",
      "Epoch 91/100\n",
      "44/44 [==============================] - 0s 6ms/step - loss: 0.5006 - accuracy: 0.7002 - val_loss: 0.5371 - val_accuracy: 0.6908\n",
      "Epoch 92/100\n",
      "44/44 [==============================] - 0s 5ms/step - loss: 0.4989 - accuracy: 0.7046 - val_loss: 0.5200 - val_accuracy: 0.6908\n",
      "Epoch 93/100\n",
      "44/44 [==============================] - 0s 6ms/step - loss: 0.4916 - accuracy: 0.7046 - val_loss: 0.5202 - val_accuracy: 0.6908\n",
      "Epoch 94/100\n",
      "44/44 [==============================] - 0s 5ms/step - loss: 0.4926 - accuracy: 0.6879 - val_loss: 0.5159 - val_accuracy: 0.6821\n",
      "Epoch 95/100\n",
      "44/44 [==============================] - 0s 5ms/step - loss: 0.4933 - accuracy: 0.6901 - val_loss: 0.5111 - val_accuracy: 0.6734\n",
      "Epoch 96/100\n",
      "44/44 [==============================] - 0s 5ms/step - loss: 0.4965 - accuracy: 0.6923 - val_loss: 0.5227 - val_accuracy: 0.6879\n",
      "Epoch 97/100\n",
      "44/44 [==============================] - 0s 5ms/step - loss: 0.5019 - accuracy: 0.6763 - val_loss: 0.5125 - val_accuracy: 0.6879\n",
      "Epoch 98/100\n",
      "44/44 [==============================] - 0s 5ms/step - loss: 0.5052 - accuracy: 0.6923 - val_loss: 0.5275 - val_accuracy: 0.6590\n",
      "Epoch 99/100\n",
      "44/44 [==============================] - 0s 6ms/step - loss: 0.5162 - accuracy: 0.6828 - val_loss: 0.5220 - val_accuracy: 0.6879\n",
      "Epoch 100/100\n",
      "44/44 [==============================] - 0s 6ms/step - loss: 0.4993 - accuracy: 0.6980 - val_loss: 0.5570 - val_accuracy: 0.7023\n",
      "11/11 [==============================] - 0s 3ms/step\n"
     ]
    }
   ],
   "source": [
    "model_history=model.fit(x=X_train, y=y_train, epochs=100, batch_size=32,validation_data= (X_test,y_test))\n",
    "y_pred = model.predict(X_test)\n",
    "\n",
    "y_test_class = np.argmax(y_test,axis=1)\n",
    "y_pred_class = np.argmax(y_pred,axis=1)"
   ]
  },
  {
   "cell_type": "code",
   "execution_count": 46,
   "id": "3abe1a5e",
   "metadata": {},
   "outputs": [
    {
     "data": {
      "image/png": "[encoded data removed]",
      "text/plain": [
       "<Figure size 432x288 with 1 Axes>"
      ]
     },
     "metadata": {},
     "output_type": "display_data"
    }
   ],
   "source": [
    "import matplotlib.pyplot as plt\n",
    "import seaborn as sns\n",
    "\n",
    "loss =model_history.history['loss']\n",
    "val_loss =model_history.history['val_loss']\n",
    "epochs = range(1, len(loss) + 1)\n",
    "plt.plot(epochs, loss, 'y', label='Training loss')\n",
    "plt.plot(epochs, val_loss, 'r', label='Validation loss')\n",
    "plt.title('Training and validation loss')\n",
    "plt.xlabel('Epochs')\n",
    "plt.ylabel('Loss')\n",
    "plt.legend()\n",
    "plt.show()"
   ]
  },
  {
   "cell_type": "code",
   "execution_count": 47,
   "id": "c2268439",
   "metadata": {},
   "outputs": [
    {
     "data": {
      "image/png": "[encoded data removed]",
      "text/plain": [
       "<Figure size 432x288 with 1 Axes>"
      ]
     },
     "metadata": {},
     "output_type": "display_data"
    }
   ],
   "source": [
    "acc =model_history.history['accuracy']\n",
    "val_acc =model_history.history['val_accuracy']\n",
    "plt.plot(epochs, acc, 'y', label='Training acc')\n",
    "plt.plot(epochs, val_acc, 'r', label='Validation acc')\n",
    "plt.title('Training and validation accuracy')\n",
    "plt.xlabel('Epochs')\n",
    "plt.ylabel('Accuracy')\n",
    "plt.legend()\n",
    "plt.show()"
   ]
  },
  {
   "cell_type": "code",
   "execution_count": 48,
   "id": "49432846",
   "metadata": {},
   "outputs": [
    {
     "name": "stdout",
     "output_type": "stream",
     "text": [
      "              precision    recall  f1-score   support\n",
      "\n",
      "           0       0.91      0.69      0.79       239\n",
      "           1       0.49      0.91      0.64        77\n",
      "           2       0.35      0.57      0.43        14\n",
      "           3       0.00      0.00      0.00        16\n",
      "\n",
      "    accuracy                           0.70       346\n",
      "   macro avg       0.44      0.54      0.46       346\n",
      "weighted avg       0.75      0.70      0.70       346\n",
      "\n",
      "[[165  65   9   0]\n",
      " [  4  70   3   0]\n",
      " [  6   0   8   0]\n",
      " [  6   7   3   0]]\n"
     ]
    }
   ],
   "source": [
    "#Accuracy of the predicted values\n",
    "from sklearn.metrics import classification_report,confusion_matrix\n",
    "print(classification_report(y_test_class,y_pred_class))\n",
    "print(confusion_matrix(y_test_class,y_pred_class))"
   ]
  },
  {
   "cell_type": "markdown",
   "id": "f5df5458",
   "metadata": {},
   "source": [
    "# ---------------------------"
   ]
  },
  {
   "cell_type": "markdown",
   "id": "dcf77a1d",
   "metadata": {},
   "source": [
    "# SupportVectorMachine"
   ]
  },
  {
   "cell_type": "code",
   "execution_count": 49,
   "id": "b8b4a634",
   "metadata": {},
   "outputs": [
    {
     "ename": "NameError",
     "evalue": "name 'y_train_c' is not defined",
     "output_type": "error",
     "traceback": [
      "\u001b[1;31m---------------------------------------------------------------------------\u001b[0m",
      "\u001b[1;31mNameError\u001b[0m                                 Traceback (most recent call last)",
      "\u001b[1;32m~\\AppData\\Local\\Temp/ipykernel_26576/3243956223.py\u001b[0m in \u001b[0;36m<module>\u001b[1;34m\u001b[0m\n\u001b[0;32m      6\u001b[0m \u001b[1;33m\u001b[0m\u001b[0m\n\u001b[0;32m      7\u001b[0m \u001b[0mclf_svm\u001b[0m \u001b[1;33m=\u001b[0m \u001b[0mSVC\u001b[0m\u001b[1;33m(\u001b[0m\u001b[0mrandom_state\u001b[0m\u001b[1;33m=\u001b[0m\u001b[1;36m0\u001b[0m\u001b[1;33m)\u001b[0m\u001b[1;33m\u001b[0m\u001b[1;33m\u001b[0m\u001b[0m\n\u001b[1;32m----> 8\u001b[1;33m \u001b[0mclf_svm\u001b[0m\u001b[1;33m.\u001b[0m\u001b[0mfit\u001b[0m\u001b[1;33m(\u001b[0m\u001b[0mX_train\u001b[0m\u001b[1;33m,\u001b[0m \u001b[0my_train_c\u001b[0m\u001b[1;33m)\u001b[0m\u001b[1;33m\u001b[0m\u001b[1;33m\u001b[0m\u001b[0m\n\u001b[0m\u001b[0;32m      9\u001b[0m \u001b[1;33m\u001b[0m\u001b[0m\n\u001b[0;32m     10\u001b[0m \u001b[0mpred_svm\u001b[0m \u001b[1;33m=\u001b[0m \u001b[0mclf_svm\u001b[0m\u001b[1;33m.\u001b[0m\u001b[0mpredict\u001b[0m\u001b[1;33m(\u001b[0m\u001b[0mX_test\u001b[0m\u001b[1;33m)\u001b[0m\u001b[1;33m\u001b[0m\u001b[1;33m\u001b[0m\u001b[0m\n",
      "\u001b[1;31mNameError\u001b[0m: name 'y_train_c' is not defined"
     ]
    }
   ],
   "source": [
    "# SVM\n",
    "\n",
    "from sklearn.metrics import accuracy_score\n",
    "from sklearn.metrics import confusion_matrix\n",
    "from sklearn.svm import SVC\n",
    "\n",
    "clf_svm = SVC(random_state=0)\n",
    "clf_svm.fit(X_train, y_train_c)\n",
    "\n",
    "pred_svm = clf_svm.predict(X_test)\n",
    "\n",
    "print(\"\\n--- SVM Classifier ---\")\n",
    "print(accuracy_score(y_test_c, pred_svm))\n",
    "print(confusion_matrix(y_test_c, pred_svm))"
   ]
  },
  {
   "cell_type": "code",
   "execution_count": 54,
   "id": "5c55eedc",
   "metadata": {
    "scrolled": false
   },
   "outputs": [
    {
     "data": {
      "image/png": "[encoded data removed]",
      "text/plain": [
       "<Figure size 576x432 with 1 Axes>"
      ]
     },
     "metadata": {},
     "output_type": "display_data"
    }
   ],
   "source": [
    "# Confusion Matrix 생성\n",
    "conf_matrix = confusion_matrix(y_test_c, pred_svm)\n",
    "\n",
    "# Confusion Matrix를 히트맵으로 시각화\n",
    "plt.figure(figsize=(8, 6))\n",
    "sns.heatmap(conf_matrix, annot=True, fmt=\"d\", cmap=\"Blues\", cbar=False)\n",
    "plt.xlabel(\"Predicted\")\n",
    "plt.ylabel(\"Actual\")\n",
    "plt.title(\"Confusion Matrix (SVM Classifier)\")\n",
    "plt.show()"
   ]
  },
  {
   "cell_type": "markdown",
   "id": "cb3d8d74",
   "metadata": {},
   "source": [
    "# LogisticRegression"
   ]
  },
  {
   "cell_type": "code",
   "execution_count": 55,
   "id": "238041df",
   "metadata": {},
   "outputs": [
    {
     "ename": "ValueError",
     "evalue": "Found input variables with inconsistent numbers of samples: [1295, 1381]",
     "output_type": "error",
     "traceback": [
      "\u001b[1;31m---------------------------------------------------------------------------\u001b[0m",
      "\u001b[1;31mValueError\u001b[0m                                Traceback (most recent call last)",
      "\u001b[1;32m~\\AppData\\Local\\Temp/ipykernel_31096/2235500424.py\u001b[0m in \u001b[0;36m<module>\u001b[1;34m\u001b[0m\n\u001b[0;32m      4\u001b[0m \u001b[1;33m\u001b[0m\u001b[0m\n\u001b[0;32m      5\u001b[0m \u001b[0mclf_lr\u001b[0m \u001b[1;33m=\u001b[0m \u001b[0mLogisticRegression\u001b[0m\u001b[1;33m(\u001b[0m\u001b[0mrandom_state\u001b[0m\u001b[1;33m=\u001b[0m\u001b[1;36m0\u001b[0m\u001b[1;33m)\u001b[0m\u001b[1;33m\u001b[0m\u001b[1;33m\u001b[0m\u001b[0m\n\u001b[1;32m----> 6\u001b[1;33m \u001b[0mclf_lr\u001b[0m\u001b[1;33m.\u001b[0m\u001b[0mfit\u001b[0m\u001b[1;33m(\u001b[0m\u001b[0mx_train\u001b[0m\u001b[1;33m,\u001b[0m \u001b[0my_train_c\u001b[0m\u001b[1;33m)\u001b[0m\u001b[1;33m\u001b[0m\u001b[1;33m\u001b[0m\u001b[0m\n\u001b[0m\u001b[0;32m      7\u001b[0m \u001b[1;33m\u001b[0m\u001b[0m\n\u001b[0;32m      8\u001b[0m \u001b[0mpred_lr\u001b[0m \u001b[1;33m=\u001b[0m \u001b[0mclf_lr\u001b[0m\u001b[1;33m.\u001b[0m\u001b[0mpredict\u001b[0m\u001b[1;33m(\u001b[0m\u001b[0mx_test\u001b[0m\u001b[1;33m)\u001b[0m\u001b[1;33m\u001b[0m\u001b[1;33m\u001b[0m\u001b[0m\n",
      "\u001b[1;32m~\\anaconda3\\lib\\site-packages\\sklearn\\linear_model\\_logistic.py\u001b[0m in \u001b[0;36mfit\u001b[1;34m(self, X, y, sample_weight)\u001b[0m\n\u001b[0;32m   1342\u001b[0m             \u001b[0m_dtype\u001b[0m \u001b[1;33m=\u001b[0m \u001b[1;33m[\u001b[0m\u001b[0mnp\u001b[0m\u001b[1;33m.\u001b[0m\u001b[0mfloat64\u001b[0m\u001b[1;33m,\u001b[0m \u001b[0mnp\u001b[0m\u001b[1;33m.\u001b[0m\u001b[0mfloat32\u001b[0m\u001b[1;33m]\u001b[0m\u001b[1;33m\u001b[0m\u001b[1;33m\u001b[0m\u001b[0m\n\u001b[0;32m   1343\u001b[0m \u001b[1;33m\u001b[0m\u001b[0m\n\u001b[1;32m-> 1344\u001b[1;33m         X, y = self._validate_data(X, y, accept_sparse='csr', dtype=_dtype,\n\u001b[0m\u001b[0;32m   1345\u001b[0m                                    \u001b[0morder\u001b[0m\u001b[1;33m=\u001b[0m\u001b[1;34m\"C\"\u001b[0m\u001b[1;33m,\u001b[0m\u001b[1;33m\u001b[0m\u001b[1;33m\u001b[0m\u001b[0m\n\u001b[0;32m   1346\u001b[0m                                    accept_large_sparse=solver != 'liblinear')\n",
      "\u001b[1;32m~\\anaconda3\\lib\\site-packages\\sklearn\\base.py\u001b[0m in \u001b[0;36m_validate_data\u001b[1;34m(self, X, y, reset, validate_separately, **check_params)\u001b[0m\n\u001b[0;32m    431\u001b[0m                 \u001b[0my\u001b[0m \u001b[1;33m=\u001b[0m \u001b[0mcheck_array\u001b[0m\u001b[1;33m(\u001b[0m\u001b[0my\u001b[0m\u001b[1;33m,\u001b[0m \u001b[1;33m**\u001b[0m\u001b[0mcheck_y_params\u001b[0m\u001b[1;33m)\u001b[0m\u001b[1;33m\u001b[0m\u001b[1;33m\u001b[0m\u001b[0m\n\u001b[0;32m    432\u001b[0m             \u001b[1;32melse\u001b[0m\u001b[1;33m:\u001b[0m\u001b[1;33m\u001b[0m\u001b[1;33m\u001b[0m\u001b[0m\n\u001b[1;32m--> 433\u001b[1;33m                 \u001b[0mX\u001b[0m\u001b[1;33m,\u001b[0m \u001b[0my\u001b[0m \u001b[1;33m=\u001b[0m \u001b[0mcheck_X_y\u001b[0m\u001b[1;33m(\u001b[0m\u001b[0mX\u001b[0m\u001b[1;33m,\u001b[0m \u001b[0my\u001b[0m\u001b[1;33m,\u001b[0m \u001b[1;33m**\u001b[0m\u001b[0mcheck_params\u001b[0m\u001b[1;33m)\u001b[0m\u001b[1;33m\u001b[0m\u001b[1;33m\u001b[0m\u001b[0m\n\u001b[0m\u001b[0;32m    434\u001b[0m             \u001b[0mout\u001b[0m \u001b[1;33m=\u001b[0m \u001b[0mX\u001b[0m\u001b[1;33m,\u001b[0m \u001b[0my\u001b[0m\u001b[1;33m\u001b[0m\u001b[1;33m\u001b[0m\u001b[0m\n\u001b[0;32m    435\u001b[0m \u001b[1;33m\u001b[0m\u001b[0m\n",
      "\u001b[1;32m~\\anaconda3\\lib\\site-packages\\sklearn\\utils\\validation.py\u001b[0m in \u001b[0;36minner_f\u001b[1;34m(*args, **kwargs)\u001b[0m\n\u001b[0;32m     61\u001b[0m             \u001b[0mextra_args\u001b[0m \u001b[1;33m=\u001b[0m \u001b[0mlen\u001b[0m\u001b[1;33m(\u001b[0m\u001b[0margs\u001b[0m\u001b[1;33m)\u001b[0m \u001b[1;33m-\u001b[0m \u001b[0mlen\u001b[0m\u001b[1;33m(\u001b[0m\u001b[0mall_args\u001b[0m\u001b[1;33m)\u001b[0m\u001b[1;33m\u001b[0m\u001b[1;33m\u001b[0m\u001b[0m\n\u001b[0;32m     62\u001b[0m             \u001b[1;32mif\u001b[0m \u001b[0mextra_args\u001b[0m \u001b[1;33m<=\u001b[0m \u001b[1;36m0\u001b[0m\u001b[1;33m:\u001b[0m\u001b[1;33m\u001b[0m\u001b[1;33m\u001b[0m\u001b[0m\n\u001b[1;32m---> 63\u001b[1;33m                 \u001b[1;32mreturn\u001b[0m \u001b[0mf\u001b[0m\u001b[1;33m(\u001b[0m\u001b[1;33m*\u001b[0m\u001b[0margs\u001b[0m\u001b[1;33m,\u001b[0m \u001b[1;33m**\u001b[0m\u001b[0mkwargs\u001b[0m\u001b[1;33m)\u001b[0m\u001b[1;33m\u001b[0m\u001b[1;33m\u001b[0m\u001b[0m\n\u001b[0m\u001b[0;32m     64\u001b[0m \u001b[1;33m\u001b[0m\u001b[0m\n\u001b[0;32m     65\u001b[0m             \u001b[1;31m# extra_args > 0\u001b[0m\u001b[1;33m\u001b[0m\u001b[1;33m\u001b[0m\u001b[0m\n",
      "\u001b[1;32m~\\anaconda3\\lib\\site-packages\\sklearn\\utils\\validation.py\u001b[0m in \u001b[0;36mcheck_X_y\u001b[1;34m(X, y, accept_sparse, accept_large_sparse, dtype, order, copy, force_all_finite, ensure_2d, allow_nd, multi_output, ensure_min_samples, ensure_min_features, y_numeric, estimator)\u001b[0m\n\u001b[0;32m    886\u001b[0m         \u001b[0my\u001b[0m \u001b[1;33m=\u001b[0m \u001b[0my\u001b[0m\u001b[1;33m.\u001b[0m\u001b[0mastype\u001b[0m\u001b[1;33m(\u001b[0m\u001b[0mnp\u001b[0m\u001b[1;33m.\u001b[0m\u001b[0mfloat64\u001b[0m\u001b[1;33m)\u001b[0m\u001b[1;33m\u001b[0m\u001b[1;33m\u001b[0m\u001b[0m\n\u001b[0;32m    887\u001b[0m \u001b[1;33m\u001b[0m\u001b[0m\n\u001b[1;32m--> 888\u001b[1;33m     \u001b[0mcheck_consistent_length\u001b[0m\u001b[1;33m(\u001b[0m\u001b[0mX\u001b[0m\u001b[1;33m,\u001b[0m \u001b[0my\u001b[0m\u001b[1;33m)\u001b[0m\u001b[1;33m\u001b[0m\u001b[1;33m\u001b[0m\u001b[0m\n\u001b[0m\u001b[0;32m    889\u001b[0m \u001b[1;33m\u001b[0m\u001b[0m\n\u001b[0;32m    890\u001b[0m     \u001b[1;32mreturn\u001b[0m \u001b[0mX\u001b[0m\u001b[1;33m,\u001b[0m \u001b[0my\u001b[0m\u001b[1;33m\u001b[0m\u001b[1;33m\u001b[0m\u001b[0m\n",
      "\u001b[1;32m~\\anaconda3\\lib\\site-packages\\sklearn\\utils\\validation.py\u001b[0m in \u001b[0;36mcheck_consistent_length\u001b[1;34m(*arrays)\u001b[0m\n\u001b[0;32m    317\u001b[0m     \u001b[0muniques\u001b[0m \u001b[1;33m=\u001b[0m \u001b[0mnp\u001b[0m\u001b[1;33m.\u001b[0m\u001b[0munique\u001b[0m\u001b[1;33m(\u001b[0m\u001b[0mlengths\u001b[0m\u001b[1;33m)\u001b[0m\u001b[1;33m\u001b[0m\u001b[1;33m\u001b[0m\u001b[0m\n\u001b[0;32m    318\u001b[0m     \u001b[1;32mif\u001b[0m \u001b[0mlen\u001b[0m\u001b[1;33m(\u001b[0m\u001b[0muniques\u001b[0m\u001b[1;33m)\u001b[0m \u001b[1;33m>\u001b[0m \u001b[1;36m1\u001b[0m\u001b[1;33m:\u001b[0m\u001b[1;33m\u001b[0m\u001b[1;33m\u001b[0m\u001b[0m\n\u001b[1;32m--> 319\u001b[1;33m         raise ValueError(\"Found input variables with inconsistent numbers of\"\n\u001b[0m\u001b[0;32m    320\u001b[0m                          \" samples: %r\" % [int(l) for l in lengths])\n\u001b[0;32m    321\u001b[0m \u001b[1;33m\u001b[0m\u001b[0m\n",
      "\u001b[1;31mValueError\u001b[0m: Found input variables with inconsistent numbers of samples: [1295, 1381]"
     ]
    }
   ],
   "source": [
    "# LR\n",
    "\n",
    "from sklearn.linear_model import LogisticRegression\n",
    "\n",
    "clf_lr = LogisticRegression(random_state=0)\n",
    "clf_lr.fit(x_train, y_train_c)\n",
    "\n",
    "pred_lr = clf_lr.predict(x_test)\n",
    "\n",
    "print (\"\\n--- Logistic Regression Classifier ---\")\n",
    "print (accuracy_score(y_test_c, pred_lr))\n",
    "print (confusion_matrix(y_test_c, pred_lr))"
   ]
  },
  {
   "cell_type": "code",
   "execution_count": 44,
   "id": "8245cd00",
   "metadata": {
    "scrolled": false
   },
   "outputs": [
    {
     "data": {
      "image/png": "[encoded data removed]",
      "text/plain": [
       "<Figure size 576x432 with 1 Axes>"
      ]
     },
     "metadata": {
      "needs_background": "light"
     },
     "output_type": "display_data"
    }
   ],
   "source": [
    "# Confusion Matrix 생성\n",
    "conf_matrix = confusion_matrix(y_test, pred_lr)\n",
    "\n",
    "# Confusion Matrix를 히트맵으로 시각화\n",
    "plt.figure(figsize=(8, 6))\n",
    "sns.heatmap(conf_matrix, annot=True, fmt=\"d\", cmap=\"Blues\", cbar=False)\n",
    "plt.xlabel(\"Predicted\")\n",
    "plt.ylabel(\"Actual\")\n",
    "plt.title(\"Confusion Matrix (Logistic Regression Classifier)\")\n",
    "plt.show()"
   ]
  },
  {
   "cell_type": "markdown",
   "id": "d8222e0b",
   "metadata": {},
   "source": [
    "# DecisionTree"
   ]
  },
  {
   "cell_type": "code",
   "execution_count": 40,
   "id": "035002ce",
   "metadata": {},
   "outputs": [
    {
     "name": "stdout",
     "output_type": "stream",
     "text": [
      "\n",
      "--- Decision Tree Classifier ---\n",
      "0.9699074074074074\n",
      "[[295   1   0   0]\n",
      " [  7  88   4   0]\n",
      " [  0   0  21   0]\n",
      " [  0   1   0  15]]\n"
     ]
    }
   ],
   "source": [
    "# DT\n",
    "\n",
    "from sklearn.tree import DecisionTreeClassifier\n",
    "\n",
    "clf_dt = DecisionTreeClassifier(random_state=0)\n",
    "clf_dt.fit(x_train, y_train)\n",
    "\n",
    "pred_dt = clf_dt.predict(x_test)\n",
    "\n",
    "print (\"\\n--- Decision Tree Classifier ---\")\n",
    "print (accuracy_score(y_test, pred_dt))\n",
    "print (confusion_matrix(y_test, pred_dt))"
   ]
  },
  {
   "cell_type": "code",
   "execution_count": 45,
   "id": "15d5a3b1",
   "metadata": {
    "scrolled": false
   },
   "outputs": [
    {
     "data": {
      "image/png": "[encoded data removed]",
      "text/plain": [
       "<Figure size 576x432 with 1 Axes>"
      ]
     },
     "metadata": {
      "needs_background": "light"
     },
     "output_type": "display_data"
    }
   ],
   "source": [
    "# Confusion Matrix 생성\n",
    "conf_matrix = confusion_matrix(y_test, pred_dt)\n",
    "\n",
    "# Confusion Matrix를 히트맵으로 시각화\n",
    "plt.figure(figsize=(8, 6))\n",
    "sns.heatmap(conf_matrix, annot=True, fmt=\"d\", cmap=\"Blues\", cbar=False)\n",
    "plt.xlabel(\"Predicted\")\n",
    "plt.ylabel(\"Actual\")\n",
    "plt.title(\"Confusion Matrix (Decision Tree Classifier)\")\n",
    "plt.show()"
   ]
  },
  {
   "cell_type": "markdown",
   "id": "008bb4f7",
   "metadata": {},
   "source": [
    "# RandomForest"
   ]
  },
  {
   "cell_type": "code",
   "execution_count": 50,
   "id": "3d0a6ad1",
   "metadata": {},
   "outputs": [
    {
     "name": "stdout",
     "output_type": "stream",
     "text": [
      "\n",
      "--- Random Forest ---\n",
      "0.9814814814814815\n",
      "[[295   1   0   0]\n",
      " [  0  96   2   1]\n",
      " [  0   0  20   1]\n",
      " [  0   3   0  13]]\n"
     ]
    }
   ],
   "source": [
    "# RT\n",
    "\n",
    "from sklearn.ensemble import RandomForestClassifier\n",
    "from sklearn.metrics import accuracy_score\n",
    "import pandas as pd\n",
    "\n",
    "print (\"\\n--- Random Forest ---\")\n",
    "rf_clf = RandomForestClassifier(random_state=0)\n",
    "rf_clf.fit(x_train, y_train)\n",
    "pred_rf = rf_clf.predict(x_test)\n",
    "print(accuracy_score(y_test, pred_rf))\n",
    "print (confusion_matrix(y_test, pred_rf))"
   ]
  },
  {
   "cell_type": "code",
   "execution_count": 51,
   "id": "2a14c39b",
   "metadata": {},
   "outputs": [
    {
     "data": {
      "image/png": "[encoded data removed]",
      "text/plain": [
       "<Figure size 576x432 with 1 Axes>"
      ]
     },
     "metadata": {
      "needs_background": "light"
     },
     "output_type": "display_data"
    }
   ],
   "source": [
    "# Confusion Matrix 생성\n",
    "conf_matrix = confusion_matrix(y_test, pred_rf)\n",
    "\n",
    "# Confusion Matrix를 히트맵으로 시각화\n",
    "plt.figure(figsize=(8, 6))\n",
    "sns.heatmap(conf_matrix, annot=True, fmt=\"d\", cmap=\"Blues\", cbar=False)\n",
    "plt.xlabel(\"Predicted\")\n",
    "plt.ylabel(\"Actual\")\n",
    "plt.title(\"Confusion Matrix (Random Forest Classifier)\")\n",
    "plt.show()"
   ]
  },
  {
   "cell_type": "code",
   "execution_count": null,
   "id": "34a698f5",
   "metadata": {},
   "outputs": [],
   "source": []
  }
 ],
 "metadata": {
  "kernelspec": {
   "display_name": "Python 3 (ipykernel)",
   "language": "python",
   "name": "python3"
  },
  "language_info": {
   "codemirror_mode": {
    "name": "ipython",
    "version": 3
   },
   "file_extension": ".py",
   "mimetype": "text/x-python",
   "name": "python",
   "nbconvert_exporter": "python",
   "pygments_lexer": "ipython3",
   "version": "3.9.7"
  }
 },
 "nbformat": 4,
 "nbformat_minor": 5
}
