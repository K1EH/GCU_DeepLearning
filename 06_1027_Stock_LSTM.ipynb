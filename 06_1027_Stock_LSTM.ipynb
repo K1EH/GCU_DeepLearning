{
 "cells": [
  {
   "cell_type": "code",
   "execution_count": 2,
   "metadata": {},
   "outputs": [
    {
     "name": "stdout",
     "output_type": "stream",
     "text": [
      "[*********************100%%**********************]  1 of 1 completed\n"
     ]
    }
   ],
   "source": [
    "import yfinance as yf\n",
    "df = yf.download('005930.KS','2022-10-26','2023-10-26')\n",
    "df.to_excel(\"삼성전자.xlsx\")\n",
    "df.to_csv(\"삼성전자.csv\")"
   ]
  },
  {
   "cell_type": "code",
   "execution_count": 3,
   "metadata": {},
   "outputs": [
    {
     "data": {
      "text/html": [
       "<div>\n",
       "<style scoped>\n",
       "    .dataframe tbody tr th:only-of-type {\n",
       "        vertical-align: middle;\n",
       "    }\n",
       "\n",
       "    .dataframe tbody tr th {\n",
       "        vertical-align: top;\n",
       "    }\n",
       "\n",
       "    .dataframe thead th {\n",
       "        text-align: right;\n",
       "    }\n",
       "</style>\n",
       "<table border=\"1\" class=\"dataframe\">\n",
       "  <thead>\n",
       "    <tr style=\"text-align: right;\">\n",
       "      <th></th>\n",
       "      <th>Open</th>\n",
       "      <th>High</th>\n",
       "      <th>Low</th>\n",
       "      <th>Close</th>\n",
       "      <th>Adj Close</th>\n",
       "      <th>Volume</th>\n",
       "    </tr>\n",
       "    <tr>\n",
       "      <th>Date</th>\n",
       "      <th></th>\n",
       "      <th></th>\n",
       "      <th></th>\n",
       "      <th></th>\n",
       "      <th></th>\n",
       "      <th></th>\n",
       "    </tr>\n",
       "  </thead>\n",
       "  <tbody>\n",
       "    <tr>\n",
       "      <th>2022-10-26</th>\n",
       "      <td>58000.0</td>\n",
       "      <td>59600.0</td>\n",
       "      <td>57700.0</td>\n",
       "      <td>59400.0</td>\n",
       "      <td>58399.613281</td>\n",
       "      <td>20824967</td>\n",
       "    </tr>\n",
       "    <tr>\n",
       "      <th>2022-10-27</th>\n",
       "      <td>59700.0</td>\n",
       "      <td>60100.0</td>\n",
       "      <td>58900.0</td>\n",
       "      <td>59500.0</td>\n",
       "      <td>58497.925781</td>\n",
       "      <td>21756712</td>\n",
       "    </tr>\n",
       "    <tr>\n",
       "      <th>2022-10-28</th>\n",
       "      <td>58900.0</td>\n",
       "      <td>59200.0</td>\n",
       "      <td>57200.0</td>\n",
       "      <td>57300.0</td>\n",
       "      <td>56334.980469</td>\n",
       "      <td>20924937</td>\n",
       "    </tr>\n",
       "    <tr>\n",
       "      <th>2022-10-31</th>\n",
       "      <td>58100.0</td>\n",
       "      <td>59900.0</td>\n",
       "      <td>58000.0</td>\n",
       "      <td>59400.0</td>\n",
       "      <td>58399.613281</td>\n",
       "      <td>18999514</td>\n",
       "    </tr>\n",
       "    <tr>\n",
       "      <th>2022-11-01</th>\n",
       "      <td>59900.0</td>\n",
       "      <td>60300.0</td>\n",
       "      <td>59500.0</td>\n",
       "      <td>60000.0</td>\n",
       "      <td>58989.503906</td>\n",
       "      <td>17201647</td>\n",
       "    </tr>\n",
       "    <tr>\n",
       "      <th>...</th>\n",
       "      <td>...</td>\n",
       "      <td>...</td>\n",
       "      <td>...</td>\n",
       "      <td>...</td>\n",
       "      <td>...</td>\n",
       "      <td>...</td>\n",
       "    </tr>\n",
       "    <tr>\n",
       "      <th>2023-10-19</th>\n",
       "      <td>69700.0</td>\n",
       "      <td>70000.0</td>\n",
       "      <td>69400.0</td>\n",
       "      <td>69500.0</td>\n",
       "      <td>69500.000000</td>\n",
       "      <td>13985012</td>\n",
       "    </tr>\n",
       "    <tr>\n",
       "      <th>2023-10-20</th>\n",
       "      <td>68900.0</td>\n",
       "      <td>69200.0</td>\n",
       "      <td>68100.0</td>\n",
       "      <td>68800.0</td>\n",
       "      <td>68800.000000</td>\n",
       "      <td>15204495</td>\n",
       "    </tr>\n",
       "    <tr>\n",
       "      <th>2023-10-23</th>\n",
       "      <td>68700.0</td>\n",
       "      <td>69100.0</td>\n",
       "      <td>68200.0</td>\n",
       "      <td>68400.0</td>\n",
       "      <td>68400.000000</td>\n",
       "      <td>11625959</td>\n",
       "    </tr>\n",
       "    <tr>\n",
       "      <th>2023-10-24</th>\n",
       "      <td>68700.0</td>\n",
       "      <td>68800.0</td>\n",
       "      <td>67700.0</td>\n",
       "      <td>68500.0</td>\n",
       "      <td>68500.000000</td>\n",
       "      <td>12791710</td>\n",
       "    </tr>\n",
       "    <tr>\n",
       "      <th>2023-10-25</th>\n",
       "      <td>68800.0</td>\n",
       "      <td>68800.0</td>\n",
       "      <td>67900.0</td>\n",
       "      <td>68000.0</td>\n",
       "      <td>68000.000000</td>\n",
       "      <td>10610703</td>\n",
       "    </tr>\n",
       "  </tbody>\n",
       "</table>\n",
       "<p>247 rows × 6 columns</p>\n",
       "</div>"
      ],
      "text/plain": [
       "               Open     High      Low    Close     Adj Close    Volume\n",
       "Date                                                                  \n",
       "2022-10-26  58000.0  59600.0  57700.0  59400.0  58399.613281  20824967\n",
       "2022-10-27  59700.0  60100.0  58900.0  59500.0  58497.925781  21756712\n",
       "2022-10-28  58900.0  59200.0  57200.0  57300.0  56334.980469  20924937\n",
       "2022-10-31  58100.0  59900.0  58000.0  59400.0  58399.613281  18999514\n",
       "2022-11-01  59900.0  60300.0  59500.0  60000.0  58989.503906  17201647\n",
       "...             ...      ...      ...      ...           ...       ...\n",
       "2023-10-19  69700.0  70000.0  69400.0  69500.0  69500.000000  13985012\n",
       "2023-10-20  68900.0  69200.0  68100.0  68800.0  68800.000000  15204495\n",
       "2023-10-23  68700.0  69100.0  68200.0  68400.0  68400.000000  11625959\n",
       "2023-10-24  68700.0  68800.0  67700.0  68500.0  68500.000000  12791710\n",
       "2023-10-25  68800.0  68800.0  67900.0  68000.0  68000.000000  10610703\n",
       "\n",
       "[247 rows x 6 columns]"
      ]
     },
     "execution_count": 3,
     "metadata": {},
     "output_type": "execute_result"
    }
   ],
   "source": [
    "df"
   ]
  },
  {
   "cell_type": "markdown",
   "metadata": {},
   "source": [
    "컬럼의 open은 시가, high는 고가, low는 저가, close는 종가, Volume은 거래량"
   ]
  },
  {
   "cell_type": "code",
   "execution_count": 1,
   "metadata": {},
   "outputs": [
    {
     "name": "stderr",
     "output_type": "stream",
     "text": [
      "C:\\Users\\takea\\anaconda3\\lib\\site-packages\\scipy\\__init__.py:146: UserWarning: A NumPy version >=1.16.5 and <1.23.0 is required for this version of SciPy (detected version 1.24.3\n",
      "  warnings.warn(f\"A NumPy version >={np_minversion} and <{np_maxversion}\"\n"
     ]
    }
   ],
   "source": [
    "import datetime\n",
    "import time\n",
    "import pandas as pd\n",
    "import numpy as np\n",
    "import matplotlib.pyplot as plt\n",
    "import tensorflow as tf"
   ]
  },
  {
   "cell_type": "code",
   "execution_count": 2,
   "metadata": {},
   "outputs": [],
   "source": [
    "stock = pd.read_csv(r\"C:\\Users\\takea\\Desktop\\DeepLearning\\datasets\\week8\\train.csv\")"
   ]
  },
  {
   "cell_type": "code",
   "execution_count": 3,
   "metadata": {},
   "outputs": [
    {
     "data": {
      "text/html": [
       "<div>\n",
       "<style scoped>\n",
       "    .dataframe tbody tr th:only-of-type {\n",
       "        vertical-align: middle;\n",
       "    }\n",
       "\n",
       "    .dataframe tbody tr th {\n",
       "        vertical-align: top;\n",
       "    }\n",
       "\n",
       "    .dataframe thead th {\n",
       "        text-align: right;\n",
       "    }\n",
       "</style>\n",
       "<table border=\"1\" class=\"dataframe\">\n",
       "  <thead>\n",
       "    <tr style=\"text-align: right;\">\n",
       "      <th></th>\n",
       "      <th>일자</th>\n",
       "      <th>종목코드</th>\n",
       "      <th>종목명</th>\n",
       "      <th>거래량</th>\n",
       "      <th>시가</th>\n",
       "      <th>고가</th>\n",
       "      <th>저가</th>\n",
       "      <th>종가</th>\n",
       "    </tr>\n",
       "  </thead>\n",
       "  <tbody>\n",
       "    <tr>\n",
       "      <th>0</th>\n",
       "      <td>20210601</td>\n",
       "      <td>A060310</td>\n",
       "      <td>3S</td>\n",
       "      <td>166690</td>\n",
       "      <td>2890</td>\n",
       "      <td>2970</td>\n",
       "      <td>2885</td>\n",
       "      <td>2920</td>\n",
       "    </tr>\n",
       "    <tr>\n",
       "      <th>1</th>\n",
       "      <td>20210601</td>\n",
       "      <td>A095570</td>\n",
       "      <td>AJ네트웍스</td>\n",
       "      <td>63836</td>\n",
       "      <td>5860</td>\n",
       "      <td>5940</td>\n",
       "      <td>5750</td>\n",
       "      <td>5780</td>\n",
       "    </tr>\n",
       "    <tr>\n",
       "      <th>2</th>\n",
       "      <td>20210601</td>\n",
       "      <td>A006840</td>\n",
       "      <td>AK홀딩스</td>\n",
       "      <td>103691</td>\n",
       "      <td>35500</td>\n",
       "      <td>35600</td>\n",
       "      <td>34150</td>\n",
       "      <td>34400</td>\n",
       "    </tr>\n",
       "    <tr>\n",
       "      <th>3</th>\n",
       "      <td>20210601</td>\n",
       "      <td>A054620</td>\n",
       "      <td>APS</td>\n",
       "      <td>462544</td>\n",
       "      <td>14600</td>\n",
       "      <td>14950</td>\n",
       "      <td>13800</td>\n",
       "      <td>14950</td>\n",
       "    </tr>\n",
       "    <tr>\n",
       "      <th>4</th>\n",
       "      <td>20210601</td>\n",
       "      <td>A265520</td>\n",
       "      <td>AP시스템</td>\n",
       "      <td>131987</td>\n",
       "      <td>29150</td>\n",
       "      <td>29150</td>\n",
       "      <td>28800</td>\n",
       "      <td>29050</td>\n",
       "    </tr>\n",
       "    <tr>\n",
       "      <th>...</th>\n",
       "      <td>...</td>\n",
       "      <td>...</td>\n",
       "      <td>...</td>\n",
       "      <td>...</td>\n",
       "      <td>...</td>\n",
       "      <td>...</td>\n",
       "      <td>...</td>\n",
       "      <td>...</td>\n",
       "    </tr>\n",
       "    <tr>\n",
       "      <th>987995</th>\n",
       "      <td>20230530</td>\n",
       "      <td>A189980</td>\n",
       "      <td>흥국에프엔비</td>\n",
       "      <td>272284</td>\n",
       "      <td>3005</td>\n",
       "      <td>3035</td>\n",
       "      <td>2955</td>\n",
       "      <td>2980</td>\n",
       "    </tr>\n",
       "    <tr>\n",
       "      <th>987996</th>\n",
       "      <td>20230530</td>\n",
       "      <td>A000540</td>\n",
       "      <td>흥국화재</td>\n",
       "      <td>50218</td>\n",
       "      <td>3250</td>\n",
       "      <td>3255</td>\n",
       "      <td>3195</td>\n",
       "      <td>3215</td>\n",
       "    </tr>\n",
       "    <tr>\n",
       "      <th>987997</th>\n",
       "      <td>20230530</td>\n",
       "      <td>A003280</td>\n",
       "      <td>흥아해운</td>\n",
       "      <td>130664</td>\n",
       "      <td>1344</td>\n",
       "      <td>1395</td>\n",
       "      <td>1340</td>\n",
       "      <td>1370</td>\n",
       "    </tr>\n",
       "    <tr>\n",
       "      <th>987998</th>\n",
       "      <td>20230530</td>\n",
       "      <td>A037440</td>\n",
       "      <td>희림</td>\n",
       "      <td>141932</td>\n",
       "      <td>9170</td>\n",
       "      <td>9260</td>\n",
       "      <td>9170</td>\n",
       "      <td>9200</td>\n",
       "    </tr>\n",
       "    <tr>\n",
       "      <th>987999</th>\n",
       "      <td>20230530</td>\n",
       "      <td>A238490</td>\n",
       "      <td>힘스</td>\n",
       "      <td>2611843</td>\n",
       "      <td>6410</td>\n",
       "      <td>8220</td>\n",
       "      <td>6300</td>\n",
       "      <td>8220</td>\n",
       "    </tr>\n",
       "  </tbody>\n",
       "</table>\n",
       "<p>988000 rows × 8 columns</p>\n",
       "</div>"
      ],
      "text/plain": [
       "              일자     종목코드     종목명      거래량     시가     고가     저가     종가\n",
       "0       20210601  A060310      3S   166690   2890   2970   2885   2920\n",
       "1       20210601  A095570  AJ네트웍스    63836   5860   5940   5750   5780\n",
       "2       20210601  A006840   AK홀딩스   103691  35500  35600  34150  34400\n",
       "3       20210601  A054620     APS   462544  14600  14950  13800  14950\n",
       "4       20210601  A265520   AP시스템   131987  29150  29150  28800  29050\n",
       "...          ...      ...     ...      ...    ...    ...    ...    ...\n",
       "987995  20230530  A189980  흥국에프엔비   272284   3005   3035   2955   2980\n",
       "987996  20230530  A000540    흥국화재    50218   3250   3255   3195   3215\n",
       "987997  20230530  A003280    흥아해운   130664   1344   1395   1340   1370\n",
       "987998  20230530  A037440      희림   141932   9170   9260   9170   9200\n",
       "987999  20230530  A238490      힘스  2611843   6410   8220   6300   8220\n",
       "\n",
       "[988000 rows x 8 columns]"
      ]
     },
     "execution_count": 3,
     "metadata": {},
     "output_type": "execute_result"
    }
   ],
   "source": [
    "stock"
   ]
  },
  {
   "cell_type": "code",
   "execution_count": 4,
   "metadata": {},
   "outputs": [],
   "source": [
    "stock.columns = ['Date', 'Code', 'Name', 'Volume', 'Open', 'High', 'Low','Close']"
   ]
  },
  {
   "cell_type": "code",
   "execution_count": 5,
   "metadata": {},
   "outputs": [
    {
     "data": {
      "text/html": [
       "<div>\n",
       "<style scoped>\n",
       "    .dataframe tbody tr th:only-of-type {\n",
       "        vertical-align: middle;\n",
       "    }\n",
       "\n",
       "    .dataframe tbody tr th {\n",
       "        vertical-align: top;\n",
       "    }\n",
       "\n",
       "    .dataframe thead th {\n",
       "        text-align: right;\n",
       "    }\n",
       "</style>\n",
       "<table border=\"1\" class=\"dataframe\">\n",
       "  <thead>\n",
       "    <tr style=\"text-align: right;\">\n",
       "      <th></th>\n",
       "      <th>Date</th>\n",
       "      <th>Code</th>\n",
       "      <th>Name</th>\n",
       "      <th>Volume</th>\n",
       "      <th>Open</th>\n",
       "      <th>High</th>\n",
       "      <th>Low</th>\n",
       "      <th>Close</th>\n",
       "    </tr>\n",
       "  </thead>\n",
       "  <tbody>\n",
       "    <tr>\n",
       "      <th>0</th>\n",
       "      <td>20210601</td>\n",
       "      <td>A060310</td>\n",
       "      <td>3S</td>\n",
       "      <td>166690</td>\n",
       "      <td>2890</td>\n",
       "      <td>2970</td>\n",
       "      <td>2885</td>\n",
       "      <td>2920</td>\n",
       "    </tr>\n",
       "    <tr>\n",
       "      <th>1</th>\n",
       "      <td>20210601</td>\n",
       "      <td>A095570</td>\n",
       "      <td>AJ네트웍스</td>\n",
       "      <td>63836</td>\n",
       "      <td>5860</td>\n",
       "      <td>5940</td>\n",
       "      <td>5750</td>\n",
       "      <td>5780</td>\n",
       "    </tr>\n",
       "    <tr>\n",
       "      <th>2</th>\n",
       "      <td>20210601</td>\n",
       "      <td>A006840</td>\n",
       "      <td>AK홀딩스</td>\n",
       "      <td>103691</td>\n",
       "      <td>35500</td>\n",
       "      <td>35600</td>\n",
       "      <td>34150</td>\n",
       "      <td>34400</td>\n",
       "    </tr>\n",
       "    <tr>\n",
       "      <th>3</th>\n",
       "      <td>20210601</td>\n",
       "      <td>A054620</td>\n",
       "      <td>APS</td>\n",
       "      <td>462544</td>\n",
       "      <td>14600</td>\n",
       "      <td>14950</td>\n",
       "      <td>13800</td>\n",
       "      <td>14950</td>\n",
       "    </tr>\n",
       "    <tr>\n",
       "      <th>4</th>\n",
       "      <td>20210601</td>\n",
       "      <td>A265520</td>\n",
       "      <td>AP시스템</td>\n",
       "      <td>131987</td>\n",
       "      <td>29150</td>\n",
       "      <td>29150</td>\n",
       "      <td>28800</td>\n",
       "      <td>29050</td>\n",
       "    </tr>\n",
       "    <tr>\n",
       "      <th>...</th>\n",
       "      <td>...</td>\n",
       "      <td>...</td>\n",
       "      <td>...</td>\n",
       "      <td>...</td>\n",
       "      <td>...</td>\n",
       "      <td>...</td>\n",
       "      <td>...</td>\n",
       "      <td>...</td>\n",
       "    </tr>\n",
       "    <tr>\n",
       "      <th>987995</th>\n",
       "      <td>20230530</td>\n",
       "      <td>A189980</td>\n",
       "      <td>흥국에프엔비</td>\n",
       "      <td>272284</td>\n",
       "      <td>3005</td>\n",
       "      <td>3035</td>\n",
       "      <td>2955</td>\n",
       "      <td>2980</td>\n",
       "    </tr>\n",
       "    <tr>\n",
       "      <th>987996</th>\n",
       "      <td>20230530</td>\n",
       "      <td>A000540</td>\n",
       "      <td>흥국화재</td>\n",
       "      <td>50218</td>\n",
       "      <td>3250</td>\n",
       "      <td>3255</td>\n",
       "      <td>3195</td>\n",
       "      <td>3215</td>\n",
       "    </tr>\n",
       "    <tr>\n",
       "      <th>987997</th>\n",
       "      <td>20230530</td>\n",
       "      <td>A003280</td>\n",
       "      <td>흥아해운</td>\n",
       "      <td>130664</td>\n",
       "      <td>1344</td>\n",
       "      <td>1395</td>\n",
       "      <td>1340</td>\n",
       "      <td>1370</td>\n",
       "    </tr>\n",
       "    <tr>\n",
       "      <th>987998</th>\n",
       "      <td>20230530</td>\n",
       "      <td>A037440</td>\n",
       "      <td>희림</td>\n",
       "      <td>141932</td>\n",
       "      <td>9170</td>\n",
       "      <td>9260</td>\n",
       "      <td>9170</td>\n",
       "      <td>9200</td>\n",
       "    </tr>\n",
       "    <tr>\n",
       "      <th>987999</th>\n",
       "      <td>20230530</td>\n",
       "      <td>A238490</td>\n",
       "      <td>힘스</td>\n",
       "      <td>2611843</td>\n",
       "      <td>6410</td>\n",
       "      <td>8220</td>\n",
       "      <td>6300</td>\n",
       "      <td>8220</td>\n",
       "    </tr>\n",
       "  </tbody>\n",
       "</table>\n",
       "<p>988000 rows × 8 columns</p>\n",
       "</div>"
      ],
      "text/plain": [
       "            Date     Code    Name   Volume   Open   High    Low  Close\n",
       "0       20210601  A060310      3S   166690   2890   2970   2885   2920\n",
       "1       20210601  A095570  AJ네트웍스    63836   5860   5940   5750   5780\n",
       "2       20210601  A006840   AK홀딩스   103691  35500  35600  34150  34400\n",
       "3       20210601  A054620     APS   462544  14600  14950  13800  14950\n",
       "4       20210601  A265520   AP시스템   131987  29150  29150  28800  29050\n",
       "...          ...      ...     ...      ...    ...    ...    ...    ...\n",
       "987995  20230530  A189980  흥국에프엔비   272284   3005   3035   2955   2980\n",
       "987996  20230530  A000540    흥국화재    50218   3250   3255   3195   3215\n",
       "987997  20230530  A003280    흥아해운   130664   1344   1395   1340   1370\n",
       "987998  20230530  A037440      희림   141932   9170   9260   9170   9200\n",
       "987999  20230530  A238490      힘스  2611843   6410   8220   6300   8220\n",
       "\n",
       "[988000 rows x 8 columns]"
      ]
     },
     "execution_count": 5,
     "metadata": {},
     "output_type": "execute_result"
    }
   ],
   "source": [
    "stock"
   ]
  },
  {
   "cell_type": "code",
   "execution_count": 6,
   "metadata": {},
   "outputs": [
    {
     "data": {
      "text/plain": [
       "3S         494\n",
       "유화증권       494\n",
       "이녹스        494\n",
       "이노테라피      494\n",
       "이노와이어리스    494\n",
       "          ... \n",
       "바이브컴퍼니     494\n",
       "바이넥스       494\n",
       "바른손이앤에이    494\n",
       "바른손        494\n",
       "힘스         494\n",
       "Name: Name, Length: 2000, dtype: int64"
      ]
     },
     "execution_count": 6,
     "metadata": {},
     "output_type": "execute_result"
    }
   ],
   "source": [
    "stock['Name'].value_counts()"
   ]
  },
  {
   "cell_type": "code",
   "execution_count": 7,
   "metadata": {},
   "outputs": [],
   "source": [
    "stock_AJ = stock[stock['Code']=='A060310']"
   ]
  },
  {
   "cell_type": "code",
   "execution_count": 8,
   "metadata": {},
   "outputs": [],
   "source": [
    "stock_AJ = stock_AJ [['Date', 'Open', 'High', 'Low', 'Close', 'Volume']]"
   ]
  },
  {
   "cell_type": "code",
   "execution_count": 9,
   "metadata": {},
   "outputs": [
    {
     "data": {
      "text/html": [
       "<div>\n",
       "<style scoped>\n",
       "    .dataframe tbody tr th:only-of-type {\n",
       "        vertical-align: middle;\n",
       "    }\n",
       "\n",
       "    .dataframe tbody tr th {\n",
       "        vertical-align: top;\n",
       "    }\n",
       "\n",
       "    .dataframe thead th {\n",
       "        text-align: right;\n",
       "    }\n",
       "</style>\n",
       "<table border=\"1\" class=\"dataframe\">\n",
       "  <thead>\n",
       "    <tr style=\"text-align: right;\">\n",
       "      <th></th>\n",
       "      <th>Date</th>\n",
       "      <th>Open</th>\n",
       "      <th>High</th>\n",
       "      <th>Low</th>\n",
       "      <th>Close</th>\n",
       "      <th>Volume</th>\n",
       "    </tr>\n",
       "  </thead>\n",
       "  <tbody>\n",
       "    <tr>\n",
       "      <th>0</th>\n",
       "      <td>20210601</td>\n",
       "      <td>2890</td>\n",
       "      <td>2970</td>\n",
       "      <td>2885</td>\n",
       "      <td>2920</td>\n",
       "      <td>166690</td>\n",
       "    </tr>\n",
       "    <tr>\n",
       "      <th>2000</th>\n",
       "      <td>20210602</td>\n",
       "      <td>2915</td>\n",
       "      <td>2975</td>\n",
       "      <td>2830</td>\n",
       "      <td>2900</td>\n",
       "      <td>134833</td>\n",
       "    </tr>\n",
       "    <tr>\n",
       "      <th>4000</th>\n",
       "      <td>20210603</td>\n",
       "      <td>2900</td>\n",
       "      <td>2925</td>\n",
       "      <td>2875</td>\n",
       "      <td>2900</td>\n",
       "      <td>144470</td>\n",
       "    </tr>\n",
       "    <tr>\n",
       "      <th>6000</th>\n",
       "      <td>20210604</td>\n",
       "      <td>2930</td>\n",
       "      <td>3120</td>\n",
       "      <td>2920</td>\n",
       "      <td>2950</td>\n",
       "      <td>934224</td>\n",
       "    </tr>\n",
       "    <tr>\n",
       "      <th>8000</th>\n",
       "      <td>20210607</td>\n",
       "      <td>3000</td>\n",
       "      <td>3150</td>\n",
       "      <td>2955</td>\n",
       "      <td>3150</td>\n",
       "      <td>946560</td>\n",
       "    </tr>\n",
       "    <tr>\n",
       "      <th>...</th>\n",
       "      <td>...</td>\n",
       "      <td>...</td>\n",
       "      <td>...</td>\n",
       "      <td>...</td>\n",
       "      <td>...</td>\n",
       "      <td>...</td>\n",
       "    </tr>\n",
       "    <tr>\n",
       "      <th>978000</th>\n",
       "      <td>20230523</td>\n",
       "      <td>2300</td>\n",
       "      <td>2315</td>\n",
       "      <td>2260</td>\n",
       "      <td>2285</td>\n",
       "      <td>117084</td>\n",
       "    </tr>\n",
       "    <tr>\n",
       "      <th>980000</th>\n",
       "      <td>20230524</td>\n",
       "      <td>2280</td>\n",
       "      <td>2300</td>\n",
       "      <td>2255</td>\n",
       "      <td>2280</td>\n",
       "      <td>67101</td>\n",
       "    </tr>\n",
       "    <tr>\n",
       "      <th>982000</th>\n",
       "      <td>20230525</td>\n",
       "      <td>2260</td>\n",
       "      <td>2285</td>\n",
       "      <td>2235</td>\n",
       "      <td>2245</td>\n",
       "      <td>91789</td>\n",
       "    </tr>\n",
       "    <tr>\n",
       "      <th>984000</th>\n",
       "      <td>20230526</td>\n",
       "      <td>2245</td>\n",
       "      <td>2915</td>\n",
       "      <td>2230</td>\n",
       "      <td>2910</td>\n",
       "      <td>13590249</td>\n",
       "    </tr>\n",
       "    <tr>\n",
       "      <th>986000</th>\n",
       "      <td>20230530</td>\n",
       "      <td>2805</td>\n",
       "      <td>3460</td>\n",
       "      <td>2570</td>\n",
       "      <td>3015</td>\n",
       "      <td>76952993</td>\n",
       "    </tr>\n",
       "  </tbody>\n",
       "</table>\n",
       "<p>494 rows × 6 columns</p>\n",
       "</div>"
      ],
      "text/plain": [
       "            Date  Open  High   Low  Close    Volume\n",
       "0       20210601  2890  2970  2885   2920    166690\n",
       "2000    20210602  2915  2975  2830   2900    134833\n",
       "4000    20210603  2900  2925  2875   2900    144470\n",
       "6000    20210604  2930  3120  2920   2950    934224\n",
       "8000    20210607  3000  3150  2955   3150    946560\n",
       "...          ...   ...   ...   ...    ...       ...\n",
       "978000  20230523  2300  2315  2260   2285    117084\n",
       "980000  20230524  2280  2300  2255   2280     67101\n",
       "982000  20230525  2260  2285  2235   2245     91789\n",
       "984000  20230526  2245  2915  2230   2910  13590249\n",
       "986000  20230530  2805  3460  2570   3015  76952993\n",
       "\n",
       "[494 rows x 6 columns]"
      ]
     },
     "execution_count": 9,
     "metadata": {},
     "output_type": "execute_result"
    }
   ],
   "source": [
    "stock_AJ"
   ]
  },
  {
   "cell_type": "code",
   "execution_count": 10,
   "metadata": {},
   "outputs": [
    {
     "data": {
      "text/plain": [
       "20210601    1\n",
       "20221017    1\n",
       "20221013    1\n",
       "20221012    1\n",
       "20221011    1\n",
       "           ..\n",
       "20220120    1\n",
       "20220119    1\n",
       "20220118    1\n",
       "20220117    1\n",
       "20230530    1\n",
       "Name: Date, Length: 494, dtype: int64"
      ]
     },
     "execution_count": 10,
     "metadata": {},
     "output_type": "execute_result"
    }
   ],
   "source": [
    "stock_AJ['Date'].value_counts()"
   ]
  },
  {
   "cell_type": "code",
   "execution_count": 12,
   "metadata": {},
   "outputs": [],
   "source": [
    "def MinMaxScaler(data):\n",
    "    \"\"\"최솟값과 최댓값을 이용하여 0 ~ 1 값으로 변환\"\"\"\n",
    "    numerator = data - np.min(data, 0)\n",
    "    denominator = np.max(data, 0) - np.min(data, 0)\n",
    "    # 0으로 나누기 에러가 발생하지 않도록 매우 작은 값(1e-7)을 더해서 나눔\n",
    "    return numerator / (denominator + 1e-7)"
   ]
  },
  {
   "cell_type": "code",
   "execution_count": 13,
   "metadata": {},
   "outputs": [
    {
     "data": {
      "text/html": [
       "<div>\n",
       "<style scoped>\n",
       "    .dataframe tbody tr th:only-of-type {\n",
       "        vertical-align: middle;\n",
       "    }\n",
       "\n",
       "    .dataframe tbody tr th {\n",
       "        vertical-align: top;\n",
       "    }\n",
       "\n",
       "    .dataframe thead th {\n",
       "        text-align: right;\n",
       "    }\n",
       "</style>\n",
       "<table border=\"1\" class=\"dataframe\">\n",
       "  <thead>\n",
       "    <tr style=\"text-align: right;\">\n",
       "      <th></th>\n",
       "      <th>Open</th>\n",
       "      <th>High</th>\n",
       "      <th>Low</th>\n",
       "      <th>Volume</th>\n",
       "    </tr>\n",
       "  </thead>\n",
       "  <tbody>\n",
       "    <tr>\n",
       "      <th>0</th>\n",
       "      <td>0.362534</td>\n",
       "      <td>0.347349</td>\n",
       "      <td>0.420705</td>\n",
       "      <td>0.001621</td>\n",
       "    </tr>\n",
       "    <tr>\n",
       "      <th>2000</th>\n",
       "      <td>0.372311</td>\n",
       "      <td>0.349177</td>\n",
       "      <td>0.396476</td>\n",
       "      <td>0.001207</td>\n",
       "    </tr>\n",
       "    <tr>\n",
       "      <th>4000</th>\n",
       "      <td>0.366445</td>\n",
       "      <td>0.330896</td>\n",
       "      <td>0.416300</td>\n",
       "      <td>0.001332</td>\n",
       "    </tr>\n",
       "    <tr>\n",
       "      <th>6000</th>\n",
       "      <td>0.378178</td>\n",
       "      <td>0.402194</td>\n",
       "      <td>0.436123</td>\n",
       "      <td>0.011601</td>\n",
       "    </tr>\n",
       "    <tr>\n",
       "      <th>8000</th>\n",
       "      <td>0.405553</td>\n",
       "      <td>0.413163</td>\n",
       "      <td>0.451542</td>\n",
       "      <td>0.011761</td>\n",
       "    </tr>\n",
       "    <tr>\n",
       "      <th>...</th>\n",
       "      <td>...</td>\n",
       "      <td>...</td>\n",
       "      <td>...</td>\n",
       "      <td>...</td>\n",
       "    </tr>\n",
       "    <tr>\n",
       "      <th>978000</th>\n",
       "      <td>0.131795</td>\n",
       "      <td>0.107861</td>\n",
       "      <td>0.145374</td>\n",
       "      <td>0.000976</td>\n",
       "    </tr>\n",
       "    <tr>\n",
       "      <th>980000</th>\n",
       "      <td>0.123973</td>\n",
       "      <td>0.102377</td>\n",
       "      <td>0.143172</td>\n",
       "      <td>0.000326</td>\n",
       "    </tr>\n",
       "    <tr>\n",
       "      <th>982000</th>\n",
       "      <td>0.116152</td>\n",
       "      <td>0.096892</td>\n",
       "      <td>0.134361</td>\n",
       "      <td>0.000647</td>\n",
       "    </tr>\n",
       "    <tr>\n",
       "      <th>984000</th>\n",
       "      <td>0.110285</td>\n",
       "      <td>0.327239</td>\n",
       "      <td>0.132159</td>\n",
       "      <td>0.176155</td>\n",
       "    </tr>\n",
       "    <tr>\n",
       "      <th>986000</th>\n",
       "      <td>0.329292</td>\n",
       "      <td>0.526508</td>\n",
       "      <td>0.281938</td>\n",
       "      <td>1.000000</td>\n",
       "    </tr>\n",
       "  </tbody>\n",
       "</table>\n",
       "<p>494 rows × 4 columns</p>\n",
       "</div>"
      ],
      "text/plain": [
       "            Open      High       Low    Volume\n",
       "0       0.362534  0.347349  0.420705  0.001621\n",
       "2000    0.372311  0.349177  0.396476  0.001207\n",
       "4000    0.366445  0.330896  0.416300  0.001332\n",
       "6000    0.378178  0.402194  0.436123  0.011601\n",
       "8000    0.405553  0.413163  0.451542  0.011761\n",
       "...          ...       ...       ...       ...\n",
       "978000  0.131795  0.107861  0.145374  0.000976\n",
       "980000  0.123973  0.102377  0.143172  0.000326\n",
       "982000  0.116152  0.096892  0.134361  0.000647\n",
       "984000  0.110285  0.327239  0.132159  0.176155\n",
       "986000  0.329292  0.526508  0.281938  1.000000\n",
       "\n",
       "[494 rows x 4 columns]"
      ]
     },
     "execution_count": 13,
     "metadata": {},
     "output_type": "execute_result"
    }
   ],
   "source": [
    "dfx = stock_AJ[['Open','High','Low','Volume', 'Close']]\n",
    "dfx = MinMaxScaler(dfx)\n",
    "dfy = dfx[['Close']]\n",
    "dfx = dfx[['Open','High','Low','Volume']]\n",
    "dfx"
   ]
  },
  {
   "cell_type": "code",
   "execution_count": 14,
   "metadata": {},
   "outputs": [
    {
     "data": {
      "text/html": [
       "<div>\n",
       "<style scoped>\n",
       "    .dataframe tbody tr th:only-of-type {\n",
       "        vertical-align: middle;\n",
       "    }\n",
       "\n",
       "    .dataframe tbody tr th {\n",
       "        vertical-align: top;\n",
       "    }\n",
       "\n",
       "    .dataframe thead th {\n",
       "        text-align: right;\n",
       "    }\n",
       "</style>\n",
       "<table border=\"1\" class=\"dataframe\">\n",
       "  <thead>\n",
       "    <tr style=\"text-align: right;\">\n",
       "      <th></th>\n",
       "      <th>Open</th>\n",
       "      <th>High</th>\n",
       "      <th>Low</th>\n",
       "      <th>Volume</th>\n",
       "    </tr>\n",
       "  </thead>\n",
       "  <tbody>\n",
       "    <tr>\n",
       "      <th>count</th>\n",
       "      <td>494.000000</td>\n",
       "      <td>494.000000</td>\n",
       "      <td>494.000000</td>\n",
       "      <td>494.000000</td>\n",
       "    </tr>\n",
       "    <tr>\n",
       "      <th>mean</th>\n",
       "      <td>0.388270</td>\n",
       "      <td>0.371748</td>\n",
       "      <td>0.428200</td>\n",
       "      <td>0.011022</td>\n",
       "    </tr>\n",
       "    <tr>\n",
       "      <th>std</th>\n",
       "      <td>0.223416</td>\n",
       "      <td>0.216861</td>\n",
       "      <td>0.243649</td>\n",
       "      <td>0.053506</td>\n",
       "    </tr>\n",
       "    <tr>\n",
       "      <th>min</th>\n",
       "      <td>0.000000</td>\n",
       "      <td>0.000000</td>\n",
       "      <td>0.000000</td>\n",
       "      <td>0.000000</td>\n",
       "    </tr>\n",
       "    <tr>\n",
       "      <th>25%</th>\n",
       "      <td>0.158193</td>\n",
       "      <td>0.154022</td>\n",
       "      <td>0.174559</td>\n",
       "      <td>0.001332</td>\n",
       "    </tr>\n",
       "    <tr>\n",
       "      <th>50%</th>\n",
       "      <td>0.390888</td>\n",
       "      <td>0.384826</td>\n",
       "      <td>0.431718</td>\n",
       "      <td>0.002464</td>\n",
       "    </tr>\n",
       "    <tr>\n",
       "      <th>75%</th>\n",
       "      <td>0.534611</td>\n",
       "      <td>0.504113</td>\n",
       "      <td>0.583700</td>\n",
       "      <td>0.005128</td>\n",
       "    </tr>\n",
       "    <tr>\n",
       "      <th>max</th>\n",
       "      <td>1.000000</td>\n",
       "      <td>1.000000</td>\n",
       "      <td>1.000000</td>\n",
       "      <td>1.000000</td>\n",
       "    </tr>\n",
       "  </tbody>\n",
       "</table>\n",
       "</div>"
      ],
      "text/plain": [
       "             Open        High         Low      Volume\n",
       "count  494.000000  494.000000  494.000000  494.000000\n",
       "mean     0.388270    0.371748    0.428200    0.011022\n",
       "std      0.223416    0.216861    0.243649    0.053506\n",
       "min      0.000000    0.000000    0.000000    0.000000\n",
       "25%      0.158193    0.154022    0.174559    0.001332\n",
       "50%      0.390888    0.384826    0.431718    0.002464\n",
       "75%      0.534611    0.504113    0.583700    0.005128\n",
       "max      1.000000    1.000000    1.000000    1.000000"
      ]
     },
     "execution_count": 14,
     "metadata": {},
     "output_type": "execute_result"
    }
   ],
   "source": [
    "dfx.describe()"
   ]
  },
  {
   "cell_type": "code",
   "execution_count": 15,
   "metadata": {},
   "outputs": [],
   "source": [
    "# 두 데이터를 리스트 형태로 저장\n",
    "X = dfx.values.tolist()\n",
    "y = dfy.values.tolist()"
   ]
  },
  {
   "cell_type": "code",
   "execution_count": 16,
   "metadata": {},
   "outputs": [
    {
     "name": "stdout",
     "output_type": "stream",
     "text": [
      "[[0.07704341024336944, 0.05484460694497826, 0.07488986783811058, 0.0012808444922087566], [0.06335549471789771, 0.04570383912081522, 0.07048458149469232, 0.001199113634964142], [0.05357841219970363, 0.06581352833397391, 0.07488986783811058, 0.0013334117616710503], [0.09073132576884117, 0.07312614259330436, 0.10792951541374761, 0.0003301869423682774], [0.09268674227247999, 0.06581352833397391, 0.0947136563834928, 0.00034377407978803916], [0.08682049276156353, 0.07312614259330436, 0.11233480175716587, 0.00029817590664822625], [0.09464215877611881, 0.08226691041746739, 0.11894273127229328, 0.0013799850882141953], [0.11028549080522936, 0.08592321754713261, 0.1255506607874207, 0.000483299028736808], [0.114196323812507, 0.1042047531954587, 0.1343612334742572, 0.0012070058765084437], [0.11810715681978463, 0.10054844606579348, 0.1387665198176755, 0.00042293053204785696], [0.12006257332342345, 0.09506398537129565, 0.12995594713083897, 0.0003577772826598893], [0.10833007430159054, 0.0840950639823, 0.11233480175716587, 0.0009727870310734309], [0.09855299178339645, 0.08775137111196522, 0.11894273127229328, 0.0007246039889027013], [0.11028549080522936, 0.09872029250096087, 0.13656387664596636, 0.0011905842931963296], [0.13179507234525636, 0.10603290676029131, 0.1519823788479303, 0.0026100045850412784], [0.12983965584161755, 0.11517367458445435, 0.14096916298938464, 0.0014869269114462914], [0.13179507234525636, 0.10786106032512392, 0.14537444933280289, 0.0009760245403724937], [0.12397340633070109, 0.10237659963062609, 0.14317180616109376, 0.0003261433062557933], [0.11615174031614581, 0.09689213893612826, 0.1343612334742572, 0.0006471378025419926], [0.11028549080522936, 0.32723948810503695, 0.1321585903025481, 0.1761547272524533]] -> [0.39539347407311354]\n"
     ]
    }
   ],
   "source": [
    "window_size = 20\n",
    "\n",
    "data_X = []\n",
    "data_y = []\n",
    "for i in range(len(y) - window_size):\n",
    "    _X = X[i : i + window_size] # 다음 날 종가(i+windows_size)는 포함되지 않음\n",
    "    _y = y[i + window_size]     # 다음 날 종가\n",
    "    data_X.append(_X)\n",
    "    data_y.append(_y)\n",
    "print(_X, \"->\", _y)"
   ]
  },
  {
   "cell_type": "code",
   "execution_count": 17,
   "metadata": {},
   "outputs": [
    {
     "name": "stdout",
     "output_type": "stream",
     "text": [
      "전체 데이터의 크기 : 474 474\n"
     ]
    }
   ],
   "source": [
    "print('전체 데이터의 크기 :', len(data_X), len(data_y))"
   ]
  },
  {
   "cell_type": "code",
   "execution_count": 18,
   "metadata": {},
   "outputs": [
    {
     "name": "stdout",
     "output_type": "stream",
     "text": [
      "훈련 데이터의 크기 : (331, 20, 4) (331, 1)\n",
      "테스트 데이터의 크기 : (143, 20, 4) (143, 1)\n"
     ]
    }
   ],
   "source": [
    "train_size = int(len(data_y) * 0.7)\n",
    "train_X = np.array(data_X[0 : train_size])\n",
    "train_y = np.array(data_y[0 : train_size])\n",
    "\n",
    "test_size = len(data_y) - train_size\n",
    "test_X = np.array(data_X[train_size : len(data_X)])\n",
    "test_y = np.array(data_y[train_size : len(data_y)])\n",
    "\n",
    "print('훈련 데이터의 크기 :', train_X.shape, train_y.shape)\n",
    "print('테스트 데이터의 크기 :', test_X.shape, test_y.shape)"
   ]
  },
  {
   "cell_type": "code",
   "execution_count": 19,
   "metadata": {},
   "outputs": [],
   "source": [
    "from tensorflow.keras import Sequential\n",
    "from tensorflow.keras.layers import Dense, LSTM, Dropout"
   ]
  },
  {
   "cell_type": "code",
   "execution_count": 22,
   "metadata": {},
   "outputs": [
    {
     "name": "stdout",
     "output_type": "stream",
     "text": [
      "Model: \"sequential_1\"\n",
      "_________________________________________________________________\n",
      " Layer (type)                Output Shape              Param #   \n",
      "=================================================================\n",
      " lstm_2 (LSTM)               (None, 10, 10)            600       \n",
      "                                                                 \n",
      " dropout_2 (Dropout)         (None, 10, 10)            0         \n",
      "                                                                 \n",
      " lstm_3 (LSTM)               (None, 10)                840       \n",
      "                                                                 \n",
      " dropout_3 (Dropout)         (None, 10)                0         \n",
      "                                                                 \n",
      " dense_1 (Dense)             (None, 1)                 11        \n",
      "                                                                 \n",
      "=================================================================\n",
      "Total params: 1451 (5.67 KB)\n",
      "Trainable params: 1451 (5.67 KB)\n",
      "Non-trainable params: 0 (0.00 Byte)\n",
      "_________________________________________________________________\n"
     ]
    }
   ],
   "source": [
    "model = Sequential()\n",
    "model.add(LSTM(units=20, activation='relu', return_sequences=True, input_shape=(10, 4)))\n",
    "model.add(Dropout(0.1))\n",
    "model.add(LSTM(units=20, activation='relu'))\n",
    "model.add(Dropout(0.1))\n",
    "model.add(Dense(units=1))\n",
    "model.summary()"
   ]
  },
  {
   "cell_type": "code",
   "execution_count": 23,
   "metadata": {},
   "outputs": [
    {
     "name": "stdout",
     "output_type": "stream",
     "text": [
      "Epoch 1/70\n"
     ]
    },
    {
     "ename": "ValueError",
     "evalue": "in user code:\n\n    File \"C:\\Users\\takea\\anaconda3\\lib\\site-packages\\keras\\src\\engine\\training.py\", line 1377, in train_function  *\n        return step_function(self, iterator)\n    File \"C:\\Users\\takea\\anaconda3\\lib\\site-packages\\keras\\src\\engine\\training.py\", line 1360, in step_function  **\n        outputs = model.distribute_strategy.run(run_step, args=(data,))\n    File \"C:\\Users\\takea\\anaconda3\\lib\\site-packages\\keras\\src\\engine\\training.py\", line 1349, in run_step  **\n        outputs = model.train_step(data)\n    File \"C:\\Users\\takea\\anaconda3\\lib\\site-packages\\keras\\src\\engine\\training.py\", line 1126, in train_step\n        y_pred = self(x, training=True)\n    File \"C:\\Users\\takea\\anaconda3\\lib\\site-packages\\keras\\src\\utils\\traceback_utils.py\", line 70, in error_handler\n        raise e.with_traceback(filtered_tb) from None\n    File \"C:\\Users\\takea\\anaconda3\\lib\\site-packages\\keras\\src\\engine\\input_spec.py\", line 298, in assert_input_compatibility\n        raise ValueError(\n\n    ValueError: Input 0 of layer \"sequential_1\" is incompatible with the layer: expected shape=(None, 10, 4), found shape=(None, 20, 4)\n",
     "output_type": "error",
     "traceback": [
      "\u001b[1;31m---------------------------------------------------------------------------\u001b[0m",
      "\u001b[1;31mValueError\u001b[0m                                Traceback (most recent call last)",
      "Cell \u001b[1;32mIn[23], line 2\u001b[0m\n\u001b[0;32m      1\u001b[0m model\u001b[38;5;241m.\u001b[39mcompile(optimizer\u001b[38;5;241m=\u001b[39m\u001b[38;5;124m'\u001b[39m\u001b[38;5;124madam\u001b[39m\u001b[38;5;124m'\u001b[39m, loss\u001b[38;5;241m=\u001b[39m\u001b[38;5;124m'\u001b[39m\u001b[38;5;124mmean_squared_error\u001b[39m\u001b[38;5;124m'\u001b[39m)\n\u001b[1;32m----> 2\u001b[0m \u001b[43mmodel\u001b[49m\u001b[38;5;241;43m.\u001b[39;49m\u001b[43mfit\u001b[49m\u001b[43m(\u001b[49m\u001b[43mtrain_X\u001b[49m\u001b[43m,\u001b[49m\u001b[43m \u001b[49m\u001b[43mtrain_y\u001b[49m\u001b[43m,\u001b[49m\u001b[43m \u001b[49m\u001b[43mepochs\u001b[49m\u001b[38;5;241;43m=\u001b[39;49m\u001b[38;5;241;43m70\u001b[39;49m\u001b[43m,\u001b[49m\u001b[43m \u001b[49m\u001b[43mbatch_size\u001b[49m\u001b[38;5;241;43m=\u001b[39;49m\u001b[38;5;241;43m30\u001b[39;49m\u001b[43m)\u001b[49m\n\u001b[0;32m      3\u001b[0m pred_y \u001b[38;5;241m=\u001b[39m model\u001b[38;5;241m.\u001b[39mpredict(test_X)\n",
      "File \u001b[1;32m~\\anaconda3\\lib\\site-packages\\keras\\src\\utils\\traceback_utils.py:70\u001b[0m, in \u001b[0;36mfilter_traceback.<locals>.error_handler\u001b[1;34m(*args, **kwargs)\u001b[0m\n\u001b[0;32m     67\u001b[0m     filtered_tb \u001b[38;5;241m=\u001b[39m _process_traceback_frames(e\u001b[38;5;241m.\u001b[39m__traceback__)\n\u001b[0;32m     68\u001b[0m     \u001b[38;5;66;03m# To get the full stack trace, call:\u001b[39;00m\n\u001b[0;32m     69\u001b[0m     \u001b[38;5;66;03m# `tf.debugging.disable_traceback_filtering()`\u001b[39;00m\n\u001b[1;32m---> 70\u001b[0m     \u001b[38;5;28;01mraise\u001b[39;00m e\u001b[38;5;241m.\u001b[39mwith_traceback(filtered_tb) \u001b[38;5;28;01mfrom\u001b[39;00m \u001b[38;5;28;01mNone\u001b[39;00m\n\u001b[0;32m     71\u001b[0m \u001b[38;5;28;01mfinally\u001b[39;00m:\n\u001b[0;32m     72\u001b[0m     \u001b[38;5;28;01mdel\u001b[39;00m filtered_tb\n",
      "File \u001b[1;32m~\\AppData\\Local\\Temp\\__autograph_generated_filet363dtd_.py:15\u001b[0m, in \u001b[0;36mouter_factory.<locals>.inner_factory.<locals>.tf__train_function\u001b[1;34m(iterator)\u001b[0m\n\u001b[0;32m     13\u001b[0m \u001b[38;5;28;01mtry\u001b[39;00m:\n\u001b[0;32m     14\u001b[0m     do_return \u001b[38;5;241m=\u001b[39m \u001b[38;5;28;01mTrue\u001b[39;00m\n\u001b[1;32m---> 15\u001b[0m     retval_ \u001b[38;5;241m=\u001b[39m ag__\u001b[38;5;241m.\u001b[39mconverted_call(ag__\u001b[38;5;241m.\u001b[39mld(step_function), (ag__\u001b[38;5;241m.\u001b[39mld(\u001b[38;5;28mself\u001b[39m), ag__\u001b[38;5;241m.\u001b[39mld(iterator)), \u001b[38;5;28;01mNone\u001b[39;00m, fscope)\n\u001b[0;32m     16\u001b[0m \u001b[38;5;28;01mexcept\u001b[39;00m:\n\u001b[0;32m     17\u001b[0m     do_return \u001b[38;5;241m=\u001b[39m \u001b[38;5;28;01mFalse\u001b[39;00m\n",
      "\u001b[1;31mValueError\u001b[0m: in user code:\n\n    File \"C:\\Users\\takea\\anaconda3\\lib\\site-packages\\keras\\src\\engine\\training.py\", line 1377, in train_function  *\n        return step_function(self, iterator)\n    File \"C:\\Users\\takea\\anaconda3\\lib\\site-packages\\keras\\src\\engine\\training.py\", line 1360, in step_function  **\n        outputs = model.distribute_strategy.run(run_step, args=(data,))\n    File \"C:\\Users\\takea\\anaconda3\\lib\\site-packages\\keras\\src\\engine\\training.py\", line 1349, in run_step  **\n        outputs = model.train_step(data)\n    File \"C:\\Users\\takea\\anaconda3\\lib\\site-packages\\keras\\src\\engine\\training.py\", line 1126, in train_step\n        y_pred = self(x, training=True)\n    File \"C:\\Users\\takea\\anaconda3\\lib\\site-packages\\keras\\src\\utils\\traceback_utils.py\", line 70, in error_handler\n        raise e.with_traceback(filtered_tb) from None\n    File \"C:\\Users\\takea\\anaconda3\\lib\\site-packages\\keras\\src\\engine\\input_spec.py\", line 298, in assert_input_compatibility\n        raise ValueError(\n\n    ValueError: Input 0 of layer \"sequential_1\" is incompatible with the layer: expected shape=(None, 10, 4), found shape=(None, 20, 4)\n"
     ]
    }
   ],
   "source": [
    "model.compile(optimizer='adam', loss='mean_squared_error')\n",
    "model.fit(train_X, train_y, epochs=70, batch_size=30)\n",
    "pred_y = model.predict(test_X)"
   ]
  },
  {
   "cell_type": "code",
   "execution_count": null,
   "metadata": {},
   "outputs": [],
   "source": []
  },
  {
   "cell_type": "code",
   "execution_count": null,
   "metadata": {},
   "outputs": [],
   "source": []
  },
  {
   "cell_type": "code",
   "execution_count": null,
   "metadata": {},
   "outputs": [],
   "source": []
  },
  {
   "cell_type": "code",
   "execution_count": null,
   "metadata": {},
   "outputs": [],
   "source": []
  },
  {
   "cell_type": "code",
   "execution_count": null,
   "metadata": {},
   "outputs": [],
   "source": []
  },
  {
   "cell_type": "code",
   "execution_count": 11,
   "metadata": {},
   "outputs": [],
   "source": [
    "# save original 'Open' prices for later\n",
    "original_open = stock_AJ['Open'].values\n",
    "\n",
    "# separate dates for future plotting\n",
    "dates = pd.to_datetime(stock_AJ['Date'])"
   ]
  },
  {
   "cell_type": "code",
   "execution_count": 12,
   "metadata": {},
   "outputs": [
    {
     "data": {
      "text/plain": [
       "0        1970-01-01 00:00:00.020210601\n",
       "2000     1970-01-01 00:00:00.020210602\n",
       "4000     1970-01-01 00:00:00.020210603\n",
       "6000     1970-01-01 00:00:00.020210604\n",
       "8000     1970-01-01 00:00:00.020210607\n",
       "                      ...             \n",
       "978000   1970-01-01 00:00:00.020230523\n",
       "980000   1970-01-01 00:00:00.020230524\n",
       "982000   1970-01-01 00:00:00.020230525\n",
       "984000   1970-01-01 00:00:00.020230526\n",
       "986000   1970-01-01 00:00:00.020230530\n",
       "Name: Date, Length: 494, dtype: datetime64[ns]"
      ]
     },
     "execution_count": 12,
     "metadata": {},
     "output_type": "execute_result"
    }
   ],
   "source": [
    "dates"
   ]
  },
  {
   "cell_type": "code",
   "execution_count": 13,
   "metadata": {},
   "outputs": [],
   "source": [
    "# variables for training\n",
    "cols = list(stock_AJ)[1:6]\n",
    "\n",
    "# new dataframe with only training data - 5 columns\n",
    "stock_AJ = stock_AJ[cols].astype(float)"
   ]
  },
  {
   "cell_type": "code",
   "execution_count": 14,
   "metadata": {},
   "outputs": [
    {
     "data": {
      "text/plain": [
       "['Open', 'High', 'Low', 'Close', 'Volume']"
      ]
     },
     "execution_count": 14,
     "metadata": {},
     "output_type": "execute_result"
    }
   ],
   "source": [
    "cols"
   ]
  },
  {
   "cell_type": "code",
   "execution_count": 15,
   "metadata": {},
   "outputs": [],
   "source": [
    "from sklearn.preprocessing import StandardScaler\n",
    "\n",
    "# normalize the dataset\n",
    "scaler = StandardScaler()\n",
    "scaler = scaler.fit(stock_AJ)\n",
    "stock_data_scaled = scaler.transform(stock_AJ)"
   ]
  },
  {
   "cell_type": "code",
   "execution_count": 16,
   "metadata": {},
   "outputs": [],
   "source": [
    "TR = 9"
   ]
  },
  {
   "cell_type": "code",
   "execution_count": 22,
   "metadata": {},
   "outputs": [
    {
     "name": "stdout",
     "output_type": "stream",
     "text": [
      "494\n"
     ]
    }
   ],
   "source": [
    "print(stock_data_scaled.shape[0])"
   ]
  },
  {
   "cell_type": "code",
   "execution_count": 24,
   "metadata": {},
   "outputs": [
    {
     "name": "stdout",
     "output_type": "stream",
     "text": [
      "4446\n"
     ]
    }
   ],
   "source": [
    "print(TR*stock_data_scaled.shape[0])"
   ]
  },
  {
   "cell_type": "code",
   "execution_count": 16,
   "metadata": {},
   "outputs": [],
   "source": [
    "# split to train data and test data\n",
    "n_train = int(TR *stock_data_scaled.shape[0])\n",
    "train_data_scaled = stock_data_scaled[0: n_train]\n",
    "train_dates = dates[0: n_train]\n",
    "\n",
    "test_data_scaled = stock_data_scaled[n_train:]\n",
    "test_dates = dates[n_train:]"
   ]
  },
  {
   "cell_type": "code",
   "execution_count": 18,
   "metadata": {},
   "outputs": [
    {
     "data": {
      "text/plain": [
       "\"from IPython.display import Image\\n\\nImage('stock.png')\""
      ]
     },
     "execution_count": 18,
     "metadata": {},
     "output_type": "execute_result"
    }
   ],
   "source": [
    "\"\"\"from IPython.display import Image\n",
    "\n",
    "Image('stock.png')\"\"\""
   ]
  },
  {
   "cell_type": "code",
   "execution_count": 28,
   "metadata": {},
   "outputs": [
    {
     "ename": "NameError",
     "evalue": "name 'train_data_scaled' is not defined",
     "output_type": "error",
     "traceback": [
      "\u001b[1;31m---------------------------------------------------------------------------\u001b[0m",
      "\u001b[1;31mNameError\u001b[0m                                 Traceback (most recent call last)",
      "\u001b[1;32mc:\\Users\\takea\\Desktop\\DeepLearning\\codes\\06_1027_NNN.ipynb Cell 24\u001b[0m line \u001b[0;36m1\n\u001b[1;32m----> <a href='vscode-notebook-cell:/c%3A/Users/takea/Desktop/DeepLearning/codes/06_1027_NNN.ipynb#X43sZmlsZQ%3D%3D?line=0'>1</a>\u001b[0m train_data_scaled\u001b[39m.\u001b[39mshape\n",
      "\u001b[1;31mNameError\u001b[0m: name 'train_data_scaled' is not defined"
     ]
    },
    {
     "ename": "",
     "evalue": "",
     "output_type": "error",
     "traceback": [
      "\u001b[1;31mThe Kernel crashed while executing code in the the current cell or a previous cell. Please review the code in the cell(s) to identify a possible cause of the failure. Click <a href='https://aka.ms/vscodeJupyterKernelCrash'>here</a> for more info. View Jupyter <a href='command:jupyter.viewOutput'>log</a> for further details."
     ]
    }
   ],
   "source": [
    "train_data_scaled.shape"
   ]
  },
  {
   "cell_type": "code",
   "execution_count": 19,
   "metadata": {},
   "outputs": [
    {
     "ename": "ValueError",
     "evalue": "setting an array element with a sequence. The requested array has an inhomogeneous shape after 1 dimensions. The detected shape was (4432,) + inhomogeneous part.",
     "output_type": "error",
     "traceback": [
      "\u001b[1;31m---------------------------------------------------------------------------\u001b[0m",
      "\u001b[1;31mValueError\u001b[0m                                Traceback (most recent call last)",
      "\u001b[1;32mc:\\Users\\takea\\Desktop\\DeepLearning\\codes\\06_1027_NNN.ipynb Cell 21\u001b[0m line \u001b[0;36m2\n\u001b[0;32m     <a href='vscode-notebook-cell:/c%3A/Users/takea/Desktop/DeepLearning/codes/06_1027_NNN.ipynb#X30sZmlsZQ%3D%3D?line=16'>17</a>\u001b[0m     testX\u001b[39m.\u001b[39mappend(test_data_scaled[i \u001b[39m-\u001b[39m seq_len:i, \u001b[39m0\u001b[39m:test_data_scaled\u001b[39m.\u001b[39mshape[\u001b[39m1\u001b[39m]])\n\u001b[0;32m     <a href='vscode-notebook-cell:/c%3A/Users/takea/Desktop/DeepLearning/codes/06_1027_NNN.ipynb#X30sZmlsZQ%3D%3D?line=17'>18</a>\u001b[0m     testY\u001b[39m.\u001b[39mappend(test_data_scaled[i \u001b[39m+\u001b[39m pred_days \u001b[39m-\u001b[39m \u001b[39m1\u001b[39m:i \u001b[39m+\u001b[39m pred_days, \u001b[39m0\u001b[39m])\n\u001b[1;32m---> <a href='vscode-notebook-cell:/c%3A/Users/takea/Desktop/DeepLearning/codes/06_1027_NNN.ipynb#X30sZmlsZQ%3D%3D?line=19'>20</a>\u001b[0m trainX, trainY \u001b[39m=\u001b[39m np\u001b[39m.\u001b[39;49marray(trainX), np\u001b[39m.\u001b[39marray(trainY)\n\u001b[0;32m     <a href='vscode-notebook-cell:/c%3A/Users/takea/Desktop/DeepLearning/codes/06_1027_NNN.ipynb#X30sZmlsZQ%3D%3D?line=20'>21</a>\u001b[0m testX, testY \u001b[39m=\u001b[39m np\u001b[39m.\u001b[39marray(testX), np\u001b[39m.\u001b[39marray(testY)\n",
      "\u001b[1;31mValueError\u001b[0m: setting an array element with a sequence. The requested array has an inhomogeneous shape after 1 dimensions. The detected shape was (4432,) + inhomogeneous part."
     ]
    }
   ],
   "source": [
    "# data reformatting for LSTM\n",
    "\n",
    "pred_days = 1  # prediction period\n",
    "seq_len = 14   # sequence length = past days for future prediction.\n",
    "input_dim = 5  # input_dimension = ['Open', 'High', 'Low', 'Close', 'Volume']\n",
    "\n",
    "trainX = []\n",
    "trainY = []\n",
    "testX = []\n",
    "testY = []\n",
    "\n",
    "for i in range(seq_len, n_train-pred_days + 1):\n",
    "    trainX.append(train_data_scaled[i - seq_len:i, 0:train_data_scaled.shape[1]])\n",
    "    trainY.append(train_data_scaled[i + pred_days - 1:i + pred_days, 0])\n",
    "\n",
    "for i in range(seq_len, len(test_data_scaled)-pred_days +1):\n",
    "    testX.append(test_data_scaled[i - seq_len:i, 0:test_data_scaled.shape[1]])\n",
    "    testY.append(test_data_scaled[i + pred_days - 1:i + pred_days, 0])\n",
    "\n",
    "trainX, trainY = np.array(trainX), np.array(trainY)\n",
    "testX, testY = np.array(testX), np.array(testY)"
   ]
  },
  {
   "cell_type": "code",
   "execution_count": null,
   "metadata": {},
   "outputs": [
    {
     "ename": "ImportError",
     "evalue": "cannot import name 'np_utils' from 'keras.utils' (c:\\Users\\takea\\anaconda3\\lib\\site-packages\\keras\\utils\\__init__.py)",
     "output_type": "error",
     "traceback": [
      "\u001b[1;31m---------------------------------------------------------------------------\u001b[0m",
      "\u001b[1;31mImportError\u001b[0m                               Traceback (most recent call last)",
      "\u001b[1;32mc:\\Users\\takea\\Desktop\\DeepLearning\\codes\\06_1027_NNN.ipynb Cell 22\u001b[0m line \u001b[0;36m1\n\u001b[0;32m      <a href='vscode-notebook-cell:/c%3A/Users/takea/Desktop/DeepLearning/codes/06_1027_NNN.ipynb#X31sZmlsZQ%3D%3D?line=7'>8</a>\u001b[0m \u001b[39mfrom\u001b[39;00m \u001b[39mtensorflow\u001b[39;00m\u001b[39m.\u001b[39;00m\u001b[39mkeras\u001b[39;00m\u001b[39m.\u001b[39;00m\u001b[39mlayers\u001b[39;00m \u001b[39mimport\u001b[39;00m Dense, Dropout, Flatten, Reshape, LSTM, Conv1D, MaxPooling1D\n\u001b[0;32m      <a href='vscode-notebook-cell:/c%3A/Users/takea/Desktop/DeepLearning/codes/06_1027_NNN.ipynb#X31sZmlsZQ%3D%3D?line=8'>9</a>\u001b[0m \u001b[39mfrom\u001b[39;00m \u001b[39mtensorflow\u001b[39;00m\u001b[39m.\u001b[39;00m\u001b[39mkeras\u001b[39;00m\u001b[39m.\u001b[39;00m\u001b[39mlayers\u001b[39;00m \u001b[39mimport\u001b[39;00m TimeDistributed, Conv1D, MaxPooling1D\n\u001b[1;32m---> <a href='vscode-notebook-cell:/c%3A/Users/takea/Desktop/DeepLearning/codes/06_1027_NNN.ipynb#X31sZmlsZQ%3D%3D?line=9'>10</a>\u001b[0m \u001b[39mfrom\u001b[39;00m \u001b[39mkeras\u001b[39;00m\u001b[39m.\u001b[39;00m\u001b[39mutils\u001b[39;00m \u001b[39mimport\u001b[39;00m np_utils\n",
      "\u001b[1;31mImportError\u001b[0m: cannot import name 'np_utils' from 'keras.utils' (c:\\Users\\takea\\anaconda3\\lib\\site-packages\\keras\\utils\\__init__.py)"
     ]
    }
   ],
   "source": [
    "import tensorflow as tf\n",
    "from tensorflow.keras import Sequential\n",
    "from tensorflow.keras.layers import Flatten, Dense, Dropout, BatchNormalization\n",
    "from tensorflow.keras.layers import Conv2D, MaxPool2D\n",
    "from tensorflow.keras.optimizers import Adam\n",
    "import tensorflow.keras\n",
    "from tensorflow.keras.models import Sequential\n",
    "from tensorflow.keras.layers import Dense, Dropout, Flatten, Reshape, LSTM, Conv1D, MaxPooling1D\n",
    "from tensorflow.keras.layers import TimeDistributed, Conv1D, MaxPooling1D\n",
    "from keras.utils import np_utils"
   ]
  },
  {
   "cell_type": "code",
   "execution_count": null,
   "metadata": {},
   "outputs": [],
   "source": [
    "model = Sequential()\n",
    "model.add(LSTM(units=20, activation='relu', return_sequences=True, input_shape=(10, 4)))\n",
    "model.add(Dropout(0.1))\n",
    "model.add(LSTM(units=20, activation='relu'))\n",
    "model.add(Dropout(0.1))\n",
    "model.add(Dense(units=1))\n",
    "model.summary()"
   ]
  },
  {
   "cell_type": "code",
   "execution_count": null,
   "metadata": {},
   "outputs": [],
   "source": [
    "model.compile(optimizer='adam', loss='mean_squared_error')\n",
    "model.fit(trainX, trainY, epochs=70, batch_size=30)\n",
    "pred_y = model.predict(testX)"
   ]
  },
  {
   "cell_type": "code",
   "execution_count": null,
   "metadata": {},
   "outputs": [],
   "source": [
    "pred_y = model.predict(testX)\n",
    "\n",
    "plt.figure()\n",
    "plt.plot(testY, color='red', label='Real stock price')\n",
    "plt.plot(pred_y, color='blue', label='predicted stock price')\n",
    "plt.title('SEC stock price prediction')\n",
    "plt.xlabel('time')\n",
    "plt.ylabel('stock price')\n",
    "plt.legend()\n",
    "plt.show()"
   ]
  }
 ],
 "metadata": {
  "kernelspec": {
   "display_name": "Python 3 (ipykernel)",
   "language": "python",
   "name": "python3"
  },
  "language_info": {
   "codemirror_mode": {
    "name": "ipython",
    "version": 3
   },
   "file_extension": ".py",
   "mimetype": "text/x-python",
   "name": "python",
   "nbconvert_exporter": "python",
   "pygments_lexer": "ipython3",
   "version": "3.9.18"
  }
 },
 "nbformat": 4,
 "nbformat_minor": 2
}
