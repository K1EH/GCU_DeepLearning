{
 "cells": [
  {
   "cell_type": "code",
   "execution_count": 13,
   "id": "c6e55f42",
   "metadata": {},
   "outputs": [],
   "source": [
    "import pandas as pd\n",
    "import numpy as np\n",
    "from numpy import mean\n",
    "from numpy import std\n",
    "from numpy import dstack\n",
    "from pandas import read_csv\n",
    "from tensorflow.keras.models import Sequential\n",
    "from tensorflow.keras.layers import Dense\n",
    "from tensorflow.keras.layers import Flatten\n",
    "from tensorflow.keras.layers import Dropout\n",
    "from tensorflow.keras.layers import LSTM\n",
    "from tensorflow.keras.layers import Conv1D\n",
    "from tensorflow.keras.layers import MaxPooling1D\n",
    "from tensorflow.keras.utils import to_categorical\n",
    "from matplotlib import pyplot\n",
    "import matplotlib.pyplot as plt\n",
    "from tensorflow.keras.utils import plot_model\n",
    "import tensorflow as tf\n",
    "import zipfile\n",
    "from sklearn.metrics import confusion_matrix, classification_report\n",
    "import seaborn as sns\n",
    "\n",
    "# set seed to reproduce similar results\n",
    "np.random.seed(0)"
   ]
  },
  {
   "cell_type": "code",
   "execution_count": 18,
   "id": "5ff1fe4a",
   "metadata": {},
   "outputs": [],
   "source": [
    "# load a single file as a numpy array\n",
    "def load_file(filepath):\n",
    "    dataframe = read_csv(filepath, header=None, delim_whitespace=True)\n",
    "    return dataframe.values\n",
    " \n",
    "# load a list of files and return as a 3d numpy array\n",
    "def load_group(filenames, prefix=''):\n",
    "\tloaded = list()\n",
    "\tfor name in filenames:\n",
    "\t\tdata = load_file(prefix + name)\n",
    "\t\tloaded.append(data)\n",
    "\t# stack group so that features are the 3rd dimension\n",
    "\tloaded = dstack(loaded)\n",
    "\treturn loaded\n",
    " \n",
    "# load a dataset group, such as train or test\n",
    "def load_dataset_group(group, prefix=''):\n",
    "\tfilepath = prefix + group + '/Inertial_Signals/'\n",
    "\t# load all 9 files as a single array\n",
    "\tfilenames = list()\n",
    "\t# total acceleration\n",
    "\tfilenames += ['total_acc_x_'+group+'.txt', 'total_acc_y_'+group+'.txt', 'total_acc_z_'+group+'.txt']\n",
    "\t# body acceleration\n",
    "\tfilenames += ['body_acc_x_'+group+'.txt', 'body_acc_y_'+group+'.txt', 'body_acc_z_'+group+'.txt']\n",
    "\t# body gyroscope\n",
    "\tfilenames += ['body_gyro_x_'+group+'.txt', 'body_gyro_y_'+group+'.txt', 'body_gyro_z_'+group+'.txt']\n",
    "\t# load input data\n",
    "\tX = load_group(filenames, filepath)\n",
    "\t# load class output\n",
    "\ty = load_file(prefix + group + '/y_'+group+'.txt')\n",
    "\treturn X, y\n",
    "\n",
    "# load the dataset, returns train and test X and y elements\n",
    "def load_dataset(prefix=''):\n",
    "    # load all train\n",
    "    trainX, trainy = load_dataset_group('train', prefix + 'C:/Users/takea/Desktop/DeepLearning/datasets/week3/HAR_Dataset/UCI_HAR_Dataset/')\n",
    "    # load all test\n",
    "    testX, testy = load_dataset_group('test', prefix + 'C:/Users/takea/Desktop/DeepLearning/datasets/week3/HAR_Dataset/UCI_HAR_Dataset/')\n",
    "\n",
    "    # zero-offset class values\n",
    "    trainy = trainy - 1\n",
    "    testy = testy - 1\n",
    "    # one hot encode y\n",
    "    trainy = to_categorical(trainy)\n",
    "    testy = to_categorical(testy)\n",
    "    print(\"trainX shape: \",trainX.shape)\n",
    "    print(\"trainy shape: \", trainy.shape)\n",
    "    print(\"testX shape: \", testX.shape)\n",
    "    print(\"testy shape: \", testy.shape)\n",
    "    return trainX, trainy, testX, testy"
   ]
  },
  {
   "cell_type": "code",
   "execution_count": 19,
   "id": "e4b8f55d",
   "metadata": {},
   "outputs": [
    {
     "name": "stdout",
     "output_type": "stream",
     "text": [
      "trainX shape:  (7352, 128, 9)\n",
      "trainy shape:  (7352, 6)\n",
      "testX shape:  (2947, 128, 9)\n",
      "testy shape:  (2947, 6)\n"
     ]
    }
   ],
   "source": [
    "trainX, trainy, testX, testy = load_dataset()"
   ]
  },
  {
   "cell_type": "code",
   "execution_count": 20,
   "id": "7ddaf4cc",
   "metadata": {},
   "outputs": [],
   "source": [
    "# Helper function to plot distribution of the features\n",
    "def plot_distributions(trainX):\n",
    "\t# remove overlap\n",
    "\tcut = int(trainX.shape[1] / 2)\n",
    "\tlongX = trainX[:, -cut:, :]\n",
    "\t# flatten windows\n",
    "\tlongX = longX.reshape((longX.shape[0] * longX.shape[1], longX.shape[2]))\n",
    "\tprint(longX.shape)\n",
    "\tpyplot.figure()\n",
    "\txaxis = None\n",
    "\tfor i in range(longX.shape[1]):\n",
    "\t\tax = pyplot.subplot(longX.shape[1], 1, i+1, sharex=xaxis)\n",
    "\t\tax.set_xlim(-1, 1)\n",
    "\t\tif i == 0:\n",
    "\t\t\txaxis = ax\n",
    "\t\tpyplot.hist(longX[:, i], bins=100)\n",
    "\tpyplot.show()"
   ]
  },
  {
   "cell_type": "code",
   "execution_count": 21,
   "id": "435a52b7",
   "metadata": {},
   "outputs": [
    {
     "name": "stdout",
     "output_type": "stream",
     "text": [
      "(470528, 9)\n"
     ]
    },
    {
     "data": {
      "image/png": "[encoded data removed]",
      "text/plain": [
       "<Figure size 432x288 with 9 Axes>"
      ]
     },
     "metadata": {
      "needs_background": "light"
     },
     "output_type": "display_data"
    }
   ],
   "source": [
    "# plot distributions\n",
    "plot_distributions(trainX)"
   ]
  },
  {
   "cell_type": "code",
   "execution_count": 22,
   "id": "1c6a479e",
   "metadata": {},
   "outputs": [],
   "source": [
    "## set number of epochs and batch size\n",
    "batch_size = 64\n",
    "validation_split = 0.2"
   ]
  },
  {
   "cell_type": "code",
   "execution_count": 23,
   "id": "2c9e0454",
   "metadata": {},
   "outputs": [
    {
     "name": "stdout",
     "output_type": "stream",
     "text": [
      "You must install pydot (`pip install pydot`) and install graphviz (see instructions at https://graphviz.gitlab.io/download/) for plot_model to work.\n"
     ]
    }
   ],
   "source": [
    "n_timesteps, n_features, n_outputs = trainX.shape[1], trainX.shape[2], trainy.shape[1]\n",
    "model = Sequential()\n",
    "model.add(LSTM(100, input_shape=(n_timesteps,n_features)))\n",
    "model.add(Dropout(0.5))\n",
    "model.add(Dense(100, activation='relu'))\n",
    "model.add(Dense(n_outputs, activation='softmax'))\n",
    "plot_model(model, show_shapes=True, show_layer_names=True)"
   ]
  },
  {
   "cell_type": "code",
   "execution_count": 24,
   "id": "4d5538a9",
   "metadata": {},
   "outputs": [],
   "source": [
    "model.compile(loss='categorical_crossentropy', optimizer='adam', metrics=['accuracy'])"
   ]
  },
  {
   "cell_type": "code",
   "execution_count": 25,
   "id": "6302e669",
   "metadata": {},
   "outputs": [
    {
     "name": "stdout",
     "output_type": "stream",
     "text": [
      "Epoch 1/10\n",
      "92/92 [==============================] - 78s 577ms/step - loss: 1.1967 - accuracy: 0.4885 - val_loss: 1.0209 - val_accuracy: 0.5887\n",
      "Epoch 2/10\n",
      "92/92 [==============================] - 46s 499ms/step - loss: 0.8226 - accuracy: 0.6495 - val_loss: 0.8727 - val_accuracy: 0.7213\n",
      "Epoch 3/10\n",
      "92/92 [==============================] - 51s 551ms/step - loss: 0.5964 - accuracy: 0.7517 - val_loss: 0.7690 - val_accuracy: 0.7369\n",
      "Epoch 4/10\n",
      "92/92 [==============================] - 53s 574ms/step - loss: 0.4389 - accuracy: 0.8274 - val_loss: 0.6494 - val_accuracy: 0.8389\n",
      "Epoch 5/10\n",
      "92/92 [==============================] - 50s 546ms/step - loss: 0.3331 - accuracy: 0.8871 - val_loss: 0.5607 - val_accuracy: 0.8702\n",
      "Epoch 6/10\n",
      "92/92 [==============================] - 47s 509ms/step - loss: 0.3278 - accuracy: 0.8808 - val_loss: 0.5478 - val_accuracy: 0.8355\n",
      "Epoch 7/10\n",
      "92/92 [==============================] - 48s 521ms/step - loss: 0.2474 - accuracy: 0.9145 - val_loss: 0.4758 - val_accuracy: 0.8783\n",
      "Epoch 8/10\n",
      "92/92 [==============================] - 52s 565ms/step - loss: 0.2129 - accuracy: 0.9339 - val_loss: 0.4212 - val_accuracy: 0.8960\n",
      "Epoch 9/10\n",
      "92/92 [==============================] - 50s 540ms/step - loss: 0.1510 - accuracy: 0.9425 - val_loss: 0.4377 - val_accuracy: 0.8695\n",
      "Epoch 10/10\n",
      "92/92 [==============================] - 47s 506ms/step - loss: 0.1496 - accuracy: 0.9451 - val_loss: 0.5048 - val_accuracy: 0.8980\n"
     ]
    }
   ],
   "source": [
    "# fit network\n",
    "train_epochs = 10\n",
    "history = model.fit(trainX, trainy, epochs=train_epochs, batch_size=batch_size, verbose=True,  validation_split=validation_split, shuffle=True)"
   ]
  },
  {
   "cell_type": "code",
   "execution_count": 26,
   "id": "303d0acb",
   "metadata": {},
   "outputs": [
    {
     "data": {
      "text/plain": [
       "<matplotlib.legend.Legend at 0x21f8dfed8b0>"
      ]
     },
     "execution_count": 26,
     "metadata": {},
     "output_type": "execute_result"
    },
    {
     "data": {
      "image/png": "[encoded data removed]",
      "text/plain": [
       "<Figure size 432x288 with 1 Axes>"
      ]
     },
     "metadata": {
      "needs_background": "light"
     },
     "output_type": "display_data"
    }
   ],
   "source": [
    "plt.plot(history.history['loss'])\n",
    "plt.plot(history.history['val_loss'])\n",
    "plt.title('model loss')\n",
    "plt.ylabel('loss')\n",
    "plt.xlabel('epoch')\n",
    "plt.legend(['train', 'Validation'], loc='upper left')"
   ]
  },
  {
   "cell_type": "code",
   "execution_count": 27,
   "id": "88cd2fef",
   "metadata": {},
   "outputs": [
    {
     "name": "stdout",
     "output_type": "stream",
     "text": [
      "Accuracy of the LSTM model 0.8876823782920837\n",
      "93/93 [==============================] - 17s 133ms/step\n"
     ]
    }
   ],
   "source": [
    "# evaluate model\n",
    "test_loss, test_accuracy = model.evaluate(testX, testy, batch_size=batch_size, verbose=0)\n",
    "print(\"Accuracy of the LSTM model\", test_accuracy)\n",
    "# Get the predictions for the test set\n",
    "predictions = model.predict(testX)"
   ]
  },
  {
   "cell_type": "code",
   "execution_count": 28,
   "id": "5a4206fa",
   "metadata": {},
   "outputs": [
    {
     "data": {
      "text/plain": [
       "array([[2.5056265e-04, 2.8136425e-04, 4.2672349e-07, 2.6968189e-03,\n",
       "        9.9677026e-01, 5.8442225e-07],\n",
       "       [1.9902944e-04, 2.1936356e-04, 3.1478658e-07, 2.4010213e-03,\n",
       "        9.9717987e-01, 4.2474207e-07],\n",
       "       [1.9266142e-04, 2.1758089e-04, 2.9144834e-07, 2.2219140e-03,\n",
       "        9.9736720e-01, 3.9293533e-07],\n",
       "       ...,\n",
       "       [9.9365669e-04, 9.9785560e-01, 1.1262780e-03, 4.0018364e-07,\n",
       "        2.3750474e-05, 3.0578536e-07],\n",
       "       [1.8977338e-03, 9.9734157e-01, 6.6019309e-04, 1.8795072e-06,\n",
       "        9.6184522e-05, 2.3339951e-06],\n",
       "       [8.2443043e-04, 9.9893612e-01, 2.0930980e-04, 2.5734951e-07,\n",
       "        2.9474726e-05, 3.7191168e-07]], dtype=float32)"
      ]
     },
     "execution_count": 28,
     "metadata": {},
     "output_type": "execute_result"
    }
   ],
   "source": [
    "predictions"
   ]
  },
  {
   "cell_type": "code",
   "execution_count": 29,
   "id": "310a5da8",
   "metadata": {},
   "outputs": [],
   "source": [
    "def display_results(testy,predictions,classNames):\n",
    "    y_test=np.argmax(testy, axis=1)\n",
    "    y_scores=np.argmax(predictions, axis=1)\n",
    "    classes = len(classNames)\n",
    "    cm = confusion_matrix(y_test, y_scores)\n",
    "    print(\"**** Confusion Matrix ****\")\n",
    "    print(cm)\n",
    "    print(\"**** Classification Report ****\")\n",
    "    print(classification_report(y_test, y_scores, target_names=classNames))\n",
    "    con = np.zeros((classes,classes))\n",
    "    for x in range(classes):\n",
    "        for y in range(classes):\n",
    "            con[x,y] = cm[x,y] #/np.sum(cm[x,:])\n",
    "\n",
    "    plt.figure(figsize=(10,8))\n",
    "    df = sns.heatmap(con, annot=True, fmt='g', cmap='Blues',xticklabels= classNames , yticklabels= classNames)\n",
    "    plt.xlabel('Predicted')\n",
    "    plt.ylabel('Actual')\n",
    "    plt.show()"
   ]
  },
  {
   "cell_type": "code",
   "execution_count": 30,
   "id": "4ed4c9e9",
   "metadata": {},
   "outputs": [
    {
     "name": "stdout",
     "output_type": "stream",
     "text": [
      "**** Confusion Matrix ****\n",
      "[[485   3   8   0   0   0]\n",
      " [ 14 421  36   0   0   0]\n",
      " [  6  16 398   0   0   0]\n",
      " [  1  21   0 417  49   3]\n",
      " [  2   0   0 129 401   0]\n",
      " [  0  27  16   0   0 494]]\n",
      "**** Classification Report ****\n",
      "              precision    recall  f1-score   support\n",
      "\n",
      "           1       0.95      0.98      0.97       496\n",
      "           2       0.86      0.89      0.88       471\n",
      "           3       0.87      0.95      0.91       420\n",
      "           4       0.76      0.85      0.80       491\n",
      "           5       0.89      0.75      0.82       532\n",
      "           6       0.99      0.92      0.96       537\n",
      "\n",
      "    accuracy                           0.89      2947\n",
      "   macro avg       0.89      0.89      0.89      2947\n",
      "weighted avg       0.89      0.89      0.89      2947\n",
      "\n"
     ]
    },
    {
     "data": {
      "image/png": "[encoded data removed]",
      "text/plain": [
       "<Figure size 720x576 with 2 Axes>"
      ]
     },
     "metadata": {
      "needs_background": "light"
     },
     "output_type": "display_data"
    }
   ],
   "source": [
    "classNames=[\"1\",\"2\",\"3\",\"4\",\"5\",\"6\"]\n",
    "display_results(testy,predictions,classNames)"
   ]
  },
  {
   "cell_type": "code",
   "execution_count": 31,
   "id": "d4a821be",
   "metadata": {},
   "outputs": [
    {
     "name": "stdout",
     "output_type": "stream",
     "text": [
      "You must install pydot (`pip install pydot`) and install graphviz (see instructions at https://graphviz.gitlab.io/download/) for plot_model to work.\n"
     ]
    }
   ],
   "source": [
    "n_timesteps, n_features, n_outputs = trainX.shape[1], trainX.shape[2], trainy.shape[1]\n",
    "model = Sequential()\n",
    "model.add(Conv1D(filters=64, kernel_size=4, activation='relu', input_shape=(n_timesteps,n_features)))\n",
    "model.add(Conv1D(filters=64, kernel_size=4, activation='relu', input_shape=(n_timesteps,n_features)))\n",
    "model.add(Dropout(0.5))\n",
    "model.add(MaxPooling1D(pool_size=2))\n",
    "model.add(Flatten())\n",
    "model.add(Dense(100, activation='relu'))\n",
    "model.add(Dense(n_outputs, activation='softmax'))\n",
    "plot_model(model, show_shapes=True, show_layer_names=True)"
   ]
  },
  {
   "cell_type": "code",
   "execution_count": 32,
   "id": "bbdc1fe3",
   "metadata": {},
   "outputs": [],
   "source": [
    "model.compile(loss='categorical_crossentropy', optimizer='adam', metrics=['accuracy'])"
   ]
  },
  {
   "cell_type": "code",
   "execution_count": 33,
   "id": "c0a8cdf0",
   "metadata": {},
   "outputs": [
    {
     "name": "stdout",
     "output_type": "stream",
     "text": [
      "Epoch 1/20\n",
      "92/92 [==============================] - 21s 146ms/step - loss: 0.4947 - accuracy: 0.7953 - val_loss: 0.3905 - val_accuracy: 0.8967\n",
      "Epoch 2/20\n",
      "92/92 [==============================] - 11s 116ms/step - loss: 0.1543 - accuracy: 0.9413 - val_loss: 0.2856 - val_accuracy: 0.9089\n",
      "Epoch 3/20\n",
      "92/92 [==============================] - 10s 114ms/step - loss: 0.1147 - accuracy: 0.9532 - val_loss: 0.2870 - val_accuracy: 0.9123\n",
      "Epoch 4/20\n",
      "92/92 [==============================] - 11s 116ms/step - loss: 0.0943 - accuracy: 0.9572 - val_loss: 0.3007 - val_accuracy: 0.9048\n",
      "Epoch 5/20\n",
      "92/92 [==============================] - 11s 116ms/step - loss: 0.0870 - accuracy: 0.9616 - val_loss: 0.2810 - val_accuracy: 0.9137\n",
      "Epoch 6/20\n",
      "92/92 [==============================] - 11s 115ms/step - loss: 0.0882 - accuracy: 0.9563 - val_loss: 0.2705 - val_accuracy: 0.9116\n",
      "Epoch 7/20\n",
      "92/92 [==============================] - 10s 112ms/step - loss: 0.0798 - accuracy: 0.9609 - val_loss: 0.2837 - val_accuracy: 0.9103\n",
      "Epoch 8/20\n",
      "92/92 [==============================] - 9s 103ms/step - loss: 0.0737 - accuracy: 0.9653 - val_loss: 0.3289 - val_accuracy: 0.9089\n",
      "Epoch 9/20\n",
      "92/92 [==============================] - 11s 119ms/step - loss: 0.0806 - accuracy: 0.9640 - val_loss: 0.3818 - val_accuracy: 0.8939\n",
      "Epoch 10/20\n",
      "92/92 [==============================] - 11s 116ms/step - loss: 0.0996 - accuracy: 0.9583 - val_loss: 0.3076 - val_accuracy: 0.9137\n",
      "Epoch 11/20\n",
      "92/92 [==============================] - 10s 110ms/step - loss: 0.0776 - accuracy: 0.9655 - val_loss: 0.3518 - val_accuracy: 0.9089\n",
      "Epoch 12/20\n",
      "92/92 [==============================] - 10s 114ms/step - loss: 0.0747 - accuracy: 0.9646 - val_loss: 0.2843 - val_accuracy: 0.8967\n",
      "Epoch 13/20\n",
      "92/92 [==============================] - 10s 111ms/step - loss: 0.0683 - accuracy: 0.9658 - val_loss: 0.3462 - val_accuracy: 0.9062\n",
      "Epoch 14/20\n",
      "92/92 [==============================] - 10s 113ms/step - loss: 0.0671 - accuracy: 0.9696 - val_loss: 0.3870 - val_accuracy: 0.9096\n",
      "Epoch 15/20\n",
      "92/92 [==============================] - 12s 133ms/step - loss: 0.0662 - accuracy: 0.9665 - val_loss: 0.3462 - val_accuracy: 0.9069\n",
      "Epoch 16/20\n",
      "92/92 [==============================] - 11s 121ms/step - loss: 0.0620 - accuracy: 0.9714 - val_loss: 0.3769 - val_accuracy: 0.9014\n",
      "Epoch 17/20\n",
      "92/92 [==============================] - 10s 114ms/step - loss: 0.0674 - accuracy: 0.9677 - val_loss: 0.3781 - val_accuracy: 0.9014\n",
      "Epoch 18/20\n",
      "92/92 [==============================] - 10s 113ms/step - loss: 0.0585 - accuracy: 0.9713 - val_loss: 0.4590 - val_accuracy: 0.8926\n",
      "Epoch 19/20\n",
      "92/92 [==============================] - 14s 148ms/step - loss: 0.0519 - accuracy: 0.9765 - val_loss: 0.5043 - val_accuracy: 0.8946\n",
      "Epoch 20/20\n",
      "92/92 [==============================] - 11s 116ms/step - loss: 0.0583 - accuracy: 0.9736 - val_loss: 0.6062 - val_accuracy: 0.8899\n"
     ]
    }
   ],
   "source": [
    "# fit network\n",
    "train_epochs = 20\n",
    "history = model.fit(trainX, trainy, epochs=train_epochs, batch_size=batch_size, verbose=True,  validation_split=validation_split, shuffle=True)"
   ]
  },
  {
   "cell_type": "code",
   "execution_count": 34,
   "id": "55114130",
   "metadata": {},
   "outputs": [
    {
     "data": {
      "text/plain": [
       "<matplotlib.legend.Legend at 0x21f8dcfb550>"
      ]
     },
     "execution_count": 34,
     "metadata": {},
     "output_type": "execute_result"
    },
    {
     "data": {
      "image/png": "[encoded data removed]",
      "text/plain": [
       "<Figure size 432x288 with 1 Axes>"
      ]
     },
     "metadata": {
      "needs_background": "light"
     },
     "output_type": "display_data"
    }
   ],
   "source": [
    "plt.plot(history.history['loss'])\n",
    "plt.plot(history.history['val_loss'])\n",
    "plt.title('model loss')\n",
    "plt.ylabel('loss')\n",
    "plt.xlabel('epoch')\n",
    "plt.legend(['train', 'Validation'], loc='upper left')"
   ]
  },
  {
   "cell_type": "code",
   "execution_count": 35,
   "id": "c4c87edf",
   "metadata": {},
   "outputs": [
    {
     "name": "stdout",
     "output_type": "stream",
     "text": [
      "Accuracy of the CNN model 0.8887003660202026\n",
      "93/93 [==============================] - 5s 24ms/step\n"
     ]
    }
   ],
   "source": [
    "# evaluate model\n",
    "test_loss, test_accuracy = model.evaluate(testX, testy, batch_size=batch_size, verbose=0)\n",
    "print(\"Accuracy of the CNN model\", test_accuracy)\n",
    "predictions=model.predict(testX)"
   ]
  },
  {
   "cell_type": "code",
   "execution_count": 36,
   "id": "237de34f",
   "metadata": {},
   "outputs": [
    {
     "name": "stdout",
     "output_type": "stream",
     "text": [
      "**** Confusion Matrix ****\n",
      "[[432   3  61   0   0   0]\n",
      " [  1 414  56   0   0   0]\n",
      " [  0   0 420   0   0   0]\n",
      " [  1  25   0 424  41   0]\n",
      " [  3   6   2  86 435   0]\n",
      " [  0  27  16   0   0 494]]\n",
      "**** Classification Report ****\n",
      "              precision    recall  f1-score   support\n",
      "\n",
      "           1       0.99      0.87      0.93       496\n",
      "           2       0.87      0.88      0.88       471\n",
      "           3       0.76      1.00      0.86       420\n",
      "           4       0.83      0.86      0.85       491\n",
      "           5       0.91      0.82      0.86       532\n",
      "           6       1.00      0.92      0.96       537\n",
      "\n",
      "    accuracy                           0.89      2947\n",
      "   macro avg       0.89      0.89      0.89      2947\n",
      "weighted avg       0.90      0.89      0.89      2947\n",
      "\n"
     ]
    },
    {
     "data": {
      "image/png": "[encoded data removed]",
      "text/plain": [
       "<Figure size 720x576 with 2 Axes>"
      ]
     },
     "metadata": {
      "needs_background": "light"
     },
     "output_type": "display_data"
    }
   ],
   "source": [
    "display_results(testy,predictions,classNames)"
   ]
  },
  {
   "cell_type": "code",
   "execution_count": 37,
   "id": "8db3cbd2",
   "metadata": {},
   "outputs": [
    {
     "data": {
      "text/plain": [
       "(128, 9)"
      ]
     },
     "execution_count": 37,
     "metadata": {},
     "output_type": "execute_result"
    }
   ],
   "source": [
    "# we will select the first sample from the test set\n",
    "sample = testX[0]\n",
    "sample.shape"
   ]
  },
  {
   "cell_type": "code",
   "execution_count": 38,
   "id": "b4fcd896",
   "metadata": {},
   "outputs": [
    {
     "name": "stdout",
     "output_type": "stream",
     "text": [
      "1/1 [==============================] - 0s 235ms/step\n"
     ]
    }
   ],
   "source": [
    "# predict the results using the model, we need to input in the form of (numberOfSamples,featureLength,numberOfFeatures)\n",
    "predictionForSample = model.predict(sample.reshape(1,sample.shape[0],sample.shape[1]))"
   ]
  },
  {
   "cell_type": "code",
   "execution_count": 39,
   "id": "0ee48ba8",
   "metadata": {},
   "outputs": [
    {
     "name": "stdout",
     "output_type": "stream",
     "text": [
      "Actual class:  4\n",
      "Predicted class:  4\n"
     ]
    }
   ],
   "source": [
    "# get the class of the sample\n",
    "samplePredictedClass = np.argmax(predictionForSample, axis=1)\n",
    "sampleActualClass = np.argmax(testy, axis=1)\n",
    "print(\"Actual class: \",sampleActualClass[0])\n",
    "print(\"Predicted class: \",samplePredictedClass[0])"
   ]
  },
  {
   "cell_type": "code",
   "execution_count": null,
   "id": "442c6855",
   "metadata": {},
   "outputs": [],
   "source": []
  }
 ],
 "metadata": {
  "kernelspec": {
   "display_name": "Python 3 (ipykernel)",
   "language": "python",
   "name": "python3"
  },
  "language_info": {
   "codemirror_mode": {
    "name": "ipython",
    "version": 3
   },
   "file_extension": ".py",
   "mimetype": "text/x-python",
   "name": "python",
   "nbconvert_exporter": "python",
   "pygments_lexer": "ipython3",
   "version": "3.9.7"
  }
 },
 "nbformat": 4,
 "nbformat_minor": 5
}
